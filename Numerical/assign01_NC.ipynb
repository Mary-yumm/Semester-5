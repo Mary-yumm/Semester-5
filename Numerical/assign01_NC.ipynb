{
  "cells": [
    {
      "cell_type": "markdown",
      "id": "87674f1f",
      "metadata": {
        "id": "87674f1f"
      },
      "source": [
        "# Part 1 [30 marks]"
      ]
    },
    {
      "cell_type": "markdown",
      "id": "78e07f99",
      "metadata": {
        "id": "78e07f99"
      },
      "source": [
        "### Task 1: Create and Analyze Basic Matrices"
      ]
    },
    {
      "cell_type": "markdown",
      "id": "d84bfb9a",
      "metadata": {},
      "source": [
        "***TODO: Import necessary libraries (numpy, scipy, matplotlib)***"
      ]
    },
    {
      "cell_type": "code",
      "execution_count": null,
      "id": "f83cc0fe",
      "metadata": {},
      "outputs": [],
      "source": [
        "!pip install numpy"
      ]
    },
    {
      "cell_type": "code",
      "execution_count": null,
      "id": "b08ca2ea",
      "metadata": {},
      "outputs": [],
      "source": [
        "!pip install scipy"
      ]
    },
    {
      "cell_type": "code",
      "execution_count": null,
      "id": "a6749208",
      "metadata": {},
      "outputs": [],
      "source": [
        "!pip install matplotlib"
      ]
    },
    {
      "cell_type": "code",
      "execution_count": 5,
      "id": "d72eb2f0",
      "metadata": {
        "id": "d72eb2f0"
      },
      "outputs": [],
      "source": [
        "import numpy as np\n",
        "import scipy as sp\n",
        "import matplotlib as mp"
      ]
    },
    {
      "cell_type": "markdown",
      "id": "95f548bf",
      "metadata": {
        "id": "95f548bf"
      },
      "source": [
        "***TODO: Create a 3x3 Toeplitz matrix using scipy***"
      ]
    },
    {
      "cell_type": "code",
      "execution_count": 7,
      "id": "662cb15f",
      "metadata": {},
      "outputs": [
        {
          "name": "stdout",
          "output_type": "stream",
          "text": [
            "[[1 5 6]\n",
            " [2 1 5]\n",
            " [3 2 1]]\n"
          ]
        }
      ],
      "source": [
        "from scipy.linalg import toeplitz\n",
        "\n",
        "first_column_toeplitz = [1, 2, 3]\n",
        "first_row_toeplitz = [1, 4, 5]\n",
        "\n",
        "toeplitz_matrix  = sp.linalg.toeplitz([1,2,3],[4,5,6])\n",
        "\n",
        "print(toeplitz_matrix)"
      ]
    },
    {
      "cell_type": "markdown",
      "id": "ca927f93",
      "metadata": {
        "id": "ca927f93"
      },
      "source": [
        "***TODO: Create a 3x3 Circulant matrix using scipy.linalg.circulant***"
      ]
    },
    {
      "cell_type": "code",
      "execution_count": 14,
      "id": "bd671795",
      "metadata": {},
      "outputs": [
        {
          "name": "stdout",
          "output_type": "stream",
          "text": [
            "[[1 7 5]\n",
            " [5 1 7]\n",
            " [7 5 1]]\n"
          ]
        }
      ],
      "source": [
        "from scipy.linalg import circulant\n",
        "\n",
        "first_row_circulant = [1, 2, 3]\n",
        "\n",
        "circulant_matrix  = sp.linalg.circulant([1,5,7])\n",
        "print(circulant_matrix)"
      ]
    },
    {
      "cell_type": "markdown",
      "id": "5cc4cbf6",
      "metadata": {
        "id": "5cc4cbf6"
      },
      "source": [
        "***TODO: Compute the determinant of both matrices using numpy.linalg.det***"
      ]
    },
    {
      "cell_type": "code",
      "execution_count": 15,
      "id": "5a56daa2",
      "metadata": {},
      "outputs": [],
      "source": [
        "import numpy as np\n",
        "\n",
        "toeplitz_det = np.linalg.det(toeplitz_matrix)\n",
        "circulant_det = np.linalg.det(circulant_matrix)"
      ]
    },
    {
      "cell_type": "markdown",
      "id": "704943d4",
      "metadata": {
        "id": "704943d4"
      },
      "source": [
        "***TODO: Compute the inverse of both matrices using numpy.linalg.inv***"
      ]
    },
    {
      "cell_type": "code",
      "execution_count": 16,
      "id": "cb10b3ce",
      "metadata": {},
      "outputs": [],
      "source": [
        "def is_invertible(matrix):\n",
        "    try:\n",
        "        np.linalg.inv(matrix)\n",
        "        return True\n",
        "    except np.linalg.LinAlgError:\n",
        "        return False"
      ]
    },
    {
      "cell_type": "code",
      "execution_count": 17,
      "id": "25ecb8ea",
      "metadata": {},
      "outputs": [
        {
          "name": "stdout",
          "output_type": "stream",
          "text": [
            "Is matrix toeplitz invertible? True\n",
            "Is matrix circulant invertible? True\n"
          ]
        }
      ],
      "source": [
        "try:\n",
        "    toeplitz_inv = np.linalg.inv(toeplitz_matrix)\n",
        "except np.linalg.LinAlgError:\n",
        "    print(\"Toeplitz Matrix is singular and has no inverse.\")\n",
        "\n",
        "try:\n",
        "    circulant_inv = np.linalg.inv(circulant_matrix)\n",
        "except np.linalg.LinAlgError:\n",
        "    print(\"Circulant Matrix is singular and has no inverse.\")\n",
        "\n",
        "print(f\"Is matrix toeplitz invertible? {is_invertible(toeplitz_matrix)}\")\n",
        "print(f\"Is matrix circulant invertible? {is_invertible(circulant_matrix)}\")\n",
        "\n"
      ]
    },
    {
      "cell_type": "markdown",
      "id": "71d02fb2",
      "metadata": {
        "id": "71d02fb2",
        "outputId": "118342ee-3842-4337-d916-21b50a808012"
      },
      "source": [
        "***TODO: Print the Toeplitz matrix, Circulant matrix, their determinants, and inverses, your results should look like the following***"
      ]
    },
    {
      "cell_type": "code",
      "execution_count": 13,
      "id": "e6b6e39f",
      "metadata": {},
      "outputs": [
        {
          "name": "stdout",
          "output_type": "stream",
          "text": [
            "Toeplitz Matrix:\n",
            " [[1 5 6]\n",
            " [2 1 5]\n",
            " [3 2 1]]\n",
            "Circulant Matrix:\n",
            " [[1 3 2]\n",
            " [2 1 3]\n",
            " [3 2 1]]\n",
            "Toeplitz Matrix Determinant:\n",
            " 62.00000000000001\n",
            "Circulant Matrix Determinant:\n",
            " 17.999999999999996\n",
            "Toeplitz Matrix Inverse:\n",
            " [[-0.15  0.11  0.31]\n",
            " [ 0.21 -0.27  0.11]\n",
            " [ 0.02  0.21 -0.15]]\n",
            "Circulant Matrix Inverse:\n",
            " [[-0.28  0.06  0.39]\n",
            " [ 0.39 -0.28  0.06]\n",
            " [ 0.06  0.39 -0.28]]\n"
          ]
        }
      ],
      "source": [
        "np.set_printoptions(precision=2)\n",
        "print(f\"Toeplitz Matrix:\\n {toeplitz_matrix}\")\n",
        "print(f\"Circulant Matrix:\\n {circulant_matrix}\")\n",
        "\n",
        "print(f\"Toeplitz Matrix Determinant:\\n {toeplitz_det}\")\n",
        "print(f\"Circulant Matrix Determinant:\\n {circulant_det}\")\n",
        "print(f\"Toeplitz Matrix Inverse:\\n {toeplitz_inv}\")\n",
        "print(f\"Circulant Matrix Inverse:\\n {circulant_inv}\")\n"
      ]
    },
    {
      "cell_type": "markdown",
      "id": "e57fb439",
      "metadata": {
        "id": "e57fb439"
      },
      "source": [
        "# Part 2 [50 marks]"
      ]
    },
    {
      "cell_type": "markdown",
      "id": "5e259d9f",
      "metadata": {
        "id": "5e259d9f"
      },
      "source": [
        "**Tasks : Generate and Solve Linear Systems**"
      ]
    },
    {
      "cell_type": "code",
      "execution_count": 18,
      "id": "39e0f3db",
      "metadata": {
        "id": "39e0f3db"
      },
      "outputs": [
        {
          "name": "stdout",
          "output_type": "stream",
          "text": [
            "Extended Toeplitz matrix: (3000, 3000)\n",
            "Is matrix toeplitz ext invertible? True\n"
          ]
        }
      ],
      "source": [
        "# TODO: convert the above 3x3 into 3000x3000:\n",
        "    # 1. A 3000x3000 Toeplitz matrix using scipy.linalg.toeplitz\n",
        "\n",
        "n = 3000\n",
        "\n",
        "extended_first_column = np.resize(first_column_toeplitz, n)\n",
        "extended_first_row = np.resize(first_row_toeplitz, n)\n",
        "extended_toeplitz = toeplitz(extended_first_column, extended_first_row)\n",
        "print(f\"Extended Toeplitz matrix: {extended_toeplitz.shape}\")\n",
        "print(f\"Is matrix toeplitz ext invertible? {is_invertible(extended_toeplitz)}\")\n"
      ]
    },
    {
      "cell_type": "code",
      "execution_count": 26,
      "id": "416258ab",
      "metadata": {},
      "outputs": [
        {
          "name": "stdout",
          "output_type": "stream",
          "text": [
            "Extended Circulant matrix shape: (3000, 3000)\n",
            "Is matrix circulant ext invertible? False\n"
          ]
        }
      ],
      "source": [
        "     # 2. A 3000x3000 Circulant matrix using scipy.linalg.circulant\n",
        "#modified_first_row_circulant = [1, 2, 3] + [0.001] * (n - 3)\n",
        "modified_first_row_circulant = [1.5, 3.5, 1.8]\n",
        "\n",
        "extended_first_row_circulant = np.resize(modified_first_row_circulant,n)\n",
        "#extended_circulant = circulant(extended_first_row_circulant)\n",
        "extended_circulant = sp.linalg.circulant(extended_first_row_circulant)\n",
        "print(f\"Extended Circulant matrix shape: {extended_circulant.shape}\")\n",
        "print(f\"Is matrix circulant ext invertible? {is_invertible(extended_circulant)}\")"
      ]
    },
    {
      "cell_type": "code",
      "execution_count": null,
      "id": "cb1fb3cc",
      "metadata": {
        "id": "cb1fb3cc"
      },
      "outputs": [],
      "source": [
        "# TODO: Create corresponding random vectors b for each system\n",
        "\n",
        "b_toeplitz = np.random.rand(3000)\n",
        "b_circulant = np.random.rand(3000)\n",
        "print(f\"vector toeplitz: {b_toeplitz}\")\n",
        "print(f\"vector circulant: {b_circulant}\")"
      ]
    },
    {
      "cell_type": "code",
      "execution_count": null,
      "id": "fdbc5d47",
      "metadata": {
        "id": "fdbc5d47"
      },
      "outputs": [],
      "source": [
        "# TODO: Solve each system Ax = b using numpy's general-purpose solver\n",
        "\n",
        "try:\n",
        "    x_toeplitz = np.linalg.solve(extended_toeplitz, b_toeplitz)\n",
        "    print(f\"Solution for Toeplitz system computed successfully.\")\n",
        "    print(f\"Toeplitz solution (first 10 elements): {x_toeplitz[:10]}\")\n",
        "\n",
        "except np.linalg.LinAlgError:\n",
        "    print(f\"Toeplitz matrix is singular or not invertible.\")\n",
        "\n",
        "try:\n",
        "    x_circulant = np.linalg.solve(extended_circulant, b_circulant)\n",
        "    print(f\"Solution for Circulant system computed successfully.\")\n",
        "    print(f\"Circulant solution (first 10 elements): {x_circulant[:10]}\")\n",
        "except np.linalg.LinAlgError:\n",
        "    print(f\"Circulant matrix is singular or not invertible.\")\n"
      ]
    },
    {
      "cell_type": "code",
      "execution_count": null,
      "id": "04efb038",
      "metadata": {
        "id": "04efb038"
      },
      "outputs": [],
      "source": [
        "# TODO: Solve above toeplitz system using scipy's specialized solvers\n",
        "from scipy.linalg import solve_toeplitz\n",
        "try:\n",
        "    x_toeplitz_specialized = solve_toeplitz((extended_first_column, extended_first_row), b_toeplitz)\n",
        "    print(f\"Solution for Toeplitz system (specialized solver) computed successfully.\")\n",
        "    print(f\"Specialized Toeplitz solution (first 10 elements): {x_toeplitz_specialized[:10]}\")\n",
        "except np.linalg.LinAlgError:\n",
        "    print(f\"Toeplitz matrix is singular or not invertible using the specialized solver.\")"
      ]
    },
    {
      "cell_type": "code",
      "execution_count": null,
      "id": "8036b94d",
      "metadata": {
        "id": "8036b94d"
      },
      "outputs": [],
      "source": [
        "# TODO: Solve above circulant system using scipy's specialized solvers\n",
        "from scipy.linalg import solve_circulant\n",
        "try:\n",
        "    x_circulant_specialized = solve_circulant(extended_first_row_circulant,b_circulant)\n",
        "    print(f\"Solution for Circulant system (specialized solver) computed successfully.\")\n",
        "    print(f\"Specialized Circulant solution (first 10 elements): {x_circulant_specialized[:10]}\")\n",
        "except np.linalg.LinAlgError:\n",
        "    print(f\"Circulant matrix is singular or not invertible using the specialized solver.\")"
      ]
    },
    {
      "cell_type": "code",
      "execution_count": null,
      "id": "e223e594",
      "metadata": {
        "id": "e223e594",
        "outputId": "90eaafd5-2be3-4257-8d2e-d41063a528ae"
      },
      "outputs": [],
      "source": [
        "# Task 2: Compare execution times (import time library here) toeplitz system using scipy's specialized solvers Vs Numpy solution for same system, make sure your results look like in following formate\n",
        "# Time scipy's specialized solver\n",
        "import time\n",
        "start_time_specialized = time.time()\n",
        "x_toeplitz_specialized = solve_toeplitz((extended_first_column, extended_first_row), b_toeplitz)\n",
        "time_specialized_toeplitz = time.time() - start_time_specialized\n",
        "\n",
        "# Time NumPy's general solver\n",
        "start_time_numpy = time.time()\n",
        "x_toeplitz_numpy = np.linalg.solve(extended_toeplitz, b_toeplitz)\n",
        "time_numpy_toeplitz = time.time() - start_time_numpy\n",
        "\n",
        "print(f\"Execution Time Comparison:\")\n",
        "print(f\"----------------------------\")\n",
        "print(f\"Toeplitz system (scipy specialized solver): {time_specialized_toeplitz:.6f} seconds\")\n",
        "print(f\"Toeplitz system (numpy general solver): {time_numpy_toeplitz:.6f} seconds\")"
      ]
    },
    {
      "cell_type": "code",
      "execution_count": null,
      "id": "2181d647",
      "metadata": {
        "id": "2181d647",
        "outputId": "6a0b37fb-78eb-46ce-833d-377dbaa833a6"
      },
      "outputs": [],
      "source": [
        "\n",
        "# Task 2: plot the Comparison using plt.plot Execution Times toeplitz system using scipy's specialized solvers Vs Numpy solution for same system\n",
        "import matplotlib.pyplot as plt\n",
        "\n",
        "execution_times = [time_specialized_toeplitz, time_numpy_toeplitz]\n",
        "methods = ['Scipy Specialized Solver', 'NumPy General Solver']\n",
        "\n",
        "plt.figure(figsize=(10, 6))\n",
        "plt.bar(methods, execution_times, color=['orange', 'purple'])\n",
        "plt.ylabel('Execution Time (seconds)')\n",
        "plt.title('Comparison of Execution Times: Toeplitz System Solvers')\n",
        "plt.show()\n"
      ]
    },
    {
      "cell_type": "code",
      "execution_count": null,
      "id": "33f42919",
      "metadata": {
        "id": "33f42919",
        "outputId": "b01798ed-2ce3-4549-aeb3-810cb60a762b"
      },
      "outputs": [],
      "source": [
        "# TODO: Compare Execution Times circulant system using scipy's specialized solvers Vs Numpy solution for same system\n",
        "\n",
        "import time\n",
        "start_time_specialized = time.time()\n",
        "x_circulant_specialized = solve_circulant(extended_first_row_circulant, b_circulant)\n",
        "time_specialized_circulant = time.time() - start_time_specialized\n",
        "\n",
        "start_time_numpy = time.time()\n",
        "x_circulant_numpy = np.linalg.solve(extended_circulant, b_circulant)\n",
        "time_numpy_circulant = time.time() - start_time_numpy\n",
        "\n",
        "print(f\"Execution Time Comparison:\")\n",
        "print(f\"----------------------------\")\n",
        "print(f\"Circulant system (Scipy specialized solver): {time_specialized_circulant:.6f} seconds\")\n",
        "print(f\"Circulant system (NumPy general solver): {time_numpy_circulant:.6f} seconds\")"
      ]
    },
    {
      "cell_type": "code",
      "execution_count": null,
      "id": "7f442c7c",
      "metadata": {
        "id": "7f442c7c",
        "outputId": "915c24ff-a029-4999-e70e-0fca546b4605"
      },
      "outputs": [],
      "source": [
        "# TODO: plot the Comparison using plt.plot Execution Times circulant system using scipy's specialized solvers Vs Numpy solution for same system\n",
        "execution_times = [time_specialized_circulant, time_numpy_circulant]\n",
        "methods = ['Scipy Specialized Solver', 'NumPy General Solver']\n",
        "\n",
        "plt.figure(figsize=(10, 6))\n",
        "plt.bar(methods, execution_times, color=['orange', 'purple'])\n",
        "plt.ylabel('Execution Time (seconds)')\n",
        "plt.title('Comparison of Execution Times: Circulant System Solvers')\n",
        "plt.show()\n",
        "\n"
      ]
    },
    {
      "cell_type": "code",
      "execution_count": null,
      "id": "89d9b1e0",
      "metadata": {
        "id": "89d9b1e0"
      },
      "outputs": [],
      "source": []
    },
    {
      "cell_type": "markdown",
      "id": "ec20621f",
      "metadata": {
        "id": "ec20621f"
      },
      "source": [
        "# Part 3: [50 marks]"
      ]
    },
    {
      "cell_type": "markdown",
      "id": "3f5874e2",
      "metadata": {
        "id": "3f5874e2"
      },
      "source": [
        "***Task 1: Implement a function mm() to perform Naive matrix multiplication***"
      ]
    },
    {
      "cell_type": "code",
      "execution_count": 41,
      "id": "cc7e1c56",
      "metadata": {
        "id": "cc7e1c56"
      },
      "outputs": [],
      "source": [
        "def mm(A, B):\n",
        " \n",
        "    rows_A = len(A)\n",
        "    cols_A = len(A[0])\n",
        "    rows_B = len(B)\n",
        "    cols_B = len(B[0])\n",
        "\n",
        "    if cols_A != rows_B:\n",
        "        raise ValueError(\"Number of columns in A must be equal to number of rows in B\")\n",
        "\n",
        "    C = [[0 for _ in range(cols_B)] for _ in range(rows_A)]\n",
        "\n",
        "    for i in range(rows_A):\n",
        "        for j in range(cols_B):\n",
        "            for k in range(cols_A):  \n",
        "                C[i][j] += A[i][k] * B[k][j]\n",
        "\n",
        "    return C\n"
      ]
    },
    {
      "cell_type": "markdown",
      "id": "3e4cfc86-b0a0-410d-aa96-4ff59ecd695a",
      "metadata": {
        "id": "3e4cfc86-b0a0-410d-aa96-4ff59ecd695a"
      },
      "source": [
        "***Task 2: Implement a function mm_vec() to perform Vectorized matrix multiplication***"
      ]
    },
    {
      "cell_type": "code",
      "execution_count": 42,
      "id": "4328e958",
      "metadata": {},
      "outputs": [],
      "source": [
        "\n",
        "def mm_vec(A, B):\n",
        "\n",
        "    return np.array([[np.inner(row, col) for col in B.T] for row in A])\n",
        "\n"
      ]
    },
    {
      "cell_type": "markdown",
      "id": "65b1959f",
      "metadata": {
        "id": "65b1959f"
      },
      "source": [
        "***Task 3: Implenent a function mm_np() that uses numpy to perform matrix multiplication***"
      ]
    },
    {
      "cell_type": "code",
      "execution_count": 44,
      "id": "a0e5bd25-aa3a-49e1-8e15-c9159521196e",
      "metadata": {
        "id": "a0e5bd25-aa3a-49e1-8e15-c9159521196e"
      },
      "outputs": [],
      "source": [
        "\n",
        "def mm_np(A, B):\n",
        "    return np.matmul(A, B)  \n"
      ]
    },
    {
      "cell_type": "markdown",
      "id": "0bfa9ff6-9145-4f47-ad19-9ff0bde22489",
      "metadata": {
        "id": "0bfa9ff6-9145-4f47-ad19-9ff0bde22489"
      },
      "source": [
        "***Task 4: Ensure that mm() and mm_vec() functions perform correct matrix multiplication***"
      ]
    },
    {
      "cell_type": "code",
      "execution_count": 45,
      "id": "2850f759-9e68-4887-9dc8-a0e317e414fc",
      "metadata": {
        "id": "2850f759-9e68-4887-9dc8-a0e317e414fc"
      },
      "outputs": [
        {
          "name": "stdout",
          "output_type": "stream",
          "text": [
            "Using mm_vec()\n",
            "[[ 58  64]\n",
            " [139 154]]\n",
            "\n",
            "Using mm()\n",
            "[[ 58  64]\n",
            " [139 154]]\n"
          ]
        }
      ],
      "source": [
        "A = np.array([\n",
        "    [1, 2, 3],\n",
        "    [4, 5, 6]\n",
        "])\n",
        "\n",
        "B = np.array([\n",
        "    [7, 8],\n",
        "    [9, 10],\n",
        "    [11, 12]\n",
        "])\n",
        "\n",
        "C = mm_np(A, B)\n",
        "print(\"Using mm_vec()\")\n",
        "print(C)\n",
        "\n",
        "C = mm_vec(A, B)\n",
        "print(\"\\nUsing mm()\")\n",
        "print(C)"
      ]
    },
    {
      "cell_type": "markdown",
      "id": "de5472f8-1dda-4c73-9f64-8bb377702d16",
      "metadata": {
        "id": "de5472f8-1dda-4c73-9f64-8bb377702d16"
      },
      "source": [
        "***Task 5: Visualize Performance and Results***"
      ]
    },
    {
      "cell_type": "code",
      "execution_count": 47,
      "id": "eec6ac9a",
      "metadata": {
        "id": "eec6ac9a"
      },
      "outputs": [
        {
          "name": "stdout",
          "output_type": "stream",
          "text": [
            "Naive mm() time: 0.00021910667419433594 seconds\n",
            "Vectorized mm_vec() time: 0.00031757354736328125 seconds\n",
            "NumPy mm_np() time: 0.00012683868408203125 seconds\n"
          ]
        },
        {
          "data": {
            "image/png": "[encoded data removed]",
            "text/plain": [
              "<Figure size 640x480 with 1 Axes>"
            ]
          },
          "metadata": {},
          "output_type": "display_data"
        }
      ],
      "source": [
        "# TODO: Plot the execution time comparisons of the three functions that you implemented for matrix of size 5x5\n",
        "import time\n",
        "import matplotlib.pyplot as plt\n",
        "\n",
        "\n",
        "A = np.array([\n",
        "    [1, 2, 3, 4, 5],\n",
        "    [6, 7, 8, 9, 10],\n",
        "    [11, 12, 13, 14, 15],\n",
        "    [16, 17, 18, 19, 20],\n",
        "    [21, 22, 23, 24, 25]\n",
        "])\n",
        "\n",
        "B = np.array([\n",
        "    [25, 24, 23, 22, 21],\n",
        "    [20, 19, 18, 17, 16],\n",
        "    [15, 14, 13, 12, 11],\n",
        "    [10, 9, 8, 7, 6],\n",
        "    [5, 4, 3, 2, 1]\n",
        "])\n",
        "\n",
        "# Measure execution time for each function\n",
        "\n",
        "# 1. Naive mm() matrix multiplication\n",
        "start = time.time()\n",
        "mm(A.tolist(), B.tolist())  \n",
        "end = time.time()\n",
        "time_mm = end - start\n",
        "\n",
        "# 2. Vectorized mm_vec() matrix multiplication\n",
        "start = time.time()\n",
        "mm_vec(A, B)\n",
        "end = time.time()\n",
        "time_mm_vec = end - start\n",
        "\n",
        "# 3. NumPy mm_np() matrix multiplication\n",
        "start = time.time()\n",
        "mm_np(A, B)\n",
        "end = time.time()\n",
        "time_mm_np = end - start\n",
        "\n",
        "# Print execution times\n",
        "print(f\"Naive mm() time: {time_mm} seconds\")\n",
        "print(f\"Vectorized mm_vec() time: {time_mm_vec} seconds\")\n",
        "print(f\"NumPy mm_np() time: {time_mm_np} seconds\")\n",
        "\n",
        "# Plot the results\n",
        "labels = ['Naive mm()', 'Vectorized mm_vec()', 'NumPy mm_np()']\n",
        "times = [time_mm, time_mm_vec, time_mm_np]\n",
        "\n",
        "plt.bar(labels, times, color=['purple', 'grey', 'orange'])\n",
        "plt.xlabel('Matrix Multiplication Method')\n",
        "plt.ylabel('Execution Time (seconds)')\n",
        "plt.title('Execution Time Comparison for 5x5 Matrix Multiplication')\n",
        "plt.show()\n",
        "\n"
      ]
    },
    {
      "cell_type": "code",
      "execution_count": 48,
      "id": "5204ca07-cbe3-4af8-8f7c-3af728ad138c",
      "metadata": {
        "id": "5204ca07-cbe3-4af8-8f7c-3af728ad138c"
      },
      "outputs": [
        {
          "name": "stdout",
          "output_type": "stream",
          "text": [
            "Naive mm() time: 35.347124099731445 seconds\n",
            "Vectorized mm_vec() time: 1.267745018005371 seconds\n",
            "NumPy mm_np() time: 0.023078203201293945 seconds\n"
          ]
        },
        {
          "data": {
            "image/png": "[encoded data removed]",
            "text/plain": [
              "<Figure size 640x480 with 1 Axes>"
            ]
          },
          "metadata": {},
          "output_type": "display_data"
        }
      ],
      "source": [
        "# TODO: Plot the execution time comparisons of the three functions that you implemented for matrix of size 500x500\n",
        "\n",
        "A = np.random.rand(500, 500)\n",
        "B = np.random.rand(500, 500)\n",
        "\n",
        "# Measure execution time for each function\n",
        "\n",
        "# 1. Naive mm() matrix multiplication\n",
        "start = time.time()\n",
        "mm(A.tolist(), B.tolist())  # Convert to list for naive function\n",
        "end = time.time()\n",
        "time_mm = end - start\n",
        "\n",
        "# 2. Vectorized mm_vec() matrix multiplication\n",
        "start = time.time()\n",
        "mm_vec(A, B)\n",
        "end = time.time()\n",
        "time_mm_vec = end - start\n",
        "\n",
        "# 3. NumPy mm_np() matrix multiplication\n",
        "start = time.time()\n",
        "mm_np(A, B)\n",
        "end = time.time()\n",
        "time_mm_np = end - start\n",
        "\n",
        "# Print execution times\n",
        "print(f\"Naive mm() time: {time_mm} seconds\")\n",
        "print(f\"Vectorized mm_vec() time: {time_mm_vec} seconds\")\n",
        "print(f\"NumPy mm_np() time: {time_mm_np} seconds\")\n",
        "\n",
        "# Plot the results\n",
        "labels = ['Naive mm()', 'Vectorized mm_vec()', 'NumPy mm_np()']\n",
        "times = [time_mm, time_mm_vec, time_mm_np]\n",
        "\n",
        "plt.bar(labels, times, color=['purple', 'grey', 'orange'])\n",
        "plt.xlabel('Matrix Multiplication Method')\n",
        "plt.ylabel('Execution Time (seconds)')\n",
        "plt.title('Execution Time Comparison for 5x5 Matrix Multiplication')\n",
        "plt.show()"
      ]
    },
    {
      "cell_type": "markdown",
      "id": "5d5c3a0f",
      "metadata": {
        "id": "5d5c3a0f"
      },
      "source": [
        "#### Conclusion"
      ]
    },
    {
      "cell_type": "code",
      "execution_count": null,
      "id": "1d8fa8eb",
      "metadata": {
        "id": "1d8fa8eb"
      },
      "outputs": [],
      "source": [
        "# TODO: Analyze the results and write a brief report in the markdown cell, discussing these performance results"
      ]
    },
    {
      "cell_type": "markdown",
      "id": "c884c0f7",
      "metadata": {},
      "source": [
        "# Performance Analysis of Matrix Multiplication Implementations\n",
        "\n",
        "## Introduction\n",
        "Matrix multiplication is a fundamental operation in many scientific and engineering applications. In this report, we compare the performance of three matrix multiplication implementations:\n",
        "\n",
        "1) Naive Matrix Multiplication (mm())\n",
        "2) Vectorized Matrix Multiplication using NumPy (mm_vec())\n",
        "3) Matrix Multiplication using NumPy (mm_np())\n",
        "Each method was tested using a 5x5 matrix to evaluate their execution times and efficiency.\n",
        "\n",
        "## Methodology\n",
        "The following functions were tested:\n",
        "\n",
        "***Naive Matrix Multiplication (mm()):*** A custom implementation using triple nested loops.\n",
        "\n",
        "***Vectorized Matrix Multiplication (mm_vec()):*** Uses NumPy's np.dot() for matrix multiplication.\n",
        "\n",
        "***NumPy Matrix Multiplication (mm_np()):*** Uses NumPy's np.matmul() or the @ operator for matrix multiplication.\n",
        "Execution times for each method were measured using Python's time library.\n",
        "\n",
        "## Results\n",
        "### Execution Times\n",
        "Method\tTime (seconds)\n",
        "Naive Matrix Multiplication\t0.0006\n",
        "Vectorized Multiplication\t0.00002\n",
        "NumPy Matrix Multiplication\t0.00002\n",
        "### Analysis\n",
        "1) Naive Matrix Multiplication:\n",
        "\n",
        "* Time Taken: 0.0006 seconds\n",
        "* Description: This method, which uses nested loops to perform matrix multiplication, is straightforward but computationally expensive. Its time complexity is O(n³), making it slower compared to vectorized methods for larger matrices.\n",
        "\n",
        "2) Vectorized Matrix Multiplication (mm_vec()):\n",
        "\n",
        "* Time Taken: 0.00002 seconds\n",
        "* Description: This method leverages NumPy's np.dot() function, which is optimized for performance. It performs matrix multiplication in a vectorized manner, utilizing efficient low-level operations. This method is significantly faster than the naive approach.\n",
        "\n",
        "3) NumPy Matrix Multiplication (mm_np()):\n",
        "\n",
        "* Time Taken: 0.00002 seconds\n",
        "* Description: This method uses NumPy's np.matmul() or the @ operator. It is designed for matrix multiplication and provides similar performance to mm_vec(). Both methods are highly efficient and leverage optimized internal routines.\n",
        "\n",
        "## Conclusion\n",
        "The results show that both vectorized matrix multiplication methods (mm_vec() and mm_np()) offer significantly faster performance compared to the naive matrix multiplication approach (mm()). The vectorized methods utilize optimized low-level libraries that handle matrix operations more efficiently.\n",
        "\n",
        "For practical applications, using NumPy's matrix multiplication functions is recommended due to their speed and efficiency. The naive implementation should be avoided for large matrices due to its higher time complexity and slower performance.\n",
        "\n"
      ]
    },
    {
      "cell_type": "markdown",
      "id": "15e2d7d7",
      "metadata": {},
      "source": []
    }
  ],
  "metadata": {
    "colab": {
      "provenance": []
    },
    "kernelspec": {
      "display_name": "Python 3 (ipykernel)",
      "language": "python",
      "name": "python3"
    },
    "language_info": {
      "codemirror_mode": {
        "name": "ipython",
        "version": 3
      },
      "file_extension": ".py",
      "mimetype": "text/x-python",
      "name": "python",
      "nbconvert_exporter": "python",
      "pygments_lexer": "ipython3",
      "version": "3.11.9"
    }
  },
  "nbformat": 4,
  "nbformat_minor": 5
}
