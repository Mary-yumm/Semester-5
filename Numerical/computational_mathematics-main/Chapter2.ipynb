{
 "cells": [
  {
   "cell_type": "markdown",
   "metadata": {},
   "source": [
    "# Computational Mathematics\n",
    "## An Introduction to Numerical Analysis and Scientific Computing with Python\n",
    "### By Dimitrios Mitsotakis"
   ]
  },
  {
   "cell_type": "markdown",
   "metadata": {},
   "source": [
    "# Chapter 2: Matrices and Python"
   ]
  },
  {
   "cell_type": "markdown",
   "metadata": {},
   "source": [
    "## The Library NumPy"
   ]
  },
  {
   "cell_type": "markdown",
   "metadata": {},
   "source": [
    "NumPy is the most commonly used library (module) for scientific computations. It defines a number of essential data structures and routines implementing fundamental algorithms of computational mathematics.  The most basic data structure, the `ndarray`, is very similar to a `list` but equiped with matrix properties.  \n",
    "\n",
    "We will use the following command to import the namespace of NumPy:"
   ]
  },
  {
   "cell_type": "code",
   "execution_count": 2,
   "metadata": {},
   "outputs": [],
   "source": [
    "import numpy as np"
   ]
  },
  {
   "cell_type": "markdown",
   "metadata": {},
   "source": [
    "Define a 3x2 array:"
   ]
  },
  {
   "cell_type": "code",
   "execution_count": 3,
   "metadata": {},
   "outputs": [
    {
     "name": "stdout",
     "output_type": "stream",
     "text": [
      "[[1 2]\n",
      " [3 4]\n",
      " [5 6]]\n"
     ]
    }
   ],
   "source": [
    "A = np.array([[1, 2], [3, 4], [5, 6]])\n",
    "print(A)"
   ]
  },
  {
   "cell_type": "markdown",
   "metadata": {},
   "source": [
    "Alternatively, we can write:"
   ]
  },
  {
   "cell_type": "code",
   "execution_count": 4,
   "metadata": {},
   "outputs": [
    {
     "name": "stdout",
     "output_type": "stream",
     "text": [
      "[[1 2]\n",
      " [3 4]\n",
      " [5 6]]\n"
     ]
    }
   ],
   "source": [
    "A = np.array([[1, 2], \n",
    "              [3, 4], \n",
    "              [5, 6]])\n",
    "print(A)"
   ]
  },
  {
   "cell_type": "markdown",
   "metadata": {},
   "source": [
    "Anything included in brackets can be splitted in two or more lines of code."
   ]
  },
  {
   "cell_type": "markdown",
   "metadata": {},
   "source": [
    "Get the `(0, 1)` entry of $A$"
   ]
  },
  {
   "cell_type": "code",
   "execution_count": 5,
   "metadata": {},
   "outputs": [
    {
     "name": "stdout",
     "output_type": "stream",
     "text": [
      "A(1,2) =  2\n"
     ]
    }
   ],
   "source": [
    "print('A(1,2) = ', A[0, 1])"
   ]
  },
  {
   "cell_type": "markdown",
   "metadata": {},
   "source": [
    "If you want to modify this entry then you can just do the following:"
   ]
  },
  {
   "cell_type": "code",
   "execution_count": 6,
   "metadata": {},
   "outputs": [],
   "source": [
    "A[1,1] = 10"
   ]
  },
  {
   "cell_type": "markdown",
   "metadata": {},
   "source": [
    "so now the matrix will look like"
   ]
  },
  {
   "cell_type": "code",
   "execution_count": 7,
   "metadata": {},
   "outputs": [
    {
     "name": "stdout",
     "output_type": "stream",
     "text": [
      "[[ 1  2]\n",
      " [ 3 10]\n",
      " [ 5  6]]\n"
     ]
    }
   ],
   "source": [
    "print(A)"
   ]
  },
  {
   "cell_type": "markdown",
   "metadata": {},
   "source": [
    "If you want to add 1 in the same entry of the matrix then you can do the following:"
   ]
  },
  {
   "cell_type": "code",
   "execution_count": 8,
   "metadata": {},
   "outputs": [
    {
     "name": "stdout",
     "output_type": "stream",
     "text": [
      "[[ 1  3]\n",
      " [ 3 10]\n",
      " [ 5  6]]\n"
     ]
    }
   ],
   "source": [
    "A[0,1] = A[0,1] + 1.0\n",
    "print(A)"
   ]
  },
  {
   "cell_type": "markdown",
   "metadata": {},
   "source": [
    "### Slicing"
   ]
  },
  {
   "cell_type": "markdown",
   "metadata": {},
   "source": [
    "You can extract parts of an array using the slice operator `:`, which represents the usual dots indicating multiple indices. For example, we extract the whole first column of a `A` by writing `A[:,0]`"
   ]
  },
  {
   "cell_type": "code",
   "execution_count": 10,
   "metadata": {},
   "outputs": [
    {
     "name": "stdout",
     "output_type": "stream",
     "text": [
      "[[ 1  3]\n",
      " [ 3 10]\n",
      " [ 5  6]]\n"
     ]
    }
   ],
   "source": [
    "print(A)"
   ]
  },
  {
   "cell_type": "code",
   "execution_count": 14,
   "metadata": {},
   "outputs": [
    {
     "name": "stdout",
     "output_type": "stream",
     "text": [
      "[1 3 5]\n"
     ]
    }
   ],
   "source": [
    "a = A[0:3,0]\n",
    "print(a)"
   ]
  },
  {
   "cell_type": "code",
   "execution_count": 11,
   "metadata": {},
   "outputs": [
    {
     "name": "stdout",
     "output_type": "stream",
     "text": [
      "[1 3 5]\n",
      "<class 'numpy.ndarray'>\n"
     ]
    }
   ],
   "source": [
    "a = A[:,0]\n",
    "print(a)\n",
    "print(type(a))"
   ]
  },
  {
   "cell_type": "code",
   "execution_count": 15,
   "metadata": {},
   "outputs": [
    {
     "name": "stdout",
     "output_type": "stream",
     "text": [
      "[ 3 10]\n"
     ]
    }
   ],
   "source": [
    "print(A[1,:])"
   ]
  },
  {
   "cell_type": "markdown",
   "metadata": {},
   "source": [
    "We can extract block parts of an array"
   ]
  },
  {
   "cell_type": "code",
   "execution_count": 16,
   "metadata": {},
   "outputs": [
    {
     "name": "stdout",
     "output_type": "stream",
     "text": [
      "[[1]]\n"
     ]
    }
   ],
   "source": [
    "B = np.array( [[1, 2, 3],\n",
    "               [4, 5, 6],\n",
    "               [7, 8, 9]])\n",
    "\n",
    "C = B[0:1, 0:1]\n",
    "print(C)"
   ]
  },
  {
   "cell_type": "markdown",
   "metadata": {},
   "source": [
    "### Vectors and arrays"
   ]
  },
  {
   "cell_type": "markdown",
   "metadata": {},
   "source": [
    "There is a difference between python arrays and vectors. For example, the following is an array with 1 row and 3 columns (like a row vector)"
   ]
  },
  {
   "cell_type": "code",
   "execution_count": 17,
   "metadata": {},
   "outputs": [
    {
     "name": "stdout",
     "output_type": "stream",
     "text": [
      "(1, 3)\n"
     ]
    }
   ],
   "source": [
    "a = np.array( [[1, 2, 3]])\n",
    "print( a.shape )"
   ]
  },
  {
   "cell_type": "markdown",
   "metadata": {},
   "source": [
    "while the next one is a one-dimensional vector"
   ]
  },
  {
   "cell_type": "code",
   "execution_count": 18,
   "metadata": {},
   "outputs": [
    {
     "name": "stdout",
     "output_type": "stream",
     "text": [
      "(3,)\n"
     ]
    }
   ],
   "source": [
    "a = np.array( [1, 2, 3])\n",
    "print( a.shape )"
   ]
  },
  {
   "cell_type": "markdown",
   "metadata": {},
   "source": [
    "You can change the dimensions of these structures using the function `reshape`"
   ]
  },
  {
   "cell_type": "code",
   "execution_count": 19,
   "metadata": {},
   "outputs": [
    {
     "name": "stdout",
     "output_type": "stream",
     "text": [
      "b= [[1 2 3]]\n",
      "(1, 3)\n"
     ]
    }
   ],
   "source": [
    "b = a.reshape((1,3))\n",
    "\n",
    "print('b=', b)\n",
    "print(b.shape)"
   ]
  },
  {
   "cell_type": "code",
   "execution_count": 14,
   "metadata": {},
   "outputs": [
    {
     "name": "stdout",
     "output_type": "stream",
     "text": [
      "c= [[1 2 3]]\n",
      "(1, 3)\n"
     ]
    }
   ],
   "source": [
    "c = a.reshape((1,-1))\n",
    "print('c=', c)\n",
    "print(c.shape)"
   ]
  },
  {
   "cell_type": "markdown",
   "metadata": {},
   "source": [
    "### Special matrices, methods and properties"
   ]
  },
  {
   "cell_type": "markdown",
   "metadata": {},
   "source": [
    "A zero $3\\times 4$ matrix can be defined as"
   ]
  },
  {
   "cell_type": "code",
   "execution_count": 15,
   "metadata": {},
   "outputs": [
    {
     "name": "stdout",
     "output_type": "stream",
     "text": [
      "[[0. 0. 0. 0.]\n",
      " [0. 0. 0. 0.]\n",
      " [0. 0. 0. 0.]]\n"
     ]
    }
   ],
   "source": [
    "A = np.zeros( (3,4))\n",
    "print( A )"
   ]
  },
  {
   "cell_type": "markdown",
   "metadata": {},
   "source": [
    "The dimensions and size of an array can be retrieved using the following functions"
   ]
  },
  {
   "cell_type": "code",
   "execution_count": 16,
   "metadata": {},
   "outputs": [
    {
     "name": "stdout",
     "output_type": "stream",
     "text": [
      "(3, 4)\n",
      "2\n",
      "12\n"
     ]
    }
   ],
   "source": [
    "print(np.shape(A))\n",
    "print(A.ndim)\n",
    "print(A.size)"
   ]
  },
  {
   "cell_type": "markdown",
   "metadata": {},
   "source": [
    "A $3\\times 3$ identity matrix can be defined as"
   ]
  },
  {
   "cell_type": "code",
   "execution_count": 17,
   "metadata": {},
   "outputs": [
    {
     "name": "stdout",
     "output_type": "stream",
     "text": [
      "[[1. 0. 0.]\n",
      " [0. 1. 0.]\n",
      " [0. 0. 1.]]\n"
     ]
    }
   ],
   "source": [
    "I = np.eye(3)\n",
    "print(I)"
   ]
  },
  {
   "cell_type": "markdown",
   "metadata": {},
   "source": [
    "A $3\\times 2$ matrix full of ones can be defined as"
   ]
  },
  {
   "cell_type": "code",
   "execution_count": 18,
   "metadata": {},
   "outputs": [
    {
     "name": "stdout",
     "output_type": "stream",
     "text": [
      "[[1. 1.]\n",
      " [1. 1.]\n",
      " [1. 1.]]\n"
     ]
    }
   ],
   "source": [
    "A = np.ones( (3,2) )\n",
    "print(A)"
   ]
  },
  {
   "cell_type": "markdown",
   "metadata": {},
   "source": [
    "### Triangular matrices"
   ]
  },
  {
   "cell_type": "markdown",
   "metadata": {},
   "source": [
    "We can extract the upper and lower triangular parts with the following NumPy functions"
   ]
  },
  {
   "cell_type": "code",
   "execution_count": 20,
   "metadata": {},
   "outputs": [
    {
     "name": "stdout",
     "output_type": "stream",
     "text": [
      "A = \n",
      "[[1 2 3]\n",
      " [4 5 6]\n",
      " [7 8 9]]\n",
      "L = \n",
      "[[1 0 0]\n",
      " [4 5 0]\n",
      " [7 8 9]]\n",
      "U = \n",
      "[[1 2 3]\n",
      " [0 5 6]\n",
      " [0 0 9]]\n"
     ]
    }
   ],
   "source": [
    "A = np.array( [[1, 2, 3],\n",
    "               [4, 5, 6],\n",
    "               [7, 8, 9]] )\n",
    "\n",
    "L = np.tril(A)\n",
    "U = np.triu(A)\n",
    "\n",
    "print('A = '); print(A)\n",
    "print('L = '); print(L)\n",
    "print('U = '); print(U)"
   ]
  },
  {
   "cell_type": "markdown",
   "metadata": {},
   "source": [
    "### Matrix Assignment"
   ]
  },
  {
   "cell_type": "markdown",
   "metadata": {},
   "source": [
    "When we assign a matrix using the `=` operator then we create a link between the two arrays"
   ]
  },
  {
   "cell_type": "code",
   "execution_count": 21,
   "metadata": {},
   "outputs": [
    {
     "name": "stdout",
     "output_type": "stream",
     "text": [
      "[[10  2  3]\n",
      " [ 4 20  6]\n",
      " [ 7  8  9]]\n",
      "[[10  2  3]\n",
      " [ 4 20  6]\n",
      " [ 7  8  9]]\n"
     ]
    }
   ],
   "source": [
    "A = np.array( [[1, 2, 3], \n",
    "               [4, 5, 6], \n",
    "               [7, 8, 9]] )\n",
    "B = A\n",
    "A[0,0]=10\n",
    "B[1,1]=20\n",
    "print(A)\n",
    "print(B)"
   ]
  },
  {
   "cell_type": "markdown",
   "metadata": {},
   "source": [
    "To create two different and independent arrays we use the function `copy`"
   ]
  },
  {
   "cell_type": "code",
   "execution_count": 21,
   "metadata": {},
   "outputs": [
    {
     "name": "stdout",
     "output_type": "stream",
     "text": [
      "[[10  2  3]\n",
      " [ 4  5  6]\n",
      " [ 7  8  9]]\n",
      "[[ 1  2  3]\n",
      " [ 4 20  6]\n",
      " [ 7  8  9]]\n"
     ]
    }
   ],
   "source": [
    "A = np.array( [[1, 2, 3], \n",
    "               [4, 5, 6], \n",
    "               [7, 8, 9]] )\n",
    "B = A.copy()\n",
    "A[0,0]=10\n",
    "B[1,1]=20\n",
    "print(A)\n",
    "print(B)"
   ]
  },
  {
   "cell_type": "markdown",
   "metadata": {},
   "source": [
    "### Matrix addition and scalar multiplication"
   ]
  },
  {
   "cell_type": "markdown",
   "metadata": {},
   "source": [
    "Here is an example where we use various operators"
   ]
  },
  {
   "cell_type": "code",
   "execution_count": 22,
   "metadata": {},
   "outputs": [
    {
     "name": "stdout",
     "output_type": "stream",
     "text": [
      "[[10 10 10]\n",
      " [10 10 10]\n",
      " [10 10 10]]\n"
     ]
    }
   ],
   "source": [
    "A = np.array( [[1, 2, 3], \n",
    "               [4, 5, 6], \n",
    "               [7, 8, 9]] )\n",
    "B = np.array( [[9, 8, 7], \n",
    "               [6, 5, 4], \n",
    "               [3, 2, 1]] )\n",
    "C = A + B\n",
    "print(C)"
   ]
  },
  {
   "cell_type": "code",
   "execution_count": 23,
   "metadata": {},
   "outputs": [
    {
     "name": "stdout",
     "output_type": "stream",
     "text": [
      "[[-8 -6 -4]\n",
      " [-2  0  2]\n",
      " [ 4  6  8]]\n",
      "[[ 2.  4.  6.]\n",
      " [ 8. 10. 12.]\n",
      " [14. 16. 18.]]\n",
      "[[5. 5. 5.]\n",
      " [5. 5. 5.]\n",
      " [5. 5. 5.]]\n",
      "[[-14. -13. -12.]\n",
      " [-11. -10.  -9.]\n",
      " [ -8.  -7.  -6.]]\n"
     ]
    }
   ],
   "source": [
    "D = A - B\n",
    "E = 2.0 * A\n",
    "F = C / 2.0\n",
    "G = A - 3.0*F\n",
    "print(D)\n",
    "print(E)\n",
    "print(F)\n",
    "print(G)\n"
   ]
  },
  {
   "cell_type": "markdown",
   "metadata": {},
   "source": [
    "A naive implementation of matrix addition would be"
   ]
  },
  {
   "cell_type": "code",
   "execution_count": 23,
   "metadata": {},
   "outputs": [],
   "source": [
    "def add(A,B):\n",
    "    (n, m) = np.shape(A)\n",
    "    C = np.empty((n,m))\n",
    "    for i in range(n):\n",
    "        for j in range(m):\n",
    "            C[i,j] = A[i,j] + B[i,j]\n",
    "    return C"
   ]
  },
  {
   "cell_type": "markdown",
   "metadata": {},
   "source": [
    "and we test the code with the following example"
   ]
  },
  {
   "cell_type": "code",
   "execution_count": 24,
   "metadata": {},
   "outputs": [
    {
     "name": "stdout",
     "output_type": "stream",
     "text": [
      "[[10. 10. 10.]\n",
      " [10. 10. 10.]\n",
      " [10. 10. 10.]]\n"
     ]
    }
   ],
   "source": [
    "A = np.array( [[1, 2, 3], \n",
    "               [4, 5, 6], \n",
    "               [7, 8, 9]] )\n",
    "B = np.array( [[9, 8, 7],\n",
    "               [6, 5, 4],\n",
    "               [3, 2, 1]] )\n",
    "C = add(A,B)\n",
    "print(C)"
   ]
  },
  {
   "cell_type": "markdown",
   "metadata": {},
   "source": [
    "### Vectorized algorithms"
   ]
  },
  {
   "cell_type": "markdown",
   "metadata": {},
   "source": [
    "The previous function can be implemented in a vectorized fashion and become more efficient"
   ]
  },
  {
   "cell_type": "code",
   "execution_count": 25,
   "metadata": {},
   "outputs": [],
   "source": [
    "def addv(A,B):\n",
    "    (n, m) = np.shape(A)\n",
    "    C = np.empty((n,m))\n",
    "    for i in range(n):\n",
    "        C[i,:] = A[i,:] + B[i,:]\n",
    "    return C"
   ]
  },
  {
   "cell_type": "code",
   "execution_count": 26,
   "metadata": {},
   "outputs": [
    {
     "name": "stdout",
     "output_type": "stream",
     "text": [
      "[[10. 10. 10.]\n",
      " [10. 10. 10.]\n",
      " [10. 10. 10.]]\n"
     ]
    }
   ],
   "source": [
    "A = np.array( [[1, 2, 3], \n",
    "               [4, 5, 6], \n",
    "               [7, 8, 9]] )\n",
    "B = np.array( [[9, 8, 7], \n",
    "               [6, 5, 4], \n",
    "               [3, 2, 1]] )\n",
    "C = addv(A,B)\n",
    "print(C)"
   ]
  },
  {
   "cell_type": "markdown",
   "metadata": {},
   "source": [
    "### Performance of algorithms"
   ]
  },
  {
   "cell_type": "markdown",
   "metadata": {},
   "source": [
    "This is an example of how we can estimate the performance of algorithms"
   ]
  },
  {
   "cell_type": "code",
   "execution_count": 27,
   "metadata": {},
   "outputs": [
    {
     "name": "stdout",
     "output_type": "stream",
     "text": [
      "Python 0.0004756450653076172 seconds\n",
      "add 0.05963921546936035 seconds\n",
      "addv 0.0015728473663330078 seconds\n"
     ]
    }
   ],
   "source": [
    "import time\n",
    "A = np.random.rand(100,100)\n",
    "B = np.random.rand(100,100)\n",
    "t0 = time.time()\n",
    "C = A+B\n",
    "t1 = time.time()\n",
    "print('Python', t1-t0, 'seconds')\n",
    "t0 = time.time()\n",
    "C = add(A,B)\n",
    "t1 = time.time()\n",
    "print('add', t1-t0, 'seconds')\n",
    "t0 = time.time()\n",
    "C = addv(A,B)\n",
    "t1 = time.time()\n",
    "print('addv', t1-t0, 'seconds')"
   ]
  },
  {
   "cell_type": "markdown",
   "metadata": {},
   "source": [
    "### Matrix multiplication"
   ]
  },
  {
   "cell_type": "markdown",
   "metadata": {},
   "source": [
    "The classical algorithm for matrix multiplication is the following $ijk$-algorithm:\n",
    "\n",
    "- For $i=1:n$\n",
    "    - For $j=1:p$\n",
    "        - ${\\bf C}(i,j)=0$\n",
    "        - For $k=1:m$\n",
    "            - ${\\bf C}(i,j)={\\bf C}(i,j)+{\\bf A}(i,k)\\cdot {\\bf B}(k,j)$\n",
    "        - EndFor\n",
    "    - EndFor\n",
    "- EndFor\n",
    "\n",
    "And its implementation"
   ]
  },
  {
   "cell_type": "code",
   "execution_count": 29,
   "metadata": {},
   "outputs": [
    {
     "name": "stdout",
     "output_type": "stream",
     "text": [
      "[[21. 24. 27.]\n",
      " [47. 54. 61.]]\n"
     ]
    }
   ],
   "source": [
    "def mult(A,B):\n",
    "    (n, m) = np.shape(A)\n",
    "    (m, p) = np.shape(B)\n",
    "    C = np.zeros((n, p))\n",
    "    for i in range(n):\n",
    "        for j in range(p):\n",
    "            for k in range(m):\n",
    "                C[i,j] = C[i,j] + A[i,k]*B[k,j]\n",
    "    return C\n",
    "    \n",
    "A = np.array( [[1, 2], \n",
    "               [3, 4]] )\n",
    "B = np.array( [[5, 6, 7], \n",
    "               [8, 9, 10]] )\n",
    "C = mult(A,B)\n",
    "print(C)"
   ]
  },
  {
   "cell_type": "markdown",
   "metadata": {},
   "source": [
    "This can be improved by changing the order of the loops in the previous algorithm leading to the $ikj$-algorithm\n",
    "\n",
    "- For $i=1:n$\n",
    "    - For $k=1:m$\n",
    "        - $tmp={\\bf A}(i,k)$\n",
    "        - For $j=1:p$\n",
    "            - ${\\bf C}(i,j)={\\bf C}(i,j)+tmp\\cdot {\\bf B}(k,j)$\n",
    "        - EndFor\n",
    "    - EndFor\n",
    "- EndFor"
   ]
  },
  {
   "cell_type": "code",
   "execution_count": 28,
   "metadata": {},
   "outputs": [
    {
     "name": "stdout",
     "output_type": "stream",
     "text": [
      "[[21. 24. 27.]\n",
      " [47. 54. 61.]]\n"
     ]
    }
   ],
   "source": [
    "def mult(A,B):\n",
    "    (n, m) = np.shape(A)\n",
    "    (m, p) = np.shape(B)\n",
    "    C = np.zeros((n, p))\n",
    "    for i in range(n):\n",
    "        for k in range(m):\n",
    "            tmp = A[i,k]\n",
    "            for j in range(p):\n",
    "                C[i,j] = C[i,j] + tmp*B[k,j]\n",
    "    return C\n",
    "\n",
    "A = np.array( [[1, 2], \n",
    "               [3, 4]] )\n",
    "B = np.array( [[5, 6, 7], \n",
    "               [8, 9, 10]] )\n",
    "C = mult(A,B)\n",
    "print(C)"
   ]
  },
  {
   "cell_type": "markdown",
   "metadata": {},
   "source": [
    "The multiplication algorithm actually multiplies rows of ${\\bf A}$ with columns of ${\\bf B}$. This observation leads to the vectorized algorithm:\n",
    "\n",
    "- For $i=1:n$\n",
    "    - For $j=1:p$\n",
    "        ${\\bf C}(i,j)={\\bf A}(i,:)\\cdot {\\bf B}(:,j)$\n",
    "    - EndFor\n",
    "- EndFor\n",
    "\n",
    "This the fastest compared to other two multiplication algorithms."
   ]
  },
  {
   "cell_type": "code",
   "execution_count": 30,
   "metadata": {},
   "outputs": [
    {
     "name": "stdout",
     "output_type": "stream",
     "text": [
      "[[21. 24. 27.]\n",
      " [47. 54. 61.]]\n"
     ]
    }
   ],
   "source": [
    "def multv(A,B):\n",
    "    (n, m) = np.shape(A)\n",
    "    (m, p) = np.shape(B)\n",
    "    C = np.zeros((n, p))\n",
    "    for i in range(n):\n",
    "        for j in range(p):\n",
    "            C[i,j] = np.inner(A[i,:],B[:,j])   \n",
    "    return C\n",
    "    \n",
    "A = np.array( [[1, 2], \n",
    "               [3, 4]] )             \n",
    "B = np.array( [[5, 6, 7], \n",
    "               [8, 9, 10]] )\n",
    "C = multv(A,B)\n",
    "print(C)"
   ]
  },
  {
   "cell_type": "markdown",
   "metadata": {},
   "source": [
    "The fastest way of course is to use the default multiplication algorithms of Python"
   ]
  },
  {
   "cell_type": "code",
   "execution_count": 31,
   "metadata": {},
   "outputs": [
    {
     "name": "stdout",
     "output_type": "stream",
     "text": [
      "C=\n",
      "[[ 5 12]\n",
      " [21 32]]\n",
      "D=\n",
      "[[19 22]\n",
      " [43 50]]\n",
      "E=\n",
      "[[19 22]\n",
      " [43 50]]\n"
     ]
    }
   ],
   "source": [
    "A = np.array( [[1, 2], \n",
    "               [3, 4]] )           \n",
    "B = np.array( [[5, 6], \n",
    "               [7, 8]] )\n",
    "C = A * B\n",
    "print('C='); print(C)\n",
    "D = A @ B\n",
    "print('D='); print(D)\n",
    "E = np.dot(A,B)\n",
    "print('E='); print(E)"
   ]
  },
  {
   "cell_type": "markdown",
   "metadata": {},
   "source": [
    "### Extra functionality"
   ]
  },
  {
   "cell_type": "markdown",
   "metadata": {},
   "source": [
    "In order to compute powers of a matrix such as $A^2$ we need to import the `numpy.linalg` module:"
   ]
  },
  {
   "cell_type": "code",
   "execution_count": 34,
   "metadata": {},
   "outputs": [],
   "source": [
    "import numpy.linalg as npl"
   ]
  },
  {
   "cell_type": "code",
   "execution_count": 35,
   "metadata": {},
   "outputs": [
    {
     "name": "stdout",
     "output_type": "stream",
     "text": [
      "[[1 2]\n",
      " [3 4]]\n"
     ]
    }
   ],
   "source": [
    "print(A)"
   ]
  },
  {
   "cell_type": "markdown",
   "metadata": {},
   "source": [
    "Then we can find any power we want:"
   ]
  },
  {
   "cell_type": "code",
   "execution_count": 36,
   "metadata": {},
   "outputs": [
    {
     "name": "stdout",
     "output_type": "stream",
     "text": [
      "[[ 7 10]\n",
      " [15 22]]\n"
     ]
    }
   ],
   "source": [
    "A_squared = npl.matrix_power(A,2)\n",
    "print(A_squared)"
   ]
  },
  {
   "cell_type": "markdown",
   "metadata": {},
   "source": [
    "We check also the result:"
   ]
  },
  {
   "cell_type": "code",
   "execution_count": 37,
   "metadata": {},
   "outputs": [
    {
     "name": "stdout",
     "output_type": "stream",
     "text": [
      "[[ 7 10]\n",
      " [15 22]]\n"
     ]
    }
   ],
   "source": [
    "print(A@A)"
   ]
  },
  {
   "cell_type": "code",
   "execution_count": 35,
   "metadata": {},
   "outputs": [
    {
     "data": {
      "text/plain": [
       "array([[0, 0],\n",
       "       [0, 0]])"
      ]
     },
     "execution_count": 35,
     "metadata": {},
     "output_type": "execute_result"
    }
   ],
   "source": [
    "A_squared - A@A"
   ]
  },
  {
   "cell_type": "markdown",
   "metadata": {},
   "source": [
    "We can also compute the inverse of a matrix and its determinant: "
   ]
  },
  {
   "cell_type": "code",
   "execution_count": 36,
   "metadata": {},
   "outputs": [
    {
     "data": {
      "text/plain": [
       "-2.0000000000000004"
      ]
     },
     "execution_count": 36,
     "metadata": {},
     "output_type": "execute_result"
    }
   ],
   "source": [
    "npl.det(A)"
   ]
  },
  {
   "cell_type": "code",
   "execution_count": 37,
   "metadata": {},
   "outputs": [
    {
     "name": "stdout",
     "output_type": "stream",
     "text": [
      "[[-2.   1. ]\n",
      " [ 1.5 -0.5]]\n"
     ]
    }
   ],
   "source": [
    "A_inverse = npl.inv(A)\n",
    "print(A_inverse)"
   ]
  },
  {
   "cell_type": "markdown",
   "metadata": {},
   "source": [
    "We check the validity of the result"
   ]
  },
  {
   "cell_type": "code",
   "execution_count": 38,
   "metadata": {},
   "outputs": [
    {
     "data": {
      "text/plain": [
       "array([[1.0000000e+00, 0.0000000e+00],\n",
       "       [8.8817842e-16, 1.0000000e+00]])"
      ]
     },
     "execution_count": 38,
     "metadata": {},
     "output_type": "execute_result"
    }
   ],
   "source": [
    "np.dot(A, A_inverse)"
   ]
  },
  {
   "cell_type": "markdown",
   "metadata": {},
   "source": [
    "## Linear Systems"
   ]
  },
  {
   "cell_type": "markdown",
   "metadata": {},
   "source": [
    "The easiest way to solve a linear system of equations defined by the arrays `A` and `b` in Python is by using the function `solve(A,b)` of the module `numpy.linalg`. This functions accepts as input the arrays `A` and `b` and returns the solution of the system in an array `x`. For example, we consider the following system of linear equations\n",
    "\n",
    "$$\\left.\n",
    "\\begin{array}{lllll}\n",
    "2x_1&-x_2& & &=1\\\\\n",
    "-x_1 & +3 x_2 & -x_3 & & = 1\\\\\n",
    " & -x_2 & +3x_3 & -x_4 & =1\\\\\n",
    " & & -x_3 & +2x_4 & =1\\\\\n",
    " \\end{array}\\right\\} \\ ,\n",
    "$$\n",
    "\n",
    "which can be written in matrix form $Ax=b$ with\n",
    "\n",
    "$$A=\n",
    "\\begin{pmatrix}\n",
    "2 & -1 & 0 & 0\\\\\n",
    "-1 & 3 & -1 & 0\\\\\n",
    "0 & -1 & 3 & -1\\\\\n",
    "0 & 0 & -1 & 2\n",
    "\\end{pmatrix}\\ \\mbox{ and } \n",
    "b=\\begin{pmatrix}\n",
    "1\\\\\n",
    "1\\\\\n",
    "1\\\\\n",
    "1\\\\\n",
    "\\end{pmatrix}\\ .\n",
    "$$\n",
    "\n",
    "It is easy to verify that the specific system has exact solution $x=(1,1,1,1)^T$, since each entry of the right hand side $b$ is the sum of the entries of the respective row of the matrix $A$:\n",
    "\n",
    "$$b_i=\\sum_{j=1}^n a_{ij}, \\quad i=1,2,\\cdots, n\\ .$$\n",
    "\n",
    "Moreover, the matrix $A$ is tridiagonal and symmetric. It has even more nice properties that we will explore in later chapters. To solve this numerically using NumPy and its function `solve` we type\n",
    "\n"
   ]
  },
  {
   "cell_type": "code",
   "execution_count": 39,
   "metadata": {},
   "outputs": [
    {
     "name": "stdout",
     "output_type": "stream",
     "text": [
      "[[1.]\n",
      " [1.]\n",
      " [1.]\n",
      " [1.]]\n"
     ]
    }
   ],
   "source": [
    "from numpy.linalg import solve\n",
    "\n",
    "A = np.array( [[ 2.0, -1.0,  0.0 , 0.0], \n",
    "               [-1.0,  3.0, -1.0,  0.0], \n",
    "               [ 0.0, -1.0,  3.0, -1.0], \n",
    "               [ 0.0,  0.0 ,-1.0,  2.0]] )\n",
    "\n",
    "b = np.array( [[1.0], \n",
    "               [1.0],\n",
    "               [1.0],\n",
    "               [1.0]] )\n",
    "                  \n",
    "x = solve(A,b)\n",
    "\n",
    "print(x)"
   ]
  },
  {
   "cell_type": "markdown",
   "metadata": {},
   "source": [
    "### Eigenvalues and eigenvectors"
   ]
  },
  {
   "cell_type": "markdown",
   "metadata": {},
   "source": [
    "We can compute the eigenvalues and eigenvectors of a matrix ${\\bf A}$ in Python using the NumPy function `numpy.linalg.eig`"
   ]
  },
  {
   "cell_type": "code",
   "execution_count": 40,
   "metadata": {},
   "outputs": [
    {
     "name": "stdout",
     "output_type": "stream",
     "text": [
      "w=\n",
      "[-1. -2.]\n",
      "v=\n",
      "[[ 0.70710678 -0.4472136 ]\n",
      " [-0.70710678  0.89442719]]\n"
     ]
    }
   ],
   "source": [
    "from numpy.linalg import eig \n",
    "A = np.array([[0, 1],[-2, -3]]) # Define the matrix\n",
    "# Compute eigenvalues and eigenvectors\n",
    "# w is a list of the eigenvalues and v with the eigenvectors \n",
    "(w, v) = eig(A) \n",
    "print('w='); print(w)\n",
    "print('v='); print(v)"
   ]
  },
  {
   "cell_type": "markdown",
   "metadata": {},
   "source": [
    "## The SciPy Module"
   ]
  },
  {
   "cell_type": "markdown",
   "metadata": {},
   "source": [
    "The SciPy module contains functions, methods and data structures for scientific computations and it goes side-by-side with NumPy. Some of the NumPy methods have been included in SciPy as well. The SciPy module for linear algebra is the `scipy.linalg`. It has the same name as NumPy and practically contains all the functions of NumPy and some extensions."
   ]
  },
  {
   "cell_type": "markdown",
   "metadata": {},
   "source": [
    "### Banded matrices\n",
    "\n",
    "As an example of SciPy capabilities we will discuss the solution of linear systems of the form $Ax=b$ in the special case where the matrix $A$ is banded. \n",
    "\n",
    "A banded (linear) system of equations is a linear system where its coefficients form a banded matrix. For example, the system $Ax=b$ (that we have already seen before) with matrices \n",
    "\n",
    "$$A=\n",
    "\\begin{pmatrix}\n",
    "2 & -1 & 0 & 0\\\\\n",
    "-1 & 3 & -1 & 0\\\\\n",
    "0 & -1 & 3 & -1\\\\\n",
    "0 & 0 & -1 & 2\n",
    "\\end{pmatrix}\\ \\mbox{ and } \n",
    "b=\\begin{pmatrix}\n",
    "1\\\\\n",
    "1\\\\\n",
    "1\\\\\n",
    "1\\\\\n",
    "\\end{pmatrix}\\ .\n",
    "$$\n",
    "\n",
    "is a banded system. \n",
    "\n",
    "Banded matrices can even be considered as sparse matrices if let's say more than half of their entries are zero. There are many ways to store efficiently a sparse matrix but here we will discuss only the case of a band storage.\n",
    "\n",
    "Consider a $5\\times 5$ general banded matrix\\index{matrix!banded} with four diagonals (with entries not necessarily non-zero):\n",
    "\n",
    "$$A= \\begin{pmatrix}\n",
    "a_{11} & a_{12} & 0 & 0 & 0 \\\\\n",
    "a_{21} & a_{22} & a_{23} & 0 & 0 \\\\\n",
    "a_{31} & a_{32} & a_{33} & a_{34} & 0\\\\\n",
    "0 & a_{42} & a_{43} & a_{44} & a_{45} \\\\\n",
    "0  & 0 & a_{53} & a_{54} & a_{55}\n",
    "\\end{pmatrix}\\ .$$\n",
    "\n",
    "This matrix has the following nonzero diagonals: the main diagonal, one diagonal above the main diagonal and two diagonals bellow the main diagonal. We want to store only these diagonals (even if they contain some zeros). A way to store them is to store the diagonals as rows of a new matrix $A_b$. In our case, since we have four diagonals the matrix $A_b$ must be $4\\times 5$ (4 rows for the 4 diagonals). The number of columns will be the same.\n",
    "\n",
    "$$A_b=\\begin{bmatrix}\n",
    "\\ast & a_{12} & a_{23}   & a_{34} & a_{45} \\\\\n",
    "a_{11} & a_{22} & a_{33} & a_{44} & a_{55}\\\\\n",
    "a_{21} & a_{32} & a_{43} & a_{54} & \\ast \\\\\n",
    "a_{31} & a_{42} & a_{53} & \\ast   & \\ast \n",
    "\\end{bmatrix}$$\n",
    "\n",
    "The entries marked with $\\ast$ in the upper left and lower right corners of the matrix $A_b$ need not to be set or can be zero.\n",
    "\n",
    "We will denote by $l$ the number of non-zero diagonals bellow the main diagonal (lower bandwidth) and $u$ the number of non-zero diagonals above the main diagonal (upper bandwidth). Then, the total number of the non-zero diagonals will be $p=l+u+1$, since we need to take into account the main diagonal as well. In our example we have $l=2$ and $u=1$, so $p=4$ as the number of rows in $A_b$. Moreover, we have that\n",
    "\n",
    "$$A_b(u+1+i-j,j)=A(i,j)\\quad \\mbox{ for } \\quad \\begin{array}{l}\n",
    "j=1,\\cdots,n\\ , \\\\\n",
    "\\max(1,j-u)\\leq i\\leq \\min(n,j+l)\\ .\n",
    "\\end{array} $$\n",
    "\n",
    "Note that the indices here are natural indices and not Python indices. In order to implement such an algorithm we need to modify the indices appropriately. For example, since we have two indices to vary (`i` and `j`) we first start with `j in range(n)`, which assigns to `j` the numbers from `0` to `n-1` (1 less than the natural values). \n",
    "\n",
    "Then, we need to transform the $i$ index into Python index. The natural values will be from $\\max(1,j-u)$ to $\\min(n,j+l)$. Since in our code `j` is a Python index, in order to make it natural we need to add `1` and compute these two values in natural coordinates. So we compute the maximum $\\max(1,j-u)$ as `M = max(1,j+1-u)` where we take `j+1` instead of `j`. Then, we compute the minimum $\\min(n,j+l)$ as `m = min(m,j+1+l)`, again taking `j+1` instead of `j`. In this way we compute the maximum and minimum in natural coordinates. Then, we need to iterate over `i`. This can be done with the command `for i in range(M-1,m):` in analogy of $i = \\max(1,j-u),\\cdots, \\min(n,j+l)$. The reason why we take `M-1` is because we computed `M` in natural coordinates, so we need to transform it into Python index. We keep `m` unchanged since the `range` function will return values up to `m-1`, and so there is no need to change it. The Python code can be the following:\n",
    "\n"
   ]
  },
  {
   "cell_type": "code",
   "execution_count": 6,
   "metadata": {},
   "outputs": [
    {
     "name": "stdout",
     "output_type": "stream",
     "text": [
      "5 5\n",
      "[[0. 0. 0. 0. 0.]\n",
      " [0. 0. 0. 0. 0.]\n",
      " [0. 0. 0. 0. 0.]\n",
      " [0. 0. 0. 0. 0.]]\n",
      "[[ 0. 32. 23. 34. 45.]\n",
      " [15. 22. 33. 44. 55.]\n",
      " [25. 32. 43. 54.  0.]\n",
      " [31. 42. 53.  0.  0.]]\n"
     ]
    }
   ],
   "source": [
    "import numpy as np\n",
    "A = np.array( [[ 15, 32,  0,  0,  0], \n",
    "               [ 25, 22, 23,  0,  0], \n",
    "               [ 31, 32, 33, 34,  0], \n",
    "               [  0, 42, 43, 44, 45], \n",
    "               [  0,  0, 53, 54, 55]] )\n",
    "(n,n) = A.shape    # Get the dimensions of A\n",
    "print(n,n)\n",
    "\n",
    "Ab = np.zeros((4,5))  # Reserve the appropriate space\n",
    "print(Ab)\n",
    "# Define the lower and upper bandwidth\n",
    "l = 2\n",
    "u = 1\n",
    "for j in range(n):   # Convert the matrix into banded format\n",
    "    M = max(1, j+1-u)\n",
    "    #print(\"M = \",M)\n",
    "    m = min(n, j+1+l)\n",
    "    #print(\"m = \",m)\n",
    "    for i in range(M-1,m):\n",
    "        Ab[u+i-j,j] = A[i,j]\n",
    "print(Ab)"
   ]
  },
  {
   "cell_type": "markdown",
   "metadata": {},
   "source": [
    "\n",
    "In order to make the correct assignment $A_b(u+1+i-j,j)=A(i,j)$, we need to keep in mind that in Python `i` and `j` differ by `1` from the natural indices $i$ and $j$. So, for example, the row index $u+1+i-j$ is `u+1+i+1-j-1` where we substituted `i` with `i+1` and `j` with `j+1` to make them natural. Then, we need to subtract `1` to convert the result into a Python index. So, we need to take `u+1+i+1-j-1-1`, which is equal to `u+i-j`.\n",
    " \n",
    "Perhaps, this is not the most efficient way to implement such transformation but it serves well the purpose of understanding the transformation between natural and Python indices.\n",
    "\n",
    "We consider now the linear system with the banded matrix $A$ and right hand side $b=(23, 66, 130, 174, 162)^T$, which has the exact solution $x=(1,1,1,1,1)^T$. (To verify that observe that the right hand side has entries the sums of the entries of the corresponding rows of $A$). In order to solve such a system efficiently we can use the SciPy function `solve_banded` from the module `scipy.linalg`. This function can be used in the form `solve_banded((l,u),Ab,b)` where `(l,u)` are the lower and upper bandwidth, respectively, \\texttt{Ab} the matrix $A$ stored in banded format, and `b` the right-hand side.\n"
   ]
  },
  {
   "cell_type": "code",
   "execution_count": 7,
   "metadata": {},
   "outputs": [
    {
     "name": "stdout",
     "output_type": "stream",
     "text": [
      "[[1.]\n",
      " [1.]\n",
      " [1.]\n",
      " [1.]\n",
      " [1.]]\n"
     ]
    }
   ],
   "source": [
    "from scipy.linalg import solve_banded\n",
    "Ab = np.array( [[ 0, 12, 23, 34, 45],\n",
    "                [11, 22, 33, 44, 55], \n",
    "                [21, 32, 43, 54,  0], \n",
    "                [31, 42, 53,  0,  0]] )\n",
    "b = np.array( [[23], [66], [130], [174], [162]] )\n",
    "l = 2\n",
    "u = 1\n",
    "x = solve_banded((l,u), Ab, b)\n",
    "print(x)"
   ]
  },
  {
   "cell_type": "markdown",
   "metadata": {},
   "source": [
    "A dense matrix (i.e. not a sparse matrix) can also be considered as band matrix with $l+u+1=n$. This means that the methods described in this section can be applied to full matrices as well."
   ]
  },
  {
   "cell_type": "markdown",
   "metadata": {},
   "source": [
    "Symmetric matrices can be treated differently, in the sense that we can store only half of the matrix:"
   ]
  },
  {
   "cell_type": "code",
   "execution_count": 10,
   "metadata": {},
   "outputs": [
    {
     "name": "stdout",
     "output_type": "stream",
     "text": [
      "[[ 2.  2.  2.  2.  2.]\n",
      " [-1. -1. -1. -1.  0.]]\n"
     ]
    }
   ],
   "source": [
    "A = np.array( [[  2, -1,  0,  0,  0], \n",
    "               [ -1,  2, -1,  0,  0], \n",
    "               [  0, -1,  2, -1,  0], \n",
    "               [  0,  0, -1,  2, -1], \n",
    "               [  0,  0,  0, -1,  2]] )\n",
    "(n,n) = A.shape\n",
    "Ab = np.zeros((2,5))\n",
    "p = 1\n",
    "for j in range(n):\n",
    "    m = min(n, j+1+p)\n",
    "    for i in range(j,m):\n",
    "        Ab[i-j,j] = A[i,j]\n",
    "print(Ab)\n"
   ]
  },
  {
   "cell_type": "code",
   "execution_count": 11,
   "metadata": {},
   "outputs": [
    {
     "name": "stdout",
     "output_type": "stream",
     "text": [
      "[[1.]\n",
      " [1.]\n",
      " [1.]\n",
      " [1.]\n",
      " [1.]]\n"
     ]
    }
   ],
   "source": [
    "from scipy.linalg import solveh_banded\n",
    "Ab = np.array( [[  2,  2,  2,  2,  2], \n",
    "                [ -1, -1, -1, -1,  0]] )\n",
    "b = np.array( [[1], [0], [0], [0], [1]] )\n",
    "x = solveh_banded(Ab, b, lower=True)\n",
    "print(x)\n"
   ]
  },
  {
   "cell_type": "markdown",
   "metadata": {},
   "source": [
    "### Circulant matrices"
   ]
  },
  {
   "cell_type": "markdown",
   "metadata": {},
   "source": [
    "SciPy can also handle other special matrices such as circulant matrices"
   ]
  },
  {
   "cell_type": "code",
   "execution_count": 45,
   "metadata": {},
   "outputs": [
    {
     "name": "stdout",
     "output_type": "stream",
     "text": [
      "[[2 3 4]\n",
      " [4 2 3]\n",
      " [3 4 2]]\n"
     ]
    }
   ],
   "source": [
    "from scipy.linalg import circulant\n",
    "c = np.array([2, 4, 3])\n",
    "A = circulant(c)\n",
    "print(A)"
   ]
  },
  {
   "cell_type": "code",
   "execution_count": 46,
   "metadata": {},
   "outputs": [
    {
     "name": "stdout",
     "output_type": "stream",
     "text": [
      "[1. 1. 1.]\n"
     ]
    }
   ],
   "source": [
    "from scipy.linalg import solve_circulant\n",
    "c = np.array([2, 4, 3])\n",
    "b = np.array([9, 9, 9])\n",
    "x = solve_circulant(c, b)\n",
    "print(x)"
   ]
  },
  {
   "cell_type": "markdown",
   "metadata": {},
   "source": [
    "## Drawing Graphs with MatPlotLib\n",
    "\n",
    "The most common tool for sketching graphs (plotting) with Python is the MatPlotLib package. \n",
    "\n",
    "We usually plot one-dimensional arrays"
   ]
  },
  {
   "cell_type": "code",
   "execution_count": 14,
   "metadata": {},
   "outputs": [
    {
     "data": {
      "image/png": "[encoded data removed]",
      "text/plain": [
       "<Figure size 640x480 with 1 Axes>"
      ]
     },
     "metadata": {},
     "output_type": "display_data"
    }
   ],
   "source": [
    "import matplotlib.pyplot as plt\n",
    "\n",
    "x = np.array([-1, 0, 1])\n",
    "y = x.copy()\n",
    "plt.plot(x,y,'o')\n",
    "plt.show()"
   ]
  },
  {
   "cell_type": "markdown",
   "metadata": {},
   "source": [
    "To give the impression of a continuous line we plot a lot of points connected with straight lines. We generate an array with equidistributed points using the function `numpy.linspace`. Alternatively, we can use the function `numpy.arange`"
   ]
  },
  {
   "cell_type": "code",
   "execution_count": 12,
   "metadata": {},
   "outputs": [
    {
     "name": "stdout",
     "output_type": "stream",
     "text": [
      "[0.   0.25 0.5  0.75 1.  ]\n",
      "[0.   0.25 0.5  0.75 1.  ]\n"
     ]
    }
   ],
   "source": [
    "a = 0.0\n",
    "b = 1.0\n",
    "N = 5 #Number of points\n",
    "h = (b-a)/(N-1)\n",
    "x = np.linspace( a, b, N )\n",
    "print(x)\n",
    "x = np.arange( a, b + h, h )\n",
    "print(x)"
   ]
  },
  {
   "cell_type": "markdown",
   "metadata": {},
   "source": [
    "Using this technique we plot the function $sin(x)$ in $[0,2\\pi]$ as follows:"
   ]
  },
  {
   "cell_type": "code",
   "execution_count": 18,
   "metadata": {},
   "outputs": [
    {
     "data": {
      "image/png": "[encoded data removed]",
      "text/plain": [
       "<Figure size 640x480 with 1 Axes>"
      ]
     },
     "metadata": {},
     "output_type": "display_data"
    }
   ],
   "source": [
    "x = np.linspace( 0, 2*np.pi, 100 )\n",
    "y = np.sin(x)\n",
    "plt.plot(x, y)\n",
    "plt.xlabel('$x$')\n",
    "plt.ylabel('$y$')\n",
    "plt.title('$y=sin(x)$')\n",
    "plt.xlim([0, 2*np.pi])\n",
    "plt.ylim([-1.1, 1.1])\n",
    "plt.show()"
   ]
  },
  {
   "cell_type": "markdown",
   "metadata": {},
   "source": [
    "We can plot multiple functions in one figure and using different styles"
   ]
  },
  {
   "cell_type": "code",
   "execution_count": 39,
   "metadata": {},
   "outputs": [
    {
     "data": {
      "image/png": "[encoded data removed]",
      "text/plain": [
       "<Figure size 640x480 with 1 Axes>"
      ]
     },
     "metadata": {},
     "output_type": "display_data"
    }
   ],
   "source": [
    "x = np.linspace( 0, 2*np.pi, 20 )\n",
    "y1 = np.sin(x)\n",
    "y2 = np.cos(x)\n",
    "y3 = np.sin(x/2.0)\n",
    "plt.plot(x,y1,'bo-',x,y2,'rd:',x,y3,'k-.')\n",
    "plt.xlabel('x')\n",
    "plt.ylabel('y', rotation = 0)\n",
    "plt.title('y=sin(x)')\n",
    "plt.xlim([0, 2*np.pi])\n",
    "plt.ylim([-1.1, 1.1])\n",
    "plt.show()"
   ]
  }
 ],
 "metadata": {
  "kernelspec": {
   "display_name": "Python 3 (ipykernel)",
   "language": "python",
   "name": "python3"
  },
  "language_info": {
   "codemirror_mode": {
    "name": "ipython",
    "version": 3
   },
   "file_extension": ".py",
   "mimetype": "text/x-python",
   "name": "python",
   "nbconvert_exporter": "python",
   "pygments_lexer": "ipython3",
   "version": "3.11.9"
  }
 },
 "nbformat": 4,
 "nbformat_minor": 2
}
