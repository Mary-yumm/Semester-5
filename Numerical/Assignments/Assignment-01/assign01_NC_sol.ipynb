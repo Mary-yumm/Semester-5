{
  "cells": [
    {
      "cell_type": "markdown",
      "id": "87674f1f",
      "metadata": {
        "id": "87674f1f"
      },
      "source": [
        "## Part 1 [30 marks]"
      ]
    },
    {
      "cell_type": "markdown",
      "id": "78e07f99",
      "metadata": {
        "id": "78e07f99"
      },
      "source": [
        "**Task 1: Create and Analyze Basic Matrices**"
      ]
    },
    {
      "cell_type": "code",
      "execution_count": 2,
      "id": "d72eb2f0",
      "metadata": {
        "id": "d72eb2f0"
      },
      "outputs": [],
      "source": [
        "# TODO: Import necessary libraries (numpy, scipy, matplotlib)\n",
        "import numpy as np\n",
        "from scipy.linalg import toeplitz, circulant,solve_toeplitz,solve_circulant\n",
        "import matplotlib.pyplot as plt\n",
        "import time"
      ]
    },
    {
      "cell_type": "code",
      "execution_count": null,
      "id": "95f548bf",
      "metadata": {
        "id": "95f548bf"
      },
      "outputs": [],
      "source": [
        "#TODO: Create a 3x3 Toeplitz matrix using scipy\n",
        "\n",
        "col = [1, 2, 3]\n",
        "row = [1, 4, 5]\n",
        "\n",
        "T = toeplitz(col, row)\n"
      ]
    },
    {
      "cell_type": "code",
      "execution_count": null,
      "id": "ca927f93",
      "metadata": {
        "id": "ca927f93"
      },
      "outputs": [],
      "source": [
        "# TODO: Create a 3x3 Circulant matrix using scipy.linalg.circulant\n",
        "\n",
        "c = [1, 2, 3]\n",
        "\n",
        "C = circulant(c)\n"
      ]
    },
    {
      "cell_type": "code",
      "execution_count": null,
      "id": "5cc4cbf6",
      "metadata": {
        "id": "5cc4cbf6"
      },
      "outputs": [],
      "source": [
        "# TODO: Compute the determinant of both matrices using numpy.linalg.det\n",
        "\n",
        "\n",
        "det_T = np.linalg.det(T)\n",
        "det_C = np.linalg.det(C)\n"
      ]
    },
    {
      "cell_type": "code",
      "execution_count": null,
      "id": "704943d4",
      "metadata": {
        "id": "704943d4"
      },
      "outputs": [],
      "source": [
        "# TODO: Compute the inverse of both matrices using numpy.linalg.inv\n",
        "\n",
        "inv_T = np.linalg.inv(T)\n",
        "inv_C = np.linalg.inv(C)\n"
      ]
    },
    {
      "cell_type": "code",
      "execution_count": null,
      "id": "71d02fb2",
      "metadata": {
        "id": "71d02fb2",
        "outputId": "a5e40a00-0b0c-4026-a54b-130982745463"
      },
      "outputs": [
        {
          "name": "stdout",
          "output_type": "stream",
          "text": [
            "Toeplitz Matrix:\n",
            " [[1 4 5]\n",
            " [2 1 4]\n",
            " [3 2 1]]\n",
            "\n",
            "Circulant Matrix:\n",
            " [[1 3 2]\n",
            " [2 1 3]\n",
            " [3 2 1]]\n",
            "\n",
            "Determinant of Toeplitz matrix: 37.99999999999999\n",
            "Determinant of Circulant matrix: 17.999999999999996\n",
            "\n",
            "Inverse of Toeplitz matrix:\n",
            " [[-0.18421053  0.15789474  0.28947368]\n",
            " [ 0.26315789 -0.36842105  0.15789474]\n",
            " [ 0.02631579  0.26315789 -0.18421053]]\n",
            "\n",
            "Inverse of Circulant matrix:\n",
            " [[-0.27777778  0.05555556  0.38888889]\n",
            " [ 0.38888889 -0.27777778  0.05555556]\n",
            " [ 0.05555556  0.38888889 -0.27777778]]\n"
          ]
        }
      ],
      "source": [
        "# TODO: Print the Toeplitz matrix, Circulant matrix, their determinants, and inverses, your results should look like the following\n",
        "\n",
        "print(\"Toeplitz Matrix:\\n\", T)\n",
        "print(\"\\nCirculant Matrix:\\n\", C)\n",
        "print(\"\\nDeterminant of Toeplitz matrix:\", det_T)\n",
        "print(\"Determinant of Circulant matrix:\", det_C)\n",
        "print(\"\\nInverse of Toeplitz matrix:\\n\", inv_T)\n",
        "print(\"\\nInverse of Circulant matrix:\\n\", inv_C)\n"
      ]
    },
    {
      "cell_type": "code",
      "execution_count": null,
      "id": "97160701",
      "metadata": {
        "id": "97160701"
      },
      "outputs": [],
      "source": []
    },
    {
      "cell_type": "markdown",
      "id": "e57fb439",
      "metadata": {
        "id": "e57fb439"
      },
      "source": [
        "## Part 2 [50 marks]"
      ]
    },
    {
      "cell_type": "markdown",
      "id": "5e259d9f",
      "metadata": {
        "id": "5e259d9f"
      },
      "source": [
        "**Tasks : Generate and Solve Linear Systems**"
      ]
    },
    {
      "cell_type": "code",
      "execution_count": null,
      "id": "39e0f3db",
      "metadata": {
        "id": "39e0f3db"
      },
      "outputs": [],
      "source": [
        "# TODO: convert the above 3x3 into 3000x3000:\n",
        "    # 1. A 3000x3000 Toeplitz matrix using scipy.linalg.toeplitz\n",
        "\n",
        "\n",
        "col_large = np.random.randint(1, 10, 3000)\n",
        "row_large = np.random.randint(1, 10, 3000)\n",
        "\n",
        "\n",
        "T_large = toeplitz(col_large, row_large)\n",
        "\n"
      ]
    },
    {
      "cell_type": "code",
      "execution_count": null,
      "id": "810bb206",
      "metadata": {
        "id": "810bb206"
      },
      "outputs": [],
      "source": [
        "     # 2. A 3000x3000 Circulant matrix using scipy.linalg.circulant\n",
        "\n",
        "\n",
        "c_large = np.random.randint(1, 10, 3000)\n",
        "\n",
        "\n",
        "C_large = circulant(c_large)\n"
      ]
    },
    {
      "cell_type": "code",
      "execution_count": null,
      "id": "cb1fb3cc",
      "metadata": {
        "id": "cb1fb3cc"
      },
      "outputs": [],
      "source": [
        "# TODO: Create corresponding random vectors b for each system\n",
        "\n",
        "\n",
        "b_toeplitz = np.random.rand(3000)\n",
        "b_circulant = np.random.rand(3000)\n"
      ]
    },
    {
      "cell_type": "code",
      "execution_count": null,
      "id": "fdbc5d47",
      "metadata": {
        "id": "fdbc5d47"
      },
      "outputs": [],
      "source": [
        "# TODO: Solve each system Ax = b using numpy's general-purpose solver\n",
        "\n",
        "x_toeplitz = np.linalg.solve(T_large, b_toeplitz)\n",
        "\n",
        "x_circulant = np.linalg.solve(C_large, b_circulant)\n",
        "\n"
      ]
    },
    {
      "cell_type": "code",
      "execution_count": null,
      "id": "04efb038",
      "metadata": {
        "id": "04efb038"
      },
      "outputs": [],
      "source": [
        "# TODO: Solve above toeplitz system using scipy's specialized solvers\n",
        "\n",
        "x_toeplitz_scipy = solve_toeplitz((col_large, row_large), b_toeplitz)\n",
        "\n"
      ]
    },
    {
      "cell_type": "code",
      "execution_count": null,
      "id": "8036b94d",
      "metadata": {
        "id": "8036b94d"
      },
      "outputs": [],
      "source": [
        "# TODO: Solve above circulant system using scipy's specialized solvers\n",
        "\n",
        "x_circulant_scipy = solve_circulant(c_large, b_circulant)\n",
        "\n"
      ]
    },
    {
      "cell_type": "code",
      "execution_count": null,
      "id": "e223e594",
      "metadata": {
        "id": "e223e594",
        "outputId": "bbf24efc-c621-461c-faad-03c4524a26b1"
      },
      "outputs": [
        {
          "name": "stdout",
          "output_type": "stream",
          "text": [
            "NumPy Solver Time: 0.7525 seconds\n",
            "SciPy Specialized Solver Time: 0.0290 seconds\n"
          ]
        }
      ],
      "source": [
        "# Task 2: Compare execution times (import time library here) toeplitz system using scipy's specialized solvers Vs Numpy solution for same system, make sure your results look like in following formate\n",
        "\n",
        "# NumPy solver timing\n",
        "start_time = time.time()\n",
        "np.linalg.solve(T_large, b_toeplitz)\n",
        "numpy_time = time.time() - start_time\n",
        "\n",
        "# SciPy solver timing\n",
        "start_time = time.time()\n",
        "solve_toeplitz((col_large, row_large), b_toeplitz)\n",
        "scipy_time = time.time() - start_time\n",
        "\n",
        "# Print results\n",
        "print(f\"NumPy Solver Time: {numpy_time:.4f} seconds\")\n",
        "print(f\"SciPy Specialized Solver Time: {scipy_time:.4f} seconds\")\n",
        "\n",
        "\n"
      ]
    },
    {
      "cell_type": "code",
      "execution_count": null,
      "id": "c1fa62fa",
      "metadata": {
        "id": "c1fa62fa",
        "outputId": "a6e5ddac-366d-40df-a6dd-2ea87e93e068"
      },
      "outputs": [
        {
          "data": {
            "image/png": "[encoded data removed]",
            "text/plain": [
              "<Figure size 1000x600 with 1 Axes>"
            ]
          },
          "metadata": {},
          "output_type": "display_data"
        }
      ],
      "source": [
        "# TODO: plot the Comparison using plt.plot Execution Times circulant system using scipy's specialized solvers Vs Numpy solution for same system\n",
        "\n",
        "# Measure execution time for NumPy's solver\n",
        "start_time = time.time()\n",
        "np.linalg.solve(C_large, b_circulant)\n",
        "numpy_time_circulant = time.time() - start_time\n",
        "\n",
        "# Measure execution time for SciPy's specialized solver\n",
        "start_time = time.time()\n",
        "solve_circulant(c_large, b_circulant)\n",
        "scipy_time_circulant = time.time() - start_time\n",
        "\n",
        "# Plot comparison\n",
        "plt.figure(figsize=(10, 6))\n",
        "plt.bar(['NumPy Solver', 'SciPy Specialized Solver'], [numpy_time_circulant, scipy_time_circulant], color=['blue', 'green'])\n",
        "plt.ylabel('Execution Time (seconds)')\n",
        "plt.title('Comparison of Execution Times for Circulant System Solvers')\n",
        "plt.show()\n"
      ]
    },
    {
      "cell_type": "code",
      "execution_count": null,
      "id": "0dc4a792",
      "metadata": {
        "id": "0dc4a792"
      },
      "outputs": [],
      "source": []
    },
    {
      "cell_type": "code",
      "execution_count": null,
      "id": "67e80689",
      "metadata": {
        "id": "67e80689",
        "outputId": "cc14c1ff-d145-4305-888f-dc10a582ec0a"
      },
      "outputs": [
        {
          "name": "stdout",
          "output_type": "stream",
          "text": [
            "NumPy Solver Time for Circulant Matrix: 0.8256 seconds\n",
            "SciPy Specialized Solver Time for Circulant Matrix: 0.0010 seconds\n"
          ]
        }
      ],
      "source": [
        "# TODO: Compare Execution Times circulant system using scipy's specialized solvers Vs Numpy solution for same system\n",
        "\n",
        "\n",
        "\n",
        "# Define large Circulant matrix and vector\n",
        "c_large = np.random.randint(1, 10, 3000)\n",
        "C_large = circulant(c_large)\n",
        "b_circulant = np.random.rand(3000)\n",
        "\n",
        "# Measure execution time for NumPy's solver\n",
        "start_time = time.time()\n",
        "np.linalg.solve(C_large, b_circulant)\n",
        "numpy_time_circulant = time.time() - start_time\n",
        "\n",
        "# Measure execution time for SciPy's specialized solver\n",
        "start_time = time.time()\n",
        "solve_circulant(c_large, b_circulant)\n",
        "scipy_time_circulant = time.time() - start_time\n",
        "\n",
        "# Print results\n",
        "print(f\"NumPy Solver Time for Circulant Matrix: {numpy_time_circulant:.4f} seconds\")\n",
        "print(f\"SciPy Specialized Solver Time for Circulant Matrix: {scipy_time_circulant:.4f} seconds\")\n"
      ]
    },
    {
      "cell_type": "code",
      "execution_count": null,
      "id": "0a22d26c",
      "metadata": {
        "id": "0a22d26c"
      },
      "outputs": [],
      "source": []
    },
    {
      "cell_type": "code",
      "execution_count": null,
      "id": "439a7675",
      "metadata": {
        "id": "439a7675",
        "outputId": "f9d2959a-695c-437f-f883-9459db797531"
      },
      "outputs": [
        {
          "data": {
            "image/png": "[encoded data removed]",
            "text/plain": [
              "<Figure size 1000x600 with 1 Axes>"
            ]
          },
          "metadata": {},
          "output_type": "display_data"
        }
      ],
      "source": [
        "# TODO: plot the Comparison using plt.plot Execution Times circulant system using scipy's specialized solvers Vs Numpy solution for same system\n",
        "\n",
        "\n",
        "# Define large Circulant matrix and vector\n",
        "c_large = np.random.randint(1, 10, 3000)\n",
        "C_large = circulant(c_large)\n",
        "b_circulant = np.random.rand(3000)\n",
        "\n",
        "# Measure execution time for NumPy's solver\n",
        "start_time = time.time()\n",
        "np.linalg.solve(C_large, b_circulant)\n",
        "numpy_time_circulant = time.time() - start_time\n",
        "\n",
        "# Measure execution time for SciPy's specialized solver\n",
        "start_time = time.time()\n",
        "solve_circulant(c_large, b_circulant)\n",
        "scipy_time_circulant = time.time() - start_time\n",
        "\n",
        "# Plot comparison\n",
        "plt.figure(figsize=(10, 6))\n",
        "plt.bar(['NumPy Solver', 'SciPy Specialized Solver'], [numpy_time_circulant, scipy_time_circulant], color=['blue', 'green'])\n",
        "plt.ylabel('Execution Time (seconds)')\n",
        "plt.title('Comparison of Execution Times for Circulant System Solvers')\n",
        "plt.show()\n",
        "\n"
      ]
    },
    {
      "cell_type": "code",
      "execution_count": null,
      "id": "54140afc",
      "metadata": {
        "id": "54140afc"
      },
      "outputs": [],
      "source": []
    },
    {
      "cell_type": "markdown",
      "id": "ec20621f",
      "metadata": {
        "id": "ec20621f"
      },
      "source": [
        "## Part 3: [50 marks]"
      ]
    },
    {
      "cell_type": "markdown",
      "id": "3f5874e2",
      "metadata": {
        "id": "3f5874e2"
      },
      "source": [
        "***Task 1: Implement a function mm() to perform Naive matrix multiplication***"
      ]
    },
    {
      "cell_type": "code",
      "execution_count": 7,
      "id": "cc7e1c56",
      "metadata": {
        "id": "cc7e1c56"
      },
      "outputs": [],
      "source": [
        "def mm(A, B):\n",
        "\n",
        "    rows_A, cols_A = A.shape\n",
        "    rows_B, cols_B = B.shape\n",
        "\n",
        "    # Check if multiplication is possible\n",
        "    if cols_A != rows_B:\n",
        "        raise ValueError(\"Incompatible dimensions for matrix multiplication\")\n",
        "\n",
        "    result = np.zeros((rows_A, cols_B))\n",
        "\n",
        "    for i in range(rows_A):\n",
        "        for j in range(cols_B):\n",
        "            for k in range(cols_A):\n",
        "                result[i, j] += A[i, k] * B[k, j]\n",
        "\n",
        "    return result"
      ]
    },
    {
      "cell_type": "markdown",
      "id": "3e4cfc86-b0a0-410d-aa96-4ff59ecd695a",
      "metadata": {
        "id": "3e4cfc86-b0a0-410d-aa96-4ff59ecd695a"
      },
      "source": [
        "***Task 2: Implement a function mm_vec() to perform Vectorized matrix multiplication***"
      ]
    },
    {
      "cell_type": "code",
      "execution_count": 6,
      "id": "7f19fb2b",
      "metadata": {
        "id": "7f19fb2b"
      },
      "outputs": [],
      "source": [
        "def mm_vec(A, B):\n",
        "    rows_A, cols_A = A.shape\n",
        "    rows_B, cols_B = B.shape\n",
        "\n",
        "    if cols_A != rows_B:\n",
        "        raise ValueError(\"Incompatible dimensions for matrix multiplication\")\n",
        "\n",
        "    result = np.zeros((rows_A, cols_B))\n",
        "\n",
        "    for i in range(rows_A):\n",
        "        for j in range(cols_B):\n",
        "            result[i, j] = np.sum(A[i, :] * B[:, j])\n",
        "\n",
        "    return result"
      ]
    },
    {
      "cell_type": "markdown",
      "id": "65b1959f",
      "metadata": {
        "id": "65b1959f"
      },
      "source": [
        "***Task 3: Implenent a function mm_np() that uses numpy to perform matrix multiplication***"
      ]
    },
    {
      "cell_type": "code",
      "execution_count": 8,
      "id": "a0e5bd25-aa3a-49e1-8e15-c9159521196e",
      "metadata": {
        "id": "a0e5bd25-aa3a-49e1-8e15-c9159521196e"
      },
      "outputs": [],
      "source": [
        "def mm_np(A, B):\n",
        "    rows_A, cols_A = A.shape\n",
        "    rows_B, cols_B = B.shape\n",
        "\n",
        "    if cols_A != rows_B:\n",
        "        raise ValueError(\"Incompatible dimensions for matrix multiplication\")\n",
        "\n",
        "    return np.dot(A, B)"
      ]
    },
    {
      "cell_type": "markdown",
      "id": "0bfa9ff6-9145-4f47-ad19-9ff0bde22489",
      "metadata": {
        "id": "0bfa9ff6-9145-4f47-ad19-9ff0bde22489"
      },
      "source": [
        "***Task 4: Ensure that mm() and mm_vec() functions perform correct matrix multiplication***"
      ]
    },
    {
      "cell_type": "code",
      "execution_count": null,
      "id": "2850f759-9e68-4887-9dc8-a0e317e414fc",
      "metadata": {
        "id": "2850f759-9e68-4887-9dc8-a0e317e414fc",
        "outputId": "0abebeed-d25e-4590-a211-1c0ed190b602"
      },
      "outputs": [
        {
          "name": "stdout",
          "output_type": "stream",
          "text": [
            "mm:\n",
            " [[2. 2.]\n",
            " [2. 2.]]\n",
            "mm_vec:\n",
            " [[2 2]\n",
            " [2 2]]\n"
          ]
        }
      ],
      "source": [
        "\n",
        "A = np.array([[1, 1], [1, 1]])\n",
        "B = np.array([[1, 1], [1, 1]])\n",
        "\n",
        "# Perform matrix multiplication using naive method\n",
        "result_naive = mm(A, B)\n",
        "\n",
        "# Perform matrix multiplication using vectorized method\n",
        "result_vec = mm_vec(A, B)\n",
        "\n",
        "print(\"mm:\\n\", result_naive)\n",
        "print(\"mm_vec:\\n\", result_vec)\n"
      ]
    },
    {
      "cell_type": "markdown",
      "id": "de5472f8-1dda-4c73-9f64-8bb377702d16",
      "metadata": {
        "id": "de5472f8-1dda-4c73-9f64-8bb377702d16"
      },
      "source": [
        "***Task 5: Visualize Performance and Results***"
      ]
    },
    {
      "cell_type": "code",
      "execution_count": null,
      "id": "eec6ac9a",
      "metadata": {
        "id": "eec6ac9a",
        "outputId": "209da64e-37cc-429a-e270-3a2e8de4a959"
      },
      "outputs": [
        {
          "data": {
            "image/png": "[encoded data removed]",
            "text/plain": [
              "<Figure size 1000x600 with 1 Axes>"
            ]
          },
          "metadata": {},
          "output_type": "display_data"
        }
      ],
      "source": [
        "# TODO: Plot the execution time comparisons of the three functions that you implemented for matrix of size 5x5\n",
        "\n",
        "\n",
        "size = 5\n",
        "\n",
        "A = np.random.rand(size, size)\n",
        "B = np.random.rand(size, size)\n",
        "\n",
        "\n",
        "start_time = time.time()\n",
        "mm(A, B)\n",
        "time_naive = time.time() - start_time\n",
        "\n",
        "start_time = time.time()\n",
        "mm_vec(A, B)\n",
        "time_vec = time.time() - start_time\n",
        "\n",
        "\n",
        "start_time = time.time()\n",
        "np.dot(A, B)  # or use A @ B\n",
        "time_np = time.time() - start_time\n",
        "\n",
        "\n",
        "plt.figure(figsize=(10, 6))\n",
        "plt.bar(['Naive Method', 'Vectorized Method', 'NumPy Built-in'], [time_naive, time_vec, time_np], color=['red', 'blue', 'green'])\n",
        "plt.ylabel('Execution Time (seconds)')\n",
        "plt.title('Execution Time Comparison for Matrix Multiplication (5x5)')\n",
        "plt.show()"
      ]
    },
    {
      "cell_type": "code",
      "execution_count": null,
      "id": "a6f61f83",
      "metadata": {
        "id": "a6f61f83"
      },
      "outputs": [],
      "source": []
    },
    {
      "cell_type": "code",
      "execution_count": 9,
      "id": "5204ca07-cbe3-4af8-8f7c-3af728ad138c",
      "metadata": {
        "colab": {
          "base_uri": "https://localhost:8080/",
          "height": 565
        },
        "id": "5204ca07-cbe3-4af8-8f7c-3af728ad138c",
        "outputId": "baa2fd89-f256-4c25-ecad-6038c603b54e"
      },
      "outputs": [
        {
          "output_type": "display_data",
          "data": {
            "text/plain": [
              "<Figure size 1000x600 with 1 Axes>"
            ],
            "image/png": "[encoded data removed]"
          },
          "metadata": {}
        }
      ],
      "source": [
        "# TODO: Plot the execution time comparisons of the three functions that you implemented for matrix of size 500x500\n",
        "\n",
        "size = 500\n",
        "A = np.random.rand(size, size)\n",
        "B = np.random.rand(size, size)\n",
        "\n",
        "#  naive method\n",
        "start_time = time.time()\n",
        "mm(A, B)\n",
        "time_naive = time.time() - start_time\n",
        "\n",
        "# vectorized method\n",
        "start_time = time.time()\n",
        "mm_vec(A, B)\n",
        "time_vec = time.time() - start_time\n",
        "\n",
        "# NumPy built-in method\n",
        "start_time = time.time()\n",
        "np.dot(A, B)  # or use A @ B\n",
        "time_np = time.time() - start_time\n",
        "\n",
        "plt.figure(figsize=(10, 6))\n",
        "plt.bar(['Naive Method', 'Vectorized Method', 'NumPy Built-in'], [time_naive, time_vec, time_np], color=['red', 'blue', 'green'])\n",
        "plt.ylabel('Execution Time (seconds)')\n",
        "plt.title('Execution Time Comparison for Matrix Multiplication (500x500)')\n",
        "plt.show()"
      ]
    },
    {
      "cell_type": "code",
      "execution_count": 10,
      "id": "e3ef168f",
      "metadata": {
        "colab": {
          "base_uri": "https://localhost:8080/"
        },
        "id": "e3ef168f",
        "outputId": "0eb4b2be-f757-4b38-b9c0-b396f933cabe"
      },
      "outputs": [
        {
          "output_type": "stream",
          "name": "stdout",
          "text": [
            "101.78782796859741\n",
            "1.6208136081695557\n",
            "0.013846397399902344\n"
          ]
        }
      ],
      "source": [
        "print(time_naive)\n",
        "print(time_vec)\n",
        "print(time_np)"
      ]
    },
    {
      "cell_type": "markdown",
      "id": "5d5c3a0f",
      "metadata": {
        "id": "5d5c3a0f"
      },
      "source": [
        "#### Conclusion"
      ]
    },
    {
      "cell_type": "code",
      "execution_count": null,
      "id": "1d8fa8eb",
      "metadata": {
        "id": "1d8fa8eb"
      },
      "outputs": [],
      "source": [
        "# TODO: Analyze the results and write a brief report in the markdown cell, discussing these performance results"
      ]
    },
    {
      "cell_type": "markdown",
      "id": "9e688a30",
      "metadata": {
        "id": "9e688a30"
      },
      "source": [
        "------"
      ]
    },
    {
      "cell_type": "markdown",
      "id": "e131c894",
      "metadata": {
        "id": "e131c894"
      },
      "source": [
        "#### Performance Analysis of Matrix Multiplication\n",
        "\n",
        "Matrix multiplication performance comparison does not make sense for smaller matrices (5x5). In order to really test performance, realistic workload needs to be considered.\n",
        "\n",
        "For bigger matrices, vectorized mm is way more faster than the naive mm which shows the benefit of vectorization. Numpy's built-in shows the best performance, which indicates that they are using even more optimisations on the top of vectoriszation. In short, for efficient matrix multiplication, we should prefer NumPy's built-in methods.\n"
      ]
    },
    {
      "cell_type": "code",
      "execution_count": null,
      "id": "b0e11c73",
      "metadata": {
        "id": "b0e11c73"
      },
      "outputs": [],
      "source": []
    }
  ],
  "metadata": {
    "kernelspec": {
      "display_name": "Python 3 (ipykernel)",
      "language": "python",
      "name": "python3"
    },
    "language_info": {
      "codemirror_mode": {
        "name": "ipython",
        "version": 3
      },
      "file_extension": ".py",
      "mimetype": "text/x-python",
      "name": "python",
      "nbconvert_exporter": "python",
      "pygments_lexer": "ipython3",
      "version": "3.12.5"
    },
    "colab": {
      "provenance": []
    }
  },
  "nbformat": 4,
  "nbformat_minor": 5
}