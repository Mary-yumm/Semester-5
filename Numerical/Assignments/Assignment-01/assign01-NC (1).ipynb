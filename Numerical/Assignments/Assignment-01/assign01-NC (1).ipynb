{
 "cells": [
  {
   "cell_type": "markdown",
   "id": "87674f1f",
   "metadata": {},
   "source": [
    "## Part 1 [30 marks]"
   ]
  },
  {
   "cell_type": "markdown",
   "id": "78e07f99",
   "metadata": {},
   "source": [
    "**Task 1: Create and Analyze Basic Matrices**"
   ]
  },
  {
   "cell_type": "code",
   "execution_count": 1,
   "id": "d72eb2f0",
   "metadata": {},
   "outputs": [],
   "source": [
    "# TODO: Import necessary libraries (numpy, scipy, matplotlib)\n",
    "\n",
    "\n",
    "\n",
    "\n"
   ]
  },
  {
   "cell_type": "code",
   "execution_count": 2,
   "id": "95f548bf",
   "metadata": {},
   "outputs": [],
   "source": [
    "#TODO: Create a 3x3 Toeplitz matrix using scipy\n",
    "\n"
   ]
  },
  {
   "cell_type": "code",
   "execution_count": 3,
   "id": "ca927f93",
   "metadata": {},
   "outputs": [],
   "source": [
    "# TODO: Create a 3x3 Circulant matrix using scipy.linalg.circulant\n",
    "\n"
   ]
  },
  {
   "cell_type": "code",
   "execution_count": 4,
   "id": "5cc4cbf6",
   "metadata": {},
   "outputs": [],
   "source": [
    "# TODO: Compute the determinant of both matrices using numpy.linalg.det\n",
    "\n"
   ]
  },
  {
   "cell_type": "code",
   "execution_count": 5,
   "id": "704943d4",
   "metadata": {},
   "outputs": [],
   "source": [
    "# TODO: Compute the inverse of both matrices using numpy.linalg.inv\n",
    "\n",
    "\n"
   ]
  },
  {
   "cell_type": "code",
   "execution_count": 6,
   "id": "71d02fb2",
   "metadata": {},
   "outputs": [
    {
     "name": "stdout",
     "output_type": "stream",
     "text": [
      "Toeplitz Matrix (3x3):\n",
      " [[1 4 5]\n",
      " [2 1 4]\n",
      " [3 2 1]]\n",
      "Circulant Matrix (3x3):\n",
      " [[1 3 2]\n",
      " [2 1 3]\n",
      " [3 2 1]]\n",
      "Determinant of Toeplitz Matrix: 37.99999999999999\n",
      "Determinant of Circulant Matrix: 17.999999999999996\n",
      "Inverse of Toeplitz Matrix:\n",
      " [[-0.18421053  0.15789474  0.28947368]\n",
      " [ 0.26315789 -0.36842105  0.15789474]\n",
      " [ 0.02631579  0.26315789 -0.18421053]]\n",
      "Inverse of Circulant Matrix:\n",
      " [[-0.27777778  0.05555556  0.38888889]\n",
      " [ 0.38888889 -0.27777778  0.05555556]\n",
      " [ 0.05555556  0.38888889 -0.27777778]]\n"
     ]
    }
   ],
   "source": [
    "# TODO: Print the Toeplitz matrix, Circulant matrix, their determinants, and inverses, your results should look like the following \n",
    "\n",
    "\n",
    "\n",
    "\n",
    "\n",
    "\n",
    "\n"
   ]
  },
  {
   "cell_type": "code",
   "execution_count": null,
   "id": "97160701",
   "metadata": {},
   "outputs": [],
   "source": []
  },
  {
   "cell_type": "markdown",
   "id": "e57fb439",
   "metadata": {},
   "source": [
    "## Part 2 [50 marks]"
   ]
  },
  {
   "cell_type": "markdown",
   "id": "5e259d9f",
   "metadata": {},
   "source": [
    "**Tasks : Generate and Solve Linear Systems**"
   ]
  },
  {
   "cell_type": "code",
   "execution_count": 9,
   "id": "39e0f3db",
   "metadata": {},
   "outputs": [],
   "source": [
    "# TODO: convert the above 3x3 into 3000x3000: \n",
    "    # 1. A 3000x3000 Toeplitz matrix using scipy.linalg.toeplitz\n",
    "\n",
    "\n"
   ]
  },
  {
   "cell_type": "code",
   "execution_count": 10,
   "id": "810bb206",
   "metadata": {},
   "outputs": [],
   "source": [
    "     # 2. A 3000x3000 Circulant matrix using scipy.linalg.circulant\n",
    "\n",
    "\n"
   ]
  },
  {
   "cell_type": "code",
   "execution_count": 15,
   "id": "cb1fb3cc",
   "metadata": {},
   "outputs": [],
   "source": [
    "# TODO: Create corresponding random vectors b for each system\n",
    "\n",
    "\n"
   ]
  },
  {
   "cell_type": "code",
   "execution_count": 16,
   "id": "fdbc5d47",
   "metadata": {},
   "outputs": [],
   "source": [
    "# TODO: Solve each system Ax = b using numpy's general-purpose solver\n",
    "\n",
    "\n"
   ]
  },
  {
   "cell_type": "code",
   "execution_count": 19,
   "id": "04efb038",
   "metadata": {},
   "outputs": [],
   "source": [
    "# TODO: Solve above toeplitz system using scipy's specialized solvers\n",
    "\n",
    "\n"
   ]
  },
  {
   "cell_type": "code",
   "execution_count": 20,
   "id": "8036b94d",
   "metadata": {},
   "outputs": [],
   "source": [
    "# TODO: Solve above circulant system using scipy's specialized solvers\n",
    "\n"
   ]
  },
  {
   "cell_type": "code",
   "execution_count": 26,
   "id": "e223e594",
   "metadata": {},
   "outputs": [
    {
     "name": "stdout",
     "output_type": "stream",
     "text": [
      "Execution Time for NumPy general solve() function for Toeplitz system: 1.1745483875274658\n",
      "Execution Time for SciPy (Toeplitz): 0.03791022300720215\n"
     ]
    }
   ],
   "source": [
    "# Task 2: Compare execution times (import time library here) toeplitz system using scipy's specialized solvers Vs Numpy solution for same system, make sure your results look like in following formate\n",
    "\n",
    "\n",
    "\n",
    "\n"
   ]
  },
  {
   "cell_type": "code",
   "execution_count": 37,
   "id": "2181d647",
   "metadata": {},
   "outputs": [
    {
     "data": {
      "image/png": "[encoded data removed]",
      "text/plain": [
       "<Figure size 640x480 with 1 Axes>"
      ]
     },
     "metadata": {},
     "output_type": "display_data"
    }
   ],
   "source": [
    "\n",
    "# Task 2: plot the Comparison using plt.plot Execution Times toeplitz system using scipy's specialized solvers Vs Numpy solution for same system\n",
    "\n",
    "\n"
   ]
  },
  {
   "cell_type": "code",
   "execution_count": null,
   "id": "0dc4a792",
   "metadata": {},
   "outputs": [],
   "source": []
  },
  {
   "cell_type": "code",
   "execution_count": 29,
   "id": "33f42919",
   "metadata": {},
   "outputs": [
    {
     "name": "stdout",
     "output_type": "stream",
     "text": [
      "Execution Time for NumPy.solve()  Circulant system: 1.1327621936798096\n",
      "Execution Time for SciPy special function for Circulant system: 1.0987224578857422\n"
     ]
    }
   ],
   "source": [
    "# TODO: Compare Execution Times circulant system using scipy's specialized solvers Vs Numpy solution for same system\n",
    "\n"
   ]
  },
  {
   "cell_type": "code",
   "execution_count": null,
   "id": "0a22d26c",
   "metadata": {},
   "outputs": [],
   "source": []
  },
  {
   "cell_type": "code",
   "execution_count": 38,
   "id": "7f442c7c",
   "metadata": {},
   "outputs": [
    {
     "data": {
      "image/png": "[encoded data removed]",
      "text/plain": [
       "<Figure size 640x480 with 1 Axes>"
      ]
     },
     "metadata": {},
     "output_type": "display_data"
    }
   ],
   "source": [
    "# TODO: plot the Comparison using plt.plot Execution Times circulant system using scipy's specialized solvers Vs Numpy solution for same system\n",
    "\n",
    "\n",
    "\n",
    "\n",
    "\n",
    "\n",
    "\n",
    "\n",
    "\n",
    "\n"
   ]
  },
  {
   "cell_type": "code",
   "execution_count": null,
   "id": "89d9b1e0",
   "metadata": {},
   "outputs": [],
   "source": []
  },
  {
   "cell_type": "markdown",
   "id": "ec20621f",
   "metadata": {},
   "source": [
    "## Part 3: [50 marks]"
   ]
  },
  {
   "cell_type": "markdown",
   "id": "3f5874e2",
   "metadata": {},
   "source": [
    "***Task 1: Implement a function mm() to perform Naive matrix multiplication***"
   ]
  },
  {
   "cell_type": "code",
   "execution_count": null,
   "id": "cc7e1c56",
   "metadata": {},
   "outputs": [],
   "source": []
  },
  {
   "cell_type": "markdown",
   "id": "3e4cfc86-b0a0-410d-aa96-4ff59ecd695a",
   "metadata": {},
   "source": [
    "***Task 2: Implement a function mm_vec() to perform Vectorized matrix multiplication***"
   ]
  },
  {
   "cell_type": "code",
   "execution_count": null,
   "id": "3fc20f10",
   "metadata": {},
   "outputs": [],
   "source": []
  },
  {
   "cell_type": "markdown",
   "id": "65b1959f",
   "metadata": {},
   "source": [
    "***Task 3: Implenent a function mm_np() that uses numpy to perform matrix multiplication***"
   ]
  },
  {
   "cell_type": "code",
   "execution_count": null,
   "id": "a0e5bd25-aa3a-49e1-8e15-c9159521196e",
   "metadata": {},
   "outputs": [],
   "source": []
  },
  {
   "cell_type": "markdown",
   "id": "0bfa9ff6-9145-4f47-ad19-9ff0bde22489",
   "metadata": {},
   "source": [
    "***Task 4: Ensure that mm() and mm_vec() functions perform correct matrix multiplication***"
   ]
  },
  {
   "cell_type": "code",
   "execution_count": null,
   "id": "2850f759-9e68-4887-9dc8-a0e317e414fc",
   "metadata": {},
   "outputs": [],
   "source": []
  },
  {
   "cell_type": "markdown",
   "id": "de5472f8-1dda-4c73-9f64-8bb377702d16",
   "metadata": {},
   "source": [
    "***Task 5: Visualize Performance and Results***"
   ]
  },
  {
   "cell_type": "code",
   "execution_count": 1,
   "id": "eec6ac9a",
   "metadata": {},
   "outputs": [],
   "source": [
    "# TODO: Plot the execution time comparisons of the three functions that you implemented for matrix of size 5x5\n",
    "\n"
   ]
  },
  {
   "cell_type": "code",
   "execution_count": 1,
   "id": "5204ca07-cbe3-4af8-8f7c-3af728ad138c",
   "metadata": {},
   "outputs": [],
   "source": [
    "# TODO: Plot the execution time comparisons of the three functions that you implemented for matrix of size 500x500\n",
    "\n"
   ]
  },
  {
   "cell_type": "markdown",
   "id": "5d5c3a0f",
   "metadata": {},
   "source": [
    "#### Conclusion"
   ]
  },
  {
   "cell_type": "code",
   "execution_count": null,
   "id": "1d8fa8eb",
   "metadata": {},
   "outputs": [],
   "source": [
    "# TODO: Analyze the results and write a brief report in the markdown cell, discussing these performance results\n",
    "\n",
    "\n",
    "\n",
    "\n",
    "\n",
    "\n"
   ]
  }
 ],
 "metadata": {
  "kernelspec": {
   "display_name": "Python 3 (ipykernel)",
   "language": "python",
   "name": "python3"
  },
  "language_info": {
   "codemirror_mode": {
    "name": "ipython",
    "version": 3
   },
   "file_extension": ".py",
   "mimetype": "text/x-python",
   "name": "python",
   "nbconvert_exporter": "python",
   "pygments_lexer": "ipython3",
   "version": "3.11.5"
  }
 },
 "nbformat": 4,
 "nbformat_minor": 5
}
