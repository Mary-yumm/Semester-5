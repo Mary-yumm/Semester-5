{
 "cells": [
  {
   "cell_type": "code",
   "execution_count": 1,
   "id": "40c3d23d-7b3f-488e-b114-2aceff69fee1",
   "metadata": {},
   "outputs": [],
   "source": [
    "import numpy as np\n",
    "import numpy.linalg as npl\n",
    "from scipy.sparse import csr_matrix\n",
    "from scipy.sparse.linalg import spsolve\n",
    "from scipy import sparse\n",
    "import time"
   ]
  },
  {
   "cell_type": "markdown",
   "id": "ce9fb66e",
   "metadata": {},
   "source": [
    "### Solving a Linear System using Dense and Sparse Methods"
   ]
  },
  {
   "cell_type": "markdown",
   "id": "b740f9ce",
   "metadata": {},
   "source": [
    "### The system of equations in matrix form can be written as\n",
    "\n",
    "$$\n",
    "A = \\begin{bmatrix}\n",
    "1 & -1 & -1 & 0 & 0 & 0 & 0 & 0 \\\\\n",
    "0 & 1 & 0 & -1 & -1 & 0 & 0 & 0 \\\\\n",
    "0 & 0 & 1 & 0 & -1 & -1 & 0 & 0 \\\\\n",
    "0 & 0 & 0 & 1 & 0 & 0 & 0 & -1 \\\\\n",
    "0 & 0 & 0 & 0 & 1 & -1 & 0 & 0 \\\\\n",
    "1 & 0 & 0 & 0 & 0 & 0 & 0 & -1 \\\\\n",
    "2 & 1 & 0 & 0 & 0 & 0 & 0 & 0 \\\\\n",
    "0 & 1 & 2 & 0 & 2 & 0 & 0 & 0\n",
    "\\end{bmatrix}\n",
    "$$\n",
    "\n",
    "$$\n",
    "x = \\begin{bmatrix}\n",
    "I_0 \\\\\n",
    "I_1 \\\\\n",
    "I_2 \\\\\n",
    "I_3 \\\\\n",
    "I_4 \\\\\n",
    "I_5 \\\\\n",
    "I_6 \\\\\n",
    "I_7\n",
    "\\end{bmatrix}\n",
    "$$\n",
    "\n",
    "$$\n",
    "b = \\begin{bmatrix}\n",
    "0 \\\\\n",
    "0 \\\\\n",
    "0 \\\\\n",
    "0 \\\\\n",
    "0 \\\\\n",
    "0 \\\\\n",
    "20 \\\\\n",
    "0\n",
    "\\end{bmatrix}\n",
    "$$\n",
    "\n",
    "Where \\(A\\) is the coefficient matrix, \\(x\\) is the vector of unknown currents, and \\(b\\) is the constant vector.\n"
   ]
  },
  {
   "cell_type": "markdown",
   "id": "58943ff4",
   "metadata": {},
   "source": [
    "# $(a)$\n",
    "----\n",
    "\n",
    "## **<span style=\"color:red\">10 Marks</span>**\n"
   ]
  },
  {
   "cell_type": "code",
   "execution_count": 2,
   "id": "347bbfda-8d5b-4a5c-bf08-dc424fc3811e",
   "metadata": {},
   "outputs": [
    {
     "name": "stdout",
     "output_type": "stream",
     "text": [
      "N# of rows: 8\n",
      "completely linear independent.\n"
     ]
    }
   ],
   "source": [
    "# Linear System:\n",
    "A = np.array([\n",
    "    [  1, 0.0, 0.0, 0.0,  -1, 0.0,  -1,  -1],   #I0 - I7 - I6 - I4 = 0\n",
    "    [0.0, 0.0,   1,  -1,  -1, 0.0, 0.0, 0.0],   #I2 - I3 - I4 = 0\n",
    "    [0.0,  -1, 0.0, 0.0, 0.0,  -1, 0.0,   1],   #I7 - I1 - I5 = 0\n",
    "    [0.0, 0.0, 0.0,   1, 0.0,  -1,  -1, 0.0],   #I3 - I5 - I6 = 0\n",
    "    [  2, 0.0,   1, 0.0,   1, 0.0, 0.0, 0.0],   #2I0 + I2 + I4 = 20\n",
    "    [0.0,  -2,   1,   2, 0.0,   2, 0.0, 0.0],   #-2I1 + I2 + 2I3 + 2I5 = 0\n",
    "    [0.0, 0.0, 0.0,   2,  -1, 0.0,   2, 0.0],   #2I3 - I4 + 2I6 = 0\n",
    "    [0.0, 0.0, 0.0, 0.0, 0.0,   2,  -2,   1]    #2I5 - 2I6 + I7 = 0\n",
    "])\n",
    "\n",
    "b = np.array([0.0, 0.0, 0.0, 0.0, 20.0, 0.0, 0.0, 0.0])\n",
    "\n",
    "rank = np.linalg.matrix_rank(A)\n",
    "num_rows = A.shape[0]\n",
    "\n",
    "\n",
    "print(f\"N# of rows: {num_rows}\")\n",
    "\n",
    "if rank < num_rows:\n",
    "    print(\"Partially linear dependent.\")\n",
    "else:\n",
    "    print(\"completely linear independent.\")"
   ]
  },
  {
   "cell_type": "markdown",
   "id": "b789d000",
   "metadata": {},
   "source": [
    "# $(b)$\n",
    "----\n",
    "\n",
    "## **<span style=\"color:red\">10 Marks</span>**\n"
   ]
  },
  {
   "cell_type": "markdown",
   "id": "50845709",
   "metadata": {},
   "source": [
    "------"
   ]
  },
  {
   "cell_type": "code",
   "execution_count": 3,
   "id": "72589654-5c3b-4134-8627-0903d99cb476",
   "metadata": {},
   "outputs": [
    {
     "name": "stdout",
     "output_type": "stream",
     "text": [
      "Via Dense Matrix Technique:\n",
      "------------------------------\n",
      "Dense Matrix Technique: [ 6.4084507   2.46478873  3.94366197  0.70422535  3.23943662 -0.21126761\n",
      "  0.91549296  2.25352113]\n",
      "------------------------------\n",
      "Time : 0.000000 seconds\n",
      "\n"
     ]
    }
   ],
   "source": [
    "print(\"Via Dense Matrix Technique:\")\n",
    "start_dense = time.time()\n",
    "dense_solution = np.linalg.solve(A, b)  # Solving the linear system\n",
    "end_dense = time.time()\n",
    "print('------------------------------')\n",
    "print(\"Dense Matrix Technique:\", dense_solution)\n",
    "print('------------------------------')\n",
    "print(f\"Time : {end_dense - start_dense:.6f} seconds\\n\")"
   ]
  },
  {
   "cell_type": "markdown",
   "id": "59238f89",
   "metadata": {},
   "source": [
    "------------"
   ]
  },
  {
   "cell_type": "markdown",
   "id": "bee72e0b",
   "metadata": {},
   "source": [
    "### **<span style=\"color:blue\">Verification of solution</span>**"
   ]
  },
  {
   "cell_type": "markdown",
   "id": "e1dc6888",
   "metadata": {},
   "source": [
    "------"
   ]
  },
  {
   "cell_type": "code",
   "execution_count": 4,
   "id": "a720228b-4af3-4120-818b-cf134dcd45b9",
   "metadata": {},
   "outputs": [
    {
     "name": "stdout",
     "output_type": "stream",
     "text": [
      "The solution satisfy (Ax ≈ b).\n"
     ]
    }
   ],
   "source": [
    "# Check if Ax is approximately equal to b\n",
    "if np.allclose(np.dot(A.copy(), dense_solution.copy()), b.copy()):\n",
    "    print(\"The solution satisfy (Ax ≈ b).\")\n",
    "else:\n",
    "    print(\"The solution is not satisfying Ax ≈ b.\")"
   ]
  },
  {
   "cell_type": "markdown",
   "id": "ec5c3db6",
   "metadata": {},
   "source": [
    "# $(C)$\n",
    "----\n",
    "\n",
    "## **<span style=\"color:red\">10 Marks</span>**\n"
   ]
  },
  {
   "cell_type": "markdown",
   "id": "16b06d44",
   "metadata": {},
   "source": [
    "---------"
   ]
  },
  {
   "cell_type": "code",
   "execution_count": 5,
   "id": "0cbd2700-c0ed-43b9-bd81-283d2ff3d2d5",
   "metadata": {},
   "outputs": [
    {
     "name": "stdout",
     "output_type": "stream",
     "text": [
      "Sparse Matrix Technique:\n",
      "------------------------------------\n",
      "Sparse Matrix Result: [ 6.4084507   2.46478873  3.94366197  0.70422535  3.23943662 -0.21126761\n",
      "  0.91549296  2.25352113]\n",
      "------------------------------------\n",
      "------------------------------------\n",
      "Time : 0.000000 seconds\n",
      "\n"
     ]
    }
   ],
   "source": [
    "# Sparse Matrix Solution\n",
    "print(\"Sparse Matrix Technique:\")\n",
    "print('------------------------------------')\n",
    "# Convert matrix A to a compressed sparse row format\n",
    "sp_matrix_A = csr_matrix(A)\n",
    "\n",
    "# Record the start time for solving the sparse system\n",
    "sp_start_time = time.time()\n",
    "\n",
    "# Solve the sparse linear system\n",
    "sp_result = spsolve(sp_matrix_A, b)\n",
    "\n",
    "# Record the end time for solving the sparse system\n",
    "sp_end_time = time.time()\n",
    "\n",
    "# Output the solution and time taken\n",
    "print(\"Sparse Matrix Result:\", sp_result)\n",
    "print('------------------------------------')\n",
    "elapsed_sp_time = sp_end_time - sp_start_time\n",
    "print('------------------------------------')\n",
    "print(f\"Time : {elapsed_sp_time:.6f} seconds\\n\")\n"
   ]
  },
  {
   "cell_type": "markdown",
   "id": "2f083ccf",
   "metadata": {},
   "source": [
    "----"
   ]
  },
  {
   "cell_type": "markdown",
   "id": "c85d9196",
   "metadata": {},
   "source": [
    "# $(d)$\n",
    "----\n",
    "\n",
    "## **<span style=\"color:red\">10 Marks</span>**\n"
   ]
  },
  {
   "cell_type": "code",
   "execution_count": 6,
   "id": "54ff2aa5-ce21-4bc2-80cb-df8520a2656e",
   "metadata": {},
   "outputs": [
    {
     "name": "stdout",
     "output_type": "stream",
     "text": [
      "Performance Analysis:\n",
      "Time taken by Dense Method: 0.000000000 seconds\n",
      "Time taken by Sparse Method: 0.000000000 seconds\n"
     ]
    }
   ],
   "source": [
    "# Calculate the time taken for each method\n",
    "time_dense = end_dense - start_dense\n",
    "time_sparse = sp_end_time - sp_start_time\n",
    "\n",
    "# Display the results\n",
    "print(\"Performance Analysis:\")\n",
    "print(f\"Time taken by Dense Method: {time_dense:.9f} seconds\")\n",
    "print(f\"Time taken by Sparse Method: {time_sparse:.9f} seconds\")\n",
    "\n",
    "method_faster = \"Dense\" if time_dense < time_sparse else \"Sparse\"\n"
   ]
  },
  {
   "cell_type": "markdown",
   "id": "66652475",
   "metadata": {},
   "source": [
    "---"
   ]
  },
  {
   "cell_type": "markdown",
   "id": "0ba84e81",
   "metadata": {},
   "source": [
    "# $(e)$\n",
    "----\n",
    "\n",
    "## **<span style=\"color:red\">5 Marks</span>**\n"
   ]
  },
  {
   "cell_type": "code",
   "execution_count": 7,
   "id": "6c958b4d-6805-43cd-9c1e-c10841265646",
   "metadata": {
    "scrolled": true
   },
   "outputs": [
    {
     "name": "stdout",
     "output_type": "stream",
     "text": [
      "Absolute Difference: [8.88178420e-16 4.44089210e-16 0.00000000e+00 4.44089210e-16\n",
      " 4.44089210e-16 3.33066907e-16 0.00000000e+00 0.00000000e+00]\n"
     ]
    }
   ],
   "source": [
    "# Calculate the absolute difference between the two solutions\n",
    "solution_difference = np.abs(dense_solution - sp_result)\n",
    "print(\"Absolute Difference:\", solution_difference)\n"
   ]
  },
  {
   "cell_type": "markdown",
   "id": "a455ce45",
   "metadata": {},
   "source": [
    "----"
   ]
  },
  {
   "cell_type": "markdown",
   "id": "0c9ba758",
   "metadata": {},
   "source": [
    "\n",
    "## **<span style=\"color:red\">5 Marks</span>**"
   ]
  },
  {
   "cell_type": "markdown",
   "id": "1cc48fde",
   "metadata": {},
   "source": [
    "accuracy verification within a specified tolerance"
   ]
  },
  {
   "cell_type": "code",
   "execution_count": 8,
   "id": "4e1f5868",
   "metadata": {},
   "outputs": [
    {
     "name": "stdout",
     "output_type": "stream",
     "text": [
      "within tolerance (1e-6)? True\n"
     ]
    }
   ],
   "source": [
    "is_accurate = np.allclose(dense_solution, sp_result, atol=1e-6)\n",
    "print(\"within tolerance (1e-6)?\", is_accurate)"
   ]
  },
  {
   "cell_type": "code",
   "execution_count": null,
   "id": "23942fde",
   "metadata": {},
   "outputs": [],
   "source": []
  }
 ],
 "metadata": {
  "kernelspec": {
   "display_name": "Python 3 (ipykernel)",
   "language": "python",
   "name": "python3"
  },
  "language_info": {
   "codemirror_mode": {
    "name": "ipython",
    "version": 3
   },
   "file_extension": ".py",
   "mimetype": "text/x-python",
   "name": "python",
   "nbconvert_exporter": "python",
   "pygments_lexer": "ipython3",
   "version": "3.12.5"
  }
 },
 "nbformat": 4,
 "nbformat_minor": 5
}
