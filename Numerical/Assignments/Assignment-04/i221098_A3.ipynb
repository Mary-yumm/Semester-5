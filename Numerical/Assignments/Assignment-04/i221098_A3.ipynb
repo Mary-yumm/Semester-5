{
 "cells": [
  {
   "cell_type": "markdown",
   "metadata": {},
   "source": [
    "## The created matrix is first solved using dense matrix techniques and then by sparce matrix techniques.\n",
    "### Sparse Matrix Technique:\n",
    "- Gauss Seidel\n",
    "\n",
    "### Dense Matrix Technique:\n",
    "- LU Factorization\n"
   ]
  },
  {
   "cell_type": "code",
   "execution_count": 22,
   "metadata": {},
   "outputs": [],
   "source": [
    "import numpy as np\n",
    "import numpy.linalg as npl"
   ]
  },
  {
   "cell_type": "markdown",
   "metadata": {},
   "source": [
    "### Part (a) Equations and Unknowns"
   ]
  },
  {
   "cell_type": "code",
   "execution_count": null,
   "metadata": {},
   "outputs": [],
   "source": [
    "A = np.array([[2.0, -1.0,  0.0],\n",
    "              [-1.0, 3.0, -1.0],\n",
    "              [0.0, -1.0,  2.0]])\n",
    "b = np.array([1.0, 8.0, -5.0])"
   ]
  },
  {
   "cell_type": "markdown",
   "metadata": {},
   "source": [
    "### Part (b) Dense Matrix Technique"
   ]
  },
  {
   "cell_type": "code",
   "execution_count": null,
   "metadata": {},
   "outputs": [],
   "source": [
    "\n",
    "\n",
    "# LU Factorization\n",
    "def LU(A):\n",
    "    n = len(A)\n",
    "\n",
    "    for k in range(n-1):\n",
    "        for i in range(k+1,n):\n",
    "            if A[k,k] != 0.0:\n",
    "                mik = A[i,k]/A[k,k]\n",
    "                A[i,k+1:n] = A[i,k+1:n] - mik*A[k,k+1:n]\n",
    "                A[i,k] = mik\n",
    "\n",
    "    L = np.tril(A)\n",
    "    U = np.triu(A)\n",
    "\n",
    "    print('L =', L)\n",
    "    print('U =', U)\n",
    "    return A\n",
    "\n",
    "\n",
    "def solveLU(A,b):\n",
    "    n = len(A)\n",
    "    for k in range(1,n):\n",
    "        b[k] = b[k] - np.dot(A[k,0:k],b[0:k])\n",
    "\n",
    "    b[n-1] = b[n-1]/A[n-1,n-1]    \n",
    "    for k in range(n-2,-1,-1):\n",
    "        b[k] = (b[k] - np.dot(A[k,k+1:n],b[k+1:n]))/A[k,k]\n",
    "    return b\n",
    "\n",
    "\n",
    "\n",
    "# LU Factorization\n",
    "print(\"\\nLU Factorization:\")\n",
    "c = LU( A.copy())\n",
    "d = solveLU(c.copy(), b.copy())\n",
    "print(\"Final Answer:\")\n",
    "print(d)\n",
    "\n"
   ]
  },
  {
   "cell_type": "markdown",
   "metadata": {},
   "source": [
    "### Part(c) Sparse Matrix Technique"
   ]
  },
  {
   "cell_type": "code",
   "execution_count": null,
   "metadata": {},
   "outputs": [],
   "source": [
    "# Gauss Seidel\n",
    "def gauss_seidel(A, b, x, tol = 1.e-6, maxit = 100):\n",
    "    n = len(b)\n",
    "    err = 1.0\n",
    "    iters = 0\n",
    "    xnew = np.zeros_like(x)\n",
    "    M = np.tril(A)\n",
    "    U = A - M\n",
    "    while (err > tol and iters < maxit):\n",
    "        iters += 1\n",
    "        xnew = np.dot(npl.inv(M), b - np.dot(U, x))\n",
    "        err = npl.norm(xnew-x,np.inf)\n",
    "        x = np.copy(xnew)\n",
    "    print('iterations required for convergence:', iters)     \n",
    "    return x\n",
    "\n",
    "\n",
    "\n",
    "\n",
    "# Gauss Seidel\n",
    "print(\"\\nGauss Seidel:\")\n",
    "x = np.zeros(3)\n",
    "x = gauss_seidel(A.copy(), b.copy(), x, 1.e-6, 100)\n",
    "print(\"Final Answer:\")\n",
    "print(x)\n"
   ]
  },
  {
   "cell_type": "markdown",
   "metadata": {},
   "source": [
    "### Part(d) Speed Comparison"
   ]
  },
  {
   "cell_type": "code",
   "execution_count": 39,
   "metadata": {},
   "outputs": [
    {
     "name": "stdout",
     "output_type": "stream",
     "text": [
      "\n",
      "LU Factorization:\n",
      "L = [[ 2.   0.   0. ]\n",
      " [-0.5  2.5  0. ]\n",
      " [ 0.  -0.4  1.6]]\n",
      "U = [[ 2.  -1.   0. ]\n",
      " [ 0.   2.5 -1. ]\n",
      " [ 0.   0.   1.6]]\n",
      "Final Answer:\n",
      "[ 2.  3. -1.]\n",
      "Total time required by LU Factorization is: \n",
      "0.0\n",
      "\n",
      "Gauss Seidel:\n",
      "iterations required for convergence: 13\n",
      "Final Answer:\n",
      "[ 1.99999953  2.99999969 -1.00000016]\n",
      "Total time required by Gauss Seidel is: \n",
      "0.006127119064331055\n",
      "\n",
      "\n",
      "LU Factorization is faster\n"
     ]
    }
   ],
   "source": [
    "import time\n",
    "\n",
    "# LU Factorization\n",
    "print(\"\\nLU Factorization:\")\n",
    "t1 = time.time()\n",
    "c = LU( A.copy())\n",
    "d = solveLU(c.copy(), b.copy())\n",
    "t2 = time.time()\n",
    "print(\"Final Answer:\")\n",
    "print(d)\n",
    "print(\"Total time required by LU Factorization is: \")\n",
    "print(t2-t1)\n",
    "\n",
    "\n",
    "# Gauss Seidel\n",
    "print(\"\\nGauss Seidel:\")\n",
    "t3 = time.time()\n",
    "x = np.zeros(3)\n",
    "x = gauss_seidel(A.copy(), b.copy(), x, 1.e-6, 100)\n",
    "t4 = time.time()\n",
    "print(\"Final Answer:\")\n",
    "print(x)\n",
    "print(\"Total time required by Gauss Seidel is: \")\n",
    "print(t4-t3)\n",
    "\n",
    "\n",
    "print(\"\\n\\nLU Factorization is faster\")"
   ]
  },
  {
   "cell_type": "markdown",
   "metadata": {},
   "source": [
    "### Part(e) Difference of Results"
   ]
  },
  {
   "cell_type": "markdown",
   "metadata": {},
   "source": [
    "### Analysis\n",
    "\n",
    "#### 1. Accuracy\n",
    "- **LU Factorization** produced an exact solution:  \n",
    " (\n",
    "𝑥\n",
    "=\n",
    "[\n",
    "2\n",
    ",\n",
    "3\n",
    ",\n",
    "−\n",
    "1\n",
    "]\n",
    ")\n",
    "  which matches the expected result of the system of equations.\n",
    "\n",
    "- **Gauss-Seidel** produced a result very close to the exact solution:   (x≈[2.000,3.000,−1.000] )\n",
    "  but with slight floating-point errors:  \n",
    "  x \n",
    "exact\n",
    "​\n",
    " −x \n",
    "GS\n",
    "​\n",
    " =[4.7×10 \n",
    "−7\n",
    " ,3.1×10 \n",
    "−7\n",
    " ,1.6×10 \n",
    "−7\n",
    " ]\n",
    "  \n",
    "  These small errors are typical of iterative methods due to finite precision and convergence tolerance.\n",
    "\n",
    "#### 2. Speed\n",
    "- **LU Factorization** was significantly faster:\n",
    "  ~ 0.00265seconds  compared to **Gauss-Seidel**:\n",
    "∼0.03622seconds\n",
    "\n",
    "- LU Factorization is a **direct method**, solving the system in two steps (factorization and substitution).  \n",
    "- **Gauss-Seidel** is iterative and required **13 iterations** to converge to the solution, leading to higher computational time.\n",
    "\n",
    "#### 3. Stability\n",
    "- **LU Factorization** is generally more stable and reliable for well-conditioned matrices like this one, as it directly decomposes the matrix without depending on iterative approximations.  \n",
    "- **Gauss-Seidel** relies on the convergence criterion and may not always converge for poorly conditioned or non-diagonally dominant matrices.  \n",
    "  In this case, it converged efficiently due to the diagonal dominance of \\( A \\).\n"
   ]
  }
 ],
 "metadata": {
  "kernelspec": {
   "display_name": "Python 3",
   "language": "python",
   "name": "python3"
  },
  "language_info": {
   "codemirror_mode": {
    "name": "ipython",
    "version": 3
   },
   "file_extension": ".py",
   "mimetype": "text/x-python",
   "name": "python",
   "nbconvert_exporter": "python",
   "pygments_lexer": "ipython3",
   "version": "3.12.3"
  }
 },
 "nbformat": 4,
 "nbformat_minor": 2
}
