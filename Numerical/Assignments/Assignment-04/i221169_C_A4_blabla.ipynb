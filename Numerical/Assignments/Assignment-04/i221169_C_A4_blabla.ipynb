{
 "cells": [
  {
   "cell_type": "markdown",
   "metadata": {},
   "source": [
    "# Part a\n",
    "\n",
    "I0 = I1 + I5  \n",
    "\n",
    "I2 = I3 + I4  \n",
    "\n",
    "20 = 2I0 + 2I2 + 2I3  \n",
    "\n",
    "2I1 = 2I3 + 2I5  \n",
    "\n",
    "2I3 + I4 = 2I6  \n",
    "\n",
    "I4 = 2I6 + I7  \n",
    "\n",
    "I0 = I2 + I6  \n",
    "\n",
    "I5 = I7"
   ]
  },
  {
   "cell_type": "code",
   "execution_count": 8,
   "metadata": {},
   "outputs": [],
   "source": [
    "import numpy as np\n",
    "import numpy.linalg as npl"
   ]
  },
  {
   "cell_type": "code",
   "execution_count": 21,
   "metadata": {},
   "outputs": [
    {
     "name": "stdout",
     "output_type": "stream",
     "text": [
      "Determinant of matrix A: 340.0000000000001\n"
     ]
    }
   ],
   "source": [
    "# Define the coefficient matrix (A) and the constant vector (b)\n",
    "# Part (a)\n",
    "A = np.array([\n",
    "    [1, -1, -1, 0, 0, 0, 0, 0],  # KCL \n",
    "    [0, 1, 0, 0, 0, 1, 0, -1],  # KCL\n",
    "    [0, 0, 1, -1, -1, 0, 0, 0], # KCL \n",
    "    [0, 0, 0, 1, 0, -1, -1, 0], # KCL \n",
    "    [2, 0, 1, 0, 2, 0, 0, 0],   # KVL\n",
    "    [0, -2, 1, 2, 0, 2, 0, 0],  # KVL \n",
    "    [0, 0, 0, 2, -1, 0, 2, 0],  # KVL \n",
    "    [0, 2, 0, 0, 0, 2, -2, 0]   # KVL\n",
    "], dtype=float)\n",
    "#checking singularity\n",
    "det_A = np.linalg.det(A)\n",
    "print(f\"Determinant of matrix A: {det_A}\")\n",
    "b = np.array([0, 0, 0, 0, 20,0, 0, 0], dtype=float)\n"
   ]
  },
  {
   "cell_type": "markdown",
   "metadata": {},
   "source": [
    "# Part b\n",
    "## Using Dense Matrix Technique\n",
    "### LU Factorization"
   ]
  },
  {
   "cell_type": "code",
   "execution_count": 22,
   "metadata": {},
   "outputs": [],
   "source": [
    "def forward_substitution(L, b):\n",
    "    n = len(b)\n",
    "    y = np.zeros_like(b)\n",
    "    for i in range(n):\n",
    "        y[i] = b[i] - np.dot(L[i, :i], y[:i])\n",
    "    return y\n",
    "\n",
    "def backward_substitution(U, y):\n",
    "    n = len(y)\n",
    "    x = np.zeros_like(y)\n",
    "    for i in range(n-1, -1, -1):\n",
    "        x[i] = (y[i] - np.dot(U[i, i+1:], x[i+1:])) / U[i, i]\n",
    "    return x"
   ]
  },
  {
   "cell_type": "code",
   "execution_count": 23,
   "metadata": {},
   "outputs": [
    {
     "name": "stdout",
     "output_type": "stream",
     "text": [
      "Solution (currents):\n",
      "[ 5.17647059  1.64705882  3.52941176  0.47058824  3.05882353 -0.58823529\n",
      "  1.05882353  1.05882353]\n"
     ]
    }
   ],
   "source": [
    "\n",
    "def LU_with_pivoting(A):\n",
    "    n = len(A)    \n",
    "    P = np.eye(n)  # Permutation matrix\n",
    "    for k in range(n-1):\n",
    "        max_row = np.argmax(abs(A[k:, k])) + k\n",
    "        if A[max_row, k] == 0:\n",
    "            raise ValueError(\"Matrix is singular!\")\n",
    "        A[[k, max_row]] = A[[max_row, k]]\n",
    "        P[[k, max_row]] = P[[max_row, k]]\n",
    "        for i in range(k+1, n):\n",
    "            if A[k, k] != 0.0:\n",
    "                mik = A[i, k] / A[k, k]\n",
    "                A[i, k+1:n] = A[i, k+1:n] - mik * A[k, k+1:n]\n",
    "                A[i, k] = mik\n",
    "    return P, A\n",
    "\n",
    "P, LU_matrix = LU_with_pivoting(A.copy())\n",
    "\n",
    "L = np.tril(LU_matrix, k=-1) + np.eye(len(A))\n",
    "U = np.triu(LU_matrix)\n",
    "\n",
    "b_permuted = P @ b\n",
    "\n",
    "y = forward_substitution(L, b_permuted)\n",
    "\n",
    "x = backward_substitution(U, y)\n",
    "\n",
    "print(\"Solution (currents):\")\n",
    "print(x)"
   ]
  },
  {
   "cell_type": "markdown",
   "metadata": {},
   "source": [
    "# Part c\n",
    "## Using Sparse Matrix Technique\n",
    "### Gauss Seidal"
   ]
  },
  {
   "cell_type": "code",
   "execution_count": 24,
   "metadata": {},
   "outputs": [
    {
     "name": "stdout",
     "output_type": "stream",
     "text": [
      "iterations required for convergence: 3\n",
      "[ inf -inf   9.  inf -inf -inf -inf  nan]\n"
     ]
    },
    {
     "name": "stderr",
     "output_type": "stream",
     "text": [
      "/tmp/ipykernel_77913/3013844619.py:18: RuntimeWarning: divide by zero encountered in scalar divide\n",
      "  xnew[i] = (b[i] - s) / D[i]\n"
     ]
    }
   ],
   "source": [
    "# Gauss Seidel\n",
    "from scipy import sparse\n",
    "def sp_gauss_seidel(S, b, x, tol = 1.e-5, maxit = 100):\n",
    "    n = len(b)\n",
    "    err = 1.0\n",
    "    iters = 0\n",
    "    D = S.diagonal()\n",
    "    xnew = np.zeros_like(x)\n",
    "    while (err > tol and iters < maxit):\n",
    "        iters += 1\n",
    "        for i in range(n):\n",
    "            rowstart = S.indptr[i]\n",
    "            rowend = S.indptr[i+1]\n",
    "            z = np.copy(x)\n",
    "            z[:i] = xnew[:i]\n",
    "            z[i]=0.0\n",
    "            s = np.dot(S.data[rowstart:rowend], z[S.indices[rowstart:rowend]])\n",
    "            xnew[i] = (b[i] - s) / D[i]\n",
    "        err = np.linalg.norm(xnew-x,np.inf)\n",
    "        x = np.copy(xnew)\n",
    "    print('iterations required for convergence:', iters)\n",
    "    return x\n",
    "\n",
    "\n",
    "S = sparse.coo_matrix(A)\n",
    "x = np.ones(8)\n",
    "S = S.tocsr()\n",
    "b = S.dot(x)\n",
    "x = np.zeros(len(b))\n",
    "x = sp_gauss_seidel(S, b, x, tol = 1.e-5, maxit = 100)\n",
    "print(x)\n"
   ]
  },
  {
   "cell_type": "code",
   "execution_count": 25,
   "metadata": {},
   "outputs": [
    {
     "name": "stdout",
     "output_type": "stream",
     "text": [
      "Iterations required for convergence (sparse): 3\n",
      "Gauss-Seidel (sparse) solution: [ inf -inf   9.  inf -inf -inf -inf  nan]\n"
     ]
    },
    {
     "name": "stderr",
     "output_type": "stream",
     "text": [
      "/tmp/ipykernel_77913/3605600707.py:18: RuntimeWarning: divide by zero encountered in scalar divide\n",
      "  xnew[i] = (b[i] - sigma) / A[i, i]\n",
      "/tmp/ipykernel_77913/3605600707.py:17: RuntimeWarning: invalid value encountered in scalar add\n",
      "  sigma = sum(row_data[j] * xnew[row_indices[j]] for j in range(len(row_data)) if row_indices[j] != i)\n"
     ]
    }
   ],
   "source": [
    "from scipy.sparse import csr_matrix\n",
    "A_sparse = csr_matrix(A)\n",
    "\n",
    "def gauss_seidel_sparse(A, b, x, tol=1.e-15, maxit=100):\n",
    "    n = len(b)\n",
    "    err = 1.0\n",
    "    iters = 0\n",
    "    xnew = np.zeros_like(x)\n",
    "    while err > tol and iters < maxit:\n",
    "        iters += 1\n",
    "        for i in range(n):\n",
    "            row_start = A.indptr[i]\n",
    "            row_end = A.indptr[i + 1]\n",
    "            row_indices = A.indices[row_start:row_end]\n",
    "            row_data = A.data[row_start:row_end]\n",
    "\n",
    "            sigma = sum(row_data[j] * xnew[row_indices[j]] for j in range(len(row_data)) if row_indices[j] != i)\n",
    "            xnew[i] = (b[i] - sigma) / A[i, i]\n",
    "        err = np.linalg.norm(xnew - x, np.inf)\n",
    "        x = np.copy(xnew)\n",
    "    print('Iterations required for convergence (sparse):', iters)\n",
    "    return x\n",
    "\n",
    "# Solve using Gauss-Seidel for sparse matrices\n",
    "x0 = np.zeros_like(b)\n",
    "x_gs_sparse = gauss_seidel_sparse(A_sparse, b, x0)\n",
    "print(\"Gauss-Seidel (sparse) solution:\", x_gs_sparse)"
   ]
  }
 ],
 "metadata": {
  "kernelspec": {
   "display_name": ".venv",
   "language": "python",
   "name": "python3"
  },
  "language_info": {
   "codemirror_mode": {
    "name": "ipython",
    "version": 3
   },
   "file_extension": ".py",
   "mimetype": "text/x-python",
   "name": "python",
   "nbconvert_exporter": "python",
   "pygments_lexer": "ipython3",
   "version": "3.11.9"
  }
 },
 "nbformat": 4,
 "nbformat_minor": 2
}
