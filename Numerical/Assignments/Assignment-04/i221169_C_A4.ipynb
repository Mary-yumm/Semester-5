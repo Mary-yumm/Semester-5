{
 "cells": [
  {
   "cell_type": "markdown",
   "id": "4e24af33",
   "metadata": {},
   "source": [
    "Name : Maryam Masood\n",
    "Roll No: 22i-1169\n",
    "Section-C"
   ]
  },
  {
   "cell_type": "code",
   "execution_count": 28,
   "id": "0ff4ab60-3ef4-46e6-baf9-47a1185daf03",
   "metadata": {},
   "outputs": [],
   "source": [
    "import numpy as np\n",
    "from scipy.sparse import csr_matrix\n",
    "from scipy.sparse.linalg import spsolve\n",
    "import time"
   ]
  },
  {
   "cell_type": "markdown",
   "id": "6bcc91aa",
   "metadata": {},
   "source": [
    "# Part (a)   \n",
    "     KCL:\n",
    "     I0=I1+I2\n",
    "     I1+I5=I7\n",
    "     I2=I3+I4 (ignoring this one as there are only 8 unknows)\n",
    "     I3=I5+I6\n",
    "     I4+I6+I7=I0 \n",
    "     KVL:\n",
    "     20-2I0-I2-2I4=0  \n",
    "     -2I1+2I5+2I3+I2=0\n",
    "     +2I3+2I6-I4=0\n",
    "     +2I5+2I1-2I6=0"
   ]
  },
  {
   "cell_type": "code",
   "execution_count": 29,
   "id": "e3ab1dbf-facb-4e00-a652-8b1e63eca0de",
   "metadata": {},
   "outputs": [
    {
     "name": "stdout",
     "output_type": "stream",
     "text": [
      "Determinant of matrix A: -340.0000000000001\n"
     ]
    }
   ],
   "source": [
    "\n",
    "\n",
    "A = np.array([\n",
    "    [1., -1., -1., 0., 0., 0., 0., 0.],  # KCL\n",
    "    [0., 1., 0., 0., 0., 1., 0., -1.],  # KCL\n",
    "    [0., 0., 0., 1., 0., -1., -1., 0.], # KCL\n",
    "    [0,  0,  1, -1, -1,  0,  0,  0], #KCL\n",
    "    [2., 0., 1., 0., 2., 0., 0., 0.],   # KVL\n",
    "    [0., -2., 1., 2., 0., 2., 0., 0.],  # KVL \n",
    "    [0., 0., 0., 2., -1., 0., 2., 0.],  # KVL \n",
    "    [0., 2., 0., 0., 0., 2., -2., 0.]   # KVL\n",
    "])\n",
    "\n",
    "#checking singularity\n",
    "det_A = np.linalg.det(A)\n",
    "print(f\"Determinant of matrix A: {det_A}\")\n",
    "b = np.array([0., 0., 0., 0., 20.,0., 0., 0.])\n",
    "\n"
   ]
  },
  {
   "cell_type": "markdown",
   "id": "e5021438",
   "metadata": {},
   "source": [
    "# Part(b)\n",
    "## Dense Matrix Technique\n",
    "### LU Factorization"
   ]
  },
  {
   "cell_type": "code",
   "execution_count": 31,
   "id": "c30de949-8960-42f6-a8d7-d383e235d4ea",
   "metadata": {},
   "outputs": [],
   "source": [
    "def rowSwap(v, i, j):\n",
    "    if len(v.shape) == 1:\n",
    "        v[i], v[j] = v[j], v[i]\n",
    "    else:\n",
    "        v[[i, j], :] = v[[j, i], :]\n",
    "\n",
    "def LUpivot(A, tol=1.0e-15):\n",
    "    n = len(A)\n",
    "    perm = np.array(range(n))\n",
    "    for k in range(0, n-1):\n",
    "        p = np.argmax(np.abs(A[k:n, k])) + k\n",
    "        if np.abs(A[p, k]) < tol:\n",
    "            raise ValueError(\"Singular matrix\")\n",
    "        if p != k:\n",
    "            rowSwap(A, k, p)\n",
    "            rowSwap(perm, k, p)\n",
    "        for i in range(k+1, n):\n",
    "            if A[i, k] != 0.0:\n",
    "                mik = A[i, k] / A[k, k]\n",
    "                A[i, k+1:n] -= mik * A[k, k+1:n]\n",
    "                A[i, k] = mik\n",
    "    return A, perm\n",
    "\n",
    "def solveLUpivot(A, b, perm):\n",
    "    n = len(A)\n",
    "    x = b.copy()\n",
    "    for i in range(n):\n",
    "        x[i] = b[perm[i]]\n",
    "    for k in range(1, n):\n",
    "        x[k] -= np.dot(A[k, 0:k], x[0:k])\n",
    "    x[n-1] /= A[n-1, n-1]\n",
    "    for k in range(n-2, -1, -1):\n",
    "        x[k] = (x[k] - np.dot(A[k, k+1:n], x[k+1:n])) / A[k, k]\n",
    "    return x"
   ]
  },
  {
   "cell_type": "code",
   "execution_count": 32,
   "id": "cf210404",
   "metadata": {},
   "outputs": [
    {
     "name": "stdout",
     "output_type": "stream",
     "text": [
      "Solution x: [ 5.17647059  1.64705882  3.52941176  0.47058824  3.05882353 -0.58823529\n",
      "  1.05882353  1.05882353]\n",
      "Time taken (LU with pivoting): 0.0012211799621582031 seconds\n",
      "\n",
      "Verification (A · x): [20.          0.         -6.58823529  0.         -7.11764706 -8.95424837\n",
      " -3.15791693 -3.43844675]\n",
      "Original RHS vector (b): [ 0.  0.  0.  0. 20.  0.  0.  0.]\n",
      "Difference (should be near zero): [20.          0.          6.58823529  0.         27.11764706  8.95424837\n",
      "  3.15791693  3.43844675]\n"
     ]
    }
   ],
   "source": [
    "start_lu = time.time()\n",
    "A_factored, perm = LUpivot(A)\n",
    "x = solveLUpivot(A_factored, b, perm)\n",
    "end_lu = time.time()\n",
    "print(\"Solution x:\", x)\n",
    "print(f\"Time taken (LU with pivoting): {end_lu - start_lu} seconds\\n\")\n",
    "\n",
    "verification_lu = A @ x \n",
    "verification_difference_lu = np.abs(verification_lu - b) \n",
    "\n",
    "print(\"Verification (A · x):\", verification_lu)\n",
    "print(\"Original RHS vector (b):\", b)\n",
    "print(\"Difference (should be near zero):\", verification_difference_lu)"
   ]
  },
  {
   "cell_type": "markdown",
   "id": "d1f24281",
   "metadata": {},
   "source": [
    "# Part (c)\n",
    "## Sparse Matrix Technique \n",
    "### Gauss Seidal"
   ]
  },
  {
   "cell_type": "code",
   "execution_count": 33,
   "id": "ebe9636e-8783-4986-9eb9-b3430acbc387",
   "metadata": {},
   "outputs": [],
   "source": [
    "from scipy.sparse import csr_matrix\n",
    "A_sparse = csr_matrix(A)\n",
    "\n",
    "def gauss_seidel_sparse(A, b, x, tol=1.e-16, maxit=100):\n",
    "    n = len(b)\n",
    "    err = 1.0\n",
    "    iters = 0\n",
    "    xnew = np.zeros_like(x)\n",
    "    while err > tol and iters < maxit:\n",
    "        iters += 1\n",
    "        for i in range(n):\n",
    "            row_start = A.indptr[i]\n",
    "            row_end = A.indptr[i + 1]\n",
    "            row_indices = A.indices[row_start:row_end]\n",
    "            row_data = A.data[row_start:row_end]\n",
    "\n",
    "            sigma = sum(row_data[j] * xnew[row_indices[j]] for j in range(len(row_data)) if row_indices[j] != i)\n",
    "            xnew[i] = (b[i] - sigma) / A[i, i]\n",
    "        err = np.linalg.norm(xnew - x, np.inf)\n",
    "        x = np.copy(xnew)\n",
    "    print('Iterations required for convergence (sparse):', iters)\n",
    "    return x\n"
   ]
  },
  {
   "cell_type": "code",
   "execution_count": 34,
   "id": "8c3d5786",
   "metadata": {},
   "outputs": [
    {
     "name": "stdout",
     "output_type": "stream",
     "text": [
      "Iterations required for convergence (sparse): 100\n",
      "Gauss-Seidel (sparse) solution: [ 5.76583291  1.35574718  7.97087578 -4.59639219 -9.7512708   1.96670148\n",
      " -0.27924321 -2.76730996]\n",
      "Time taken (Gauss-Seidel): 0.06768918037414551 seconds\n",
      "\n",
      "Verification (A · x_gs): [ 4.44089210e-15 -8.88178420e-16 -2.22044605e-15 -3.55271368e-15\n",
      "  2.00000000e+01  8.88178420e-16  0.00000000e+00  0.00000000e+00]\n",
      "Original RHS vector (b): [ 0.  0.  0.  0. 20.  0.  0.  0.]\n",
      "Difference (should be near zero): [4.44089210e-15 8.88178420e-16 2.22044605e-15 3.55271368e-15\n",
      " 0.00000000e+00 8.88178420e-16 0.00000000e+00 0.00000000e+00]\n",
      "Solution satisfies the tolerance: 4.440892098500626e-15\n"
     ]
    }
   ],
   "source": [
    "\n",
    "x0 = np.zeros_like(b)\n",
    "start_gs = time.time()\n",
    "x_gs_sparse = gauss_seidel_sparse(A_sparse, b, x0)\n",
    "end_gs = time.time()\n",
    "print(\"Gauss-Seidel (sparse) solution:\", x_gs_sparse)\n",
    "print(f\"Time taken (Gauss-Seidel): {end_gs - start_gs} seconds\\n\")\n",
    "\n",
    "verification_gs = A @ x_gs_sparse \n",
    "verification_difference_gs = np.abs(verification_gs - b)\n",
    "\n",
    "# Print the verification results\n",
    "print(\"Verification (A · x_gs):\", verification_gs)\n",
    "print(\"Original RHS vector (b):\", b)\n",
    "print(\"Difference (should be near zero):\", verification_difference_gs)\n",
    "\n",
    "# Check if the error is within the specified tolerance\n",
    "tolerance = 1e-6\n",
    "max_error = np.max(verification_difference_gs)\n",
    "if max_error <= tolerance:\n",
    "    print(f\"Solution satisfies the tolerance: {max_error}\")\n",
    "else:\n",
    "    print(f\"Solution exceeds tolerance with a maximum error of {max_error}\")\n"
   ]
  },
  {
   "cell_type": "markdown",
   "id": "18914e73",
   "metadata": {},
   "source": [
    "# Part(d)"
   ]
  },
  {
   "cell_type": "code",
   "execution_count": 36,
   "id": "d2c13300-9ec8-4e9b-83c8-ad5fcb150b39",
   "metadata": {},
   "outputs": [
    {
     "name": "stdout",
     "output_type": "stream",
     "text": [
      "Speedup factor (dense/sparse): 0.018040992008002563\n",
      "\n",
      "Speedup factor (dense/sparse): 0.018040992008002563\n",
      "\n",
      "Gauss-Seidel (sparse method) is faster.\n"
     ]
    }
   ],
   "source": [
    "speedup = (end_lu - start_lu) / (end_gs - start_gs)\n",
    "print(f\"Speedup factor (dense/sparse): {speedup}\\n\")\n",
    "speedup = (end_lu - start_lu) / (end_gs - start_gs)\n",
    "print(f\"Speedup factor (dense/sparse): {speedup}\\n\")\n",
    "if speedup > 1:\n",
    "    print(\"LU Decomposition (dense method) is faster.\")\n",
    "else:\n",
    "    print(\"Gauss-Seidel (sparse method) is faster.\")"
   ]
  },
  {
   "cell_type": "markdown",
   "id": "43744d16",
   "metadata": {},
   "source": [
    "# Part(e)"
   ]
  },
  {
   "cell_type": "code",
   "execution_count": 37,
   "id": "2910d23d-695c-4a90-bc25-7fa6549b5c85",
   "metadata": {},
   "outputs": [
    {
     "name": "stdout",
     "output_type": "stream",
     "text": [
      "Difference between dense (LU) and sparse (Gauss-Seidel) solutions:\n",
      "[ 0.58936232  0.29131165  4.44146401  5.06698043 12.81009433  2.55493677\n",
      "  1.33806674  3.82613349]\n",
      "Maximum difference between solutions: 12.810094327844594\n",
      "The solutions from dense and sparse methods differ beyond the tolerance of 1e-06. Maximum difference: 12.810094327844594\n",
      "LU Decomposition error (max): 27.11764705882353\n",
      "Gauss-Seidel error (max): 4.440892098500626e-15\n",
      "Gauss-Seidel provides a more accurate solution.\n"
     ]
    }
   ],
   "source": [
    "\n",
    "tolerance = 1e-6\n",
    "\n",
    "difference = np.abs(x - x_gs_sparse)\n",
    "print(\"Difference between dense (LU) and sparse (Gauss-Seidel) solutions:\")\n",
    "print(difference)\n",
    "max_difference = np.max(difference)\n",
    "print(f\"Maximum difference between solutions: {max_difference}\")\n",
    "if max_difference <= tolerance:\n",
    "    print(f\"The solutions from dense and sparse methods are consistent within the tolerance of {tolerance}.\")\n",
    "else:\n",
    "    print(f\"The solutions from dense and sparse methods differ beyond the tolerance of {tolerance}. Maximum difference: {max_difference}\")\n",
    "error_lu = np.abs(A @ x - b)\n",
    "error_gs = np.abs(A @ x_gs_sparse - b)  # \n",
    "print(\"LU Decomposition error (max):\", np.max(error_lu))\n",
    "print(\"Gauss-Seidel error (max):\", np.max(error_gs))\n",
    "\n",
    "if np.max(error_lu) < np.max(error_gs):\n",
    "    print(\"LU Decomposition provides a more accurate solution.\")\n",
    "else:\n",
    "    print(\"Gauss-Seidel provides a more accurate solution.\")\n"
   ]
  }
 ],
 "metadata": {
  "kernelspec": {
   "display_name": "Python 3 (ipykernel)",
   "language": "python",
   "name": "python3"
  },
  "language_info": {
   "codemirror_mode": {
    "name": "ipython",
    "version": 3
   },
   "file_extension": ".py",
   "mimetype": "text/x-python",
   "name": "python",
   "nbconvert_exporter": "python",
   "pygments_lexer": "ipython3",
   "version": "3.11.9"
  }
 },
 "nbformat": 4,
 "nbformat_minor": 5
}
