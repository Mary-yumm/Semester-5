{
 "cells": [
  {
   "cell_type": "code",
   "execution_count": 2,
   "metadata": {},
   "outputs": [],
   "source": [
    "import numpy as np"
   ]
  },
  {
   "cell_type": "code",
   "execution_count": null,
   "metadata": {},
   "outputs": [],
   "source": []
  },
  {
   "cell_type": "markdown",
   "metadata": {},
   "source": [
    "### Equation\n",
    "\n",
    "## Part a\n",
    "\n",
    "I0 = I1 + I5  \n",
    "\n",
    "I2 = I3 + I4  \n",
    "\n",
    "20 = 2I0 + 2I2 + 2I3  \n",
    "\n",
    "2I1 = 2I3 + 2I5  \n",
    "\n",
    "2I3 + I4 = 2I6  \n",
    "\n",
    "I4 = 2I6 + I7  \n",
    "\n",
    "I0 = I2 + I6  \n",
    "\n",
    "I5 = I7\n"
   ]
  },
  {
   "cell_type": "code",
   "execution_count": 5,
   "metadata": {},
   "outputs": [],
   "source": [
    "# Define the coefficient matrix (A) and the constant vector (b)\n",
    "A = np.array([\n",
    "    [1, -1,  0,  0,  0, -1,  0,  0],\n",
    "    [0,  0,  1, -1, -1,  0,  0,  0],\n",
    "    [2,  0,  2,  2,  0,  0,  0,  0],\n",
    "    [0, -2,  0,  2,  0,  2,  0,  0],\n",
    "    [0,  0,  0,  2,  1,  0, -2,  0],\n",
    "    [0,  0,  0,  0,  1,  0, -2, -1],\n",
    "    [1,  0, -1,  0,  0,  0, -1,  0],\n",
    "    [0,  0,  0,  0,  0,  1,  0, -1]\n",
    "], dtype=float)\n",
    "\n",
    "b = np.array([0, 0, 20, 0, 0, 0, 0, 0], dtype=float)"
   ]
  },
  {
   "cell_type": "code",
   "execution_count": 6,
   "metadata": {},
   "outputs": [],
   "source": [
    "def forward_substitution(L, b):\n",
    "    \"\"\"\n",
    "    Solve the system L * y = b using forward substitution.\n",
    "    L is a lower triangular matrix.\n",
    "    \"\"\"\n",
    "    n = len(b)\n",
    "    y = np.zeros_like(b)\n",
    "    for i in range(n):\n",
    "        y[i] = b[i] - np.dot(L[i, :i], y[:i])\n",
    "    return y\n",
    "\n",
    "def backward_substitution(U, y):\n",
    "    \"\"\"\n",
    "    Solve the system U * x = y using backward substitution.\n",
    "    U is an upper triangular matrix.\n",
    "    \"\"\"\n",
    "    n = len(y)\n",
    "    x = np.zeros_like(y)\n",
    "    for i in range(n-1, -1, -1):\n",
    "        x[i] = (y[i] - np.dot(U[i, i+1:], x[i+1:])) / U[i, i]\n",
    "    return x\n",
    "\n"
   ]
  },
  {
   "cell_type": "code",
   "execution_count": 7,
   "metadata": {},
   "outputs": [
    {
     "name": "stdout",
     "output_type": "stream",
     "text": [
      "Solution (currents):\n",
      "[ 6.92307692  2.30769231  5.38461538 -2.30769231  7.69230769  4.61538462\n",
      "  1.53846154  4.61538462]\n"
     ]
    }
   ],
   "source": [
    "\n",
    "def LU_with_pivoting(A):\n",
    "    n = len(A)    \n",
    "    P = np.eye(n)  # Permutation matrix\n",
    "    for k in range(n-1):\n",
    "        max_row = np.argmax(abs(A[k:, k])) + k\n",
    "        if A[max_row, k] == 0:\n",
    "            raise ValueError(\"Matrix is singular!\")\n",
    "        A[[k, max_row]] = A[[max_row, k]]\n",
    "        P[[k, max_row]] = P[[max_row, k]]\n",
    "        for i in range(k+1, n):\n",
    "            if A[k, k] != 0.0:\n",
    "                mik = A[i, k] / A[k, k]\n",
    "                A[i, k+1:n] = A[i, k+1:n] - mik * A[k, k+1:n]\n",
    "                A[i, k] = mik\n",
    "    return P, A\n",
    "\n",
    "P, LU_matrix = LU_with_pivoting(A.copy())\n",
    "\n",
    "L = np.tril(LU_matrix, k=-1) + np.eye(len(A))\n",
    "U = np.triu(LU_matrix)\n",
    "\n",
    "b_permuted = P @ b\n",
    "\n",
    "y = forward_substitution(L, b_permuted)\n",
    "\n",
    "x = backward_substitution(U, y)\n",
    "\n",
    "print(\"Solution (currents):\")\n",
    "print(x)\n"
   ]
  },
  {
   "cell_type": "code",
   "execution_count": null,
   "metadata": {},
   "outputs": [],
   "source": []
  }
 ],
 "metadata": {
  "kernelspec": {
   "display_name": "Python 3",
   "language": "python",
   "name": "python3"
  },
  "language_info": {
   "codemirror_mode": {
    "name": "ipython",
    "version": 3
   },
   "file_extension": ".py",
   "mimetype": "text/x-python",
   "name": "python",
   "nbconvert_exporter": "python",
   "pygments_lexer": "ipython3",
   "version": "3.11.9"
  }
 },
 "nbformat": 4,
 "nbformat_minor": 2
}
