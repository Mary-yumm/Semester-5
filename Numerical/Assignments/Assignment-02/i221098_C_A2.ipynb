{
 "cells": [
  {
   "cell_type": "markdown",
   "id": "4d5275fd",
   "metadata": {},
   "source": [
    "# Consider the following"
   ]
  },
  {
   "attachments": {},
   "cell_type": "markdown",
   "id": "8744792a",
   "metadata": {},
   "source": [
    "## Function Definition\n",
    "\n",
    "The function $ f(x)$ is defined as follows:\n",
    "\n",
    "$\n",
    "f(x) = \\cos(x) + x^3 - 0.5\n",
    "$\n",
    "\n",
    "### Description\n",
    "\n",
    "This function combines a trigonometric component, $ \\cos(x) $, with a polynomial component, $ x^3$. The goal is to find the roots of this function, which occur where $ f(x) = 0 $.\n",
    "\n",
    "\n",
    "**Tasks**:\n",
    "1. Use appropriate theorem to determine whether a root exists for the above function. Test different values from -5 to 5 or any other range.\n",
    "2. You must keep the same tolerance value. Choose smallest tolerance value. Choose initial guess as disscused in class.\n",
    "3. Apply the following numerical methods to approximate the root:\n",
    "   - Bisection Method\n",
    "   - Newton-Raphson Method\n",
    "   - Fixed Point Method (incase g(x) exists that assure convergence)\n",
    "   - Secant Method\n",
    "\n",
    "4. You must fill the table given below. "
   ]
  },
  {
   "cell_type": "markdown",
   "id": "66f9dce6",
   "metadata": {},
   "source": [
    "##### Comparison of Numerical Methods: Manual vs SciPy Implementations\n",
    "\n",
    "| Method           | Approximate Root (Manual) | Approximate Root (SciPy) | Iterations (Manual) | Iterations (SciPy) | Notes/Observations                   |\n",
    "|------------------|---------------------------|--------------------------|---------------------|--------------------|--------------------------------------|\n",
    "| Bisection        | -0.6612980365753174          | -0.6612980914076161      | 23                  | 43                  |  SciPy's method requires more iterations but gives a more accurate result, achieving a higher precision. |\n",
    "| Newton-Raphson   | -0.6612980914068          | -0.6612980914066836      | 7                   | 9                 | Both methods give the same result with negligible difference. Newton-Raphson converges quickly, but SciPy's built-in function offers easier implementation and precise control over tolerance.                                     |\n",
    "| Fixed Point      | -0.6612978170158805        | -0.6612980914066836       | 19                  | 5                  | Fixed-point manual implementation is inefficient, taking many iterations. SciPy drastically reduces iteration count due to better handling of error tolerances and improved stopping conditions.                                    |\n",
    "| Secant           | -0.6612980914066836     | -0.661298091406395      | 13                   | 50                  | Both functions give almost the same results. |\n",
    "\n",
    "\n",
    "                 \n",
    "| Summary: all the scipy functions are easier to implement overall as the functions are already written and ready to use. An observation is that the scipy methods requires more iterations due to stricter convergence conditions.  |    \n",
    "|------------------|\n",
    "\n",
    "\n",
    "##### Instructions:\n",
    "- **Manual Implementation**: Implement each method yourself without using external libraries.\n",
    "- **SciPy Implementation**: Use the corresponding `scipy.optimize` functions (e.g., `scipy.optimize.bisect` for Bisection).\n",
    "- **Compare**: Fill in the results for both approaches (manual vs SciPy) for each method.\n",
    "- **Notes/Observations**: Reflect on differences in performance, accuracy, and ease of implementation between your manual solution and the SciPy function.\n"
   ]
  },
  {
   "cell_type": "code",
   "execution_count": 1,
   "id": "215226a6",
   "metadata": {},
   "outputs": [],
   "source": [
    "# All imports here\n",
    "\n",
    "import numpy as np\n",
    "import scipy\n",
    "import math\n",
    "\n"
   ]
  },
  {
   "cell_type": "code",
   "execution_count": 2,
   "id": "78eb61ba",
   "metadata": {},
   "outputs": [],
   "source": [
    "# TODO: Implement only the function above in python f(x) = cos(x) + x^3 - 0.5\n",
    "\n",
    "def ftn(x):\n",
    "    return math.cos(x)+pow(x,3)-0.5\n"
   ]
  },
  {
   "cell_type": "code",
   "execution_count": 3,
   "id": "d828726f",
   "metadata": {},
   "outputs": [],
   "source": [
    "# TODO: Implement the Bisection method for root approximation below\n",
    "\n",
    "def bisection(a, b, tol, f, maxit = 100):  # a,b are the boundary values, tol is the tolerence, f is the function\n",
    "    iteration=1\n",
    "    if f(a) * f(b) < 0:\n",
    "        while abs(b - a) / 2 > tol and iteration < maxit:\n",
    "            \n",
    "            c= (a + b) / 2\n",
    "            if f(a) * f(c) < 0:\n",
    "                b = c\n",
    "            elif f(b) * f(c) < 0:\n",
    "                a = c\n",
    "            else:\n",
    "                break \n",
    "            print('Iteration =', iteration, ', x =', c)\n",
    "            iteration+=1\n",
    "        return c            \n",
    "    else:\n",
    "        print(\"Root does not exist.\")    \n",
    "\n"
   ]
  },
  {
   "cell_type": "code",
   "execution_count": 4,
   "id": "03d3b302",
   "metadata": {},
   "outputs": [],
   "source": [
    "# TODO: Implement the Fixed point method for root approximation below, incase there are suitable g(x) to approximate the fixed point else mention the reason?\n",
    "\n",
    "def g(x):\n",
    "    return np.cbrt(0.5-math.cos(x))\n",
    "  \n",
    "\n",
    "def fixedpoint(g, x0, tol=1.e-6, maxiteration=100):\n",
    "    value = 1.0\n",
    "    iteration = 0\n",
    "    x = x0\n",
    "    while (value > tol and iteration < maxiteration):\n",
    "        iteration += 1\n",
    "        value = x\n",
    "        x = g(x)\n",
    "        value = np.abs(value - x)\n",
    "        print('Iteration =', iteration, ', x =', x)\n",
    "    return x\n",
    "\n"
   ]
  },
  {
   "cell_type": "code",
   "execution_count": 5,
   "id": "e632d336",
   "metadata": {},
   "outputs": [],
   "source": [
    "# TODO: Implement the derivative of the function\n",
    "\n",
    "def derivative_ftn(x):\n",
    "    return -1*math.sin(x)+3*pow(x,2)\n",
    "\n",
    "\n",
    "# TODO: Implement the newton raphson method for root approximation below, choose the initial guess as disscussed in the class. \n",
    "\n",
    "def newton(f, derf, x0, tol = 1.e-6, maxit = 100):\n",
    "    value = tol+1.0\n",
    "    iteration = 0\n",
    "    x = x0\n",
    "    while (value > tol and iteration < maxit):\n",
    "        iteration = iteration + 1\n",
    "        value = x \n",
    "        x = x - f(x)/derf(x)\n",
    "        value = np.abs(value - x) \n",
    "        print(\"Iteration = \",iteration,\", x = \", x)\n",
    "    return x\n"
   ]
  },
  {
   "cell_type": "code",
   "execution_count": 6,
   "id": "da1a6080",
   "metadata": {},
   "outputs": [],
   "source": [
    "# TODO: Implement the secant method for root approximation below\n",
    "\n",
    "def secant(f, x1, x2, tol = 1.e-6, maxit = 100):\n",
    "\n",
    "    value = 1.0\n",
    "    iteration = 0\n",
    "    while (value > tol and iteration < maxit):\n",
    "        xh = x1 # upper limit\n",
    "        xl = x2 # lower limit\n",
    "        iteration = iteration + 1\n",
    "        value = xh\n",
    "        xh = xl - (xl-xh)/(f(xl)-f(xh))*f(xl)\n",
    "        value = np.abs(value - xh)\n",
    "        x1 = x2\n",
    "        x2 = xh\n",
    "        print(\"Iteration = \",iteration,\", x = \", xh)\n",
    "    return xh"
   ]
  },
  {
   "cell_type": "markdown",
   "id": "2600b13b",
   "metadata": {},
   "source": [
    "## Function calls for each numerical method you implemented in above functions"
   ]
  },
  {
   "cell_type": "code",
   "execution_count": 7,
   "id": "501360fb",
   "metadata": {},
   "outputs": [
    {
     "name": "stdout",
     "output_type": "stream",
     "text": [
      "Iteration = 1 , x = 0.0\n",
      "Iteration = 2 , x = -2.5\n",
      "Iteration = 3 , x = -1.25\n",
      "Iteration = 4 , x = -0.625\n",
      "Iteration = 5 , x = -0.9375\n",
      "Iteration = 6 , x = -0.78125\n",
      "Iteration = 7 , x = -0.703125\n",
      "Iteration = 8 , x = -0.6640625\n",
      "Iteration = 9 , x = -0.64453125\n",
      "Iteration = 10 , x = -0.654296875\n",
      "Iteration = 11 , x = -0.6591796875\n",
      "Iteration = 12 , x = -0.66162109375\n",
      "Iteration = 13 , x = -0.660400390625\n",
      "Iteration = 14 , x = -0.6610107421875\n",
      "Iteration = 15 , x = -0.66131591796875\n",
      "Iteration = 16 , x = -0.661163330078125\n",
      "Iteration = 17 , x = -0.6612396240234375\n",
      "Iteration = 18 , x = -0.6612777709960938\n",
      "Iteration = 19 , x = -0.6612968444824219\n",
      "Iteration = 20 , x = -0.6613063812255859\n",
      "Iteration = 21 , x = -0.6613016128540039\n",
      "Iteration = 22 , x = -0.6612992286682129\n",
      "Iteration = 23 , x = -0.6612980365753174\n"
     ]
    },
    {
     "data": {
      "text/plain": [
       "-0.6612980365753174"
      ]
     },
     "execution_count": 7,
     "metadata": {},
     "output_type": "execute_result"
    }
   ],
   "source": [
    "# Test all method here by calling the function you implemented above\n",
    "\n",
    "x0 =1.0\n",
    "tol = 1.e-6\n",
    "a=-5.0\n",
    "b=5.0\n",
    "\n",
    "# Bisection method\n",
    "bisection(a,b,tol,ftn)"
   ]
  },
  {
   "cell_type": "code",
   "execution_count": 8,
   "id": "887c601a",
   "metadata": {},
   "outputs": [
    {
     "name": "stdout",
     "output_type": "stream",
     "text": [
      "Iteration = 1 , x = -0.34285458755347475\n",
      "Iteration = 2 , x = -0.7616255934349674\n",
      "Iteration = 3 , x = -0.6070602505241688\n",
      "Iteration = 4 , x = -0.684935657718925\n",
      "Iteration = 5 , x = -0.6498696015451813\n",
      "Iteration = 6 , x = -0.6665664597476666\n",
      "Iteration = 7 , x = -0.658814232831695\n",
      "Iteration = 8 , x = -0.6624569349701324\n",
      "Iteration = 9 , x = -0.660754768889992\n",
      "Iteration = 10 , x = -0.6615522425245193\n",
      "Iteration = 11 , x = -0.6611790785250296\n",
      "Iteration = 12 , x = -0.6613537942102604\n",
      "Iteration = 13 , x = -0.6612720141081124\n",
      "Iteration = 14 , x = -0.6613102981604085\n",
      "Iteration = 15 , x = -0.6612923771437755\n",
      "Iteration = 16 , x = -0.6613007663201877\n",
      "Iteration = 17 , x = -0.6612968392341063\n",
      "Iteration = 18 , x = -0.6612986775668889\n",
      "Iteration = 19 , x = -0.6612978170158805\n"
     ]
    },
    {
     "data": {
      "text/plain": [
       "-0.6612978170158805"
      ]
     },
     "execution_count": 8,
     "metadata": {},
     "output_type": "execute_result"
    }
   ],
   "source": [
    "# Fixed point method\n",
    "\n",
    "\n",
    "x0 = 1.0   \n",
    "tol = 1.e-6\n",
    "fixedpoint(g, x0, tol)\n"
   ]
  },
  {
   "cell_type": "code",
   "execution_count": 9,
   "id": "8a066e39",
   "metadata": {},
   "outputs": [
    {
     "name": "stdout",
     "output_type": "stream",
     "text": [
      "Iteration =  1 , x =  0.5180503488503926\n",
      "Iteration =  2 , x =  -1.1203848423910965\n",
      "Iteration =  3 , x =  -0.8051204839393744\n",
      "Iteration =  4 , x =  -0.6817435441898928\n",
      "Iteration =  5 , x =  -0.6617967775169805\n",
      "Iteration =  6 , x =  -0.6612983982445905\n",
      "Iteration =  7 , x =  -0.6612980914068\n"
     ]
    },
    {
     "data": {
      "text/plain": [
       "-0.6612980914068"
      ]
     },
     "execution_count": 9,
     "metadata": {},
     "output_type": "execute_result"
    }
   ],
   "source": [
    "# Newton raphson method\n",
    "\n",
    "tol = 1.e-6\n",
    "x0 = 1.0\n",
    "newton(ftn, derivative_ftn, x0, tol)\n",
    "\n"
   ]
  },
  {
   "cell_type": "code",
   "execution_count": 10,
   "id": "fa738bb4",
   "metadata": {},
   "outputs": [
    {
     "name": "stdout",
     "output_type": "stream",
     "text": [
      "Iteration =  1 , x =  0.8278657149773878\n",
      "Iteration =  2 , x =  0.3959784214676031\n",
      "Iteration =  3 , x =  -0.4118829539381009\n",
      "Iteration =  4 , x =  -2.4371266243821927\n",
      "Iteration =  5 , x =  -0.45551235325257844\n",
      "Iteration =  6 , x =  -0.49300758992327415\n",
      "Iteration =  7 , x =  -0.7236941707436606\n",
      "Iteration =  8 , x =  -0.6471467268869273\n",
      "Iteration =  9 , x =  -0.6602517941022099\n",
      "Iteration =  10 , x =  -0.6613166166168581\n",
      "Iteration =  11 , x =  -0.6612980674499926\n",
      "Iteration =  12 , x =  -0.6612980914061356\n",
      "Iteration =  13 , x =  -0.6612980914066836\n"
     ]
    },
    {
     "data": {
      "text/plain": [
       "-0.6612980914066836"
      ]
     },
     "execution_count": 10,
     "metadata": {},
     "output_type": "execute_result"
    }
   ],
   "source": [
    "# Secant method\n",
    "\n",
    "tol = 1.e-6\n",
    "x1 = 2.0    #initial guess 1\n",
    "x2 = 1.0    #initial guess 2\n",
    "secant(ftn, x1, x2, tol)\n"
   ]
  },
  {
   "cell_type": "markdown",
   "id": "57278919",
   "metadata": {},
   "source": [
    "###  Apply all numerical methods above from scipy.optimize and find root for the mentioned function"
   ]
  },
  {
   "cell_type": "code",
   "execution_count": 11,
   "id": "803b56e1",
   "metadata": {},
   "outputs": [
    {
     "data": {
      "text/plain": [
       "(-0.6612980914076161,\n",
       "       converged: True\n",
       "            flag: converged\n",
       "  function_calls: 45\n",
       "      iterations: 43\n",
       "            root: -0.6612980914076161\n",
       "          method: bisect)"
      ]
     },
     "execution_count": 11,
     "metadata": {},
     "output_type": "execute_result"
    }
   ],
   "source": [
    "# Bisection method from scipy.optimize\n",
    "\n",
    "scipy.optimize.bisect(ftn, -5, 5, full_output=True)"
   ]
  },
  {
   "cell_type": "code",
   "execution_count": 12,
   "id": "60f5501d",
   "metadata": {},
   "outputs": [
    {
     "name": "stdout",
     "output_type": "stream",
     "text": [
      "-0.6612980914066836\n"
     ]
    }
   ],
   "source": [
    "# Fixed point method from scipy.optimize  (Reflect on this function and compare it to your manual calculations)\n",
    "x0 = 1.0\n",
    "print(scipy.optimize.fixed_point(g, x0, xtol=1.e-6, maxiter=5))\n"
   ]
  },
  {
   "cell_type": "code",
   "execution_count": 13,
   "id": "fb7e694d",
   "metadata": {},
   "outputs": [
    {
     "data": {
      "text/plain": [
       "(-0.6612980914066836,\n",
       "       converged: True\n",
       "            flag: converged\n",
       "  function_calls: 18\n",
       "      iterations: 9\n",
       "            root: -0.6612980914066836\n",
       "          method: newton)"
      ]
     },
     "execution_count": 13,
     "metadata": {},
     "output_type": "execute_result"
    }
   ],
   "source": [
    "# Newton raphson method from scipy.optimize\n",
    "\n",
    "scipy.optimize.newton(ftn,-5, fprime=derivative_ftn, full_output=True)\n"
   ]
  },
  {
   "cell_type": "code",
   "execution_count": 14,
   "id": "dfe49046",
   "metadata": {},
   "outputs": [
    {
     "data": {
      "text/plain": [
       "      converged: False\n",
       "           flag: convergence error\n",
       " function_calls: 52\n",
       "     iterations: 50\n",
       "           root: -0.661298091406395\n",
       "         method: secant"
      ]
     },
     "execution_count": 14,
     "metadata": {},
     "output_type": "execute_result"
    }
   ],
   "source": [
    "# Secant method  from scipy.optimize\n",
    "x0=1.0\n",
    "x1=2.0\n",
    "#scipy.optimize.newton(ftn, x0, x1=x1)\n",
    "scipy.optimize.root_scalar(ftn, method='secant', x0=x0, x1=x1)\n"
   ]
  }
 ],
 "metadata": {
  "kernelspec": {
   "display_name": "Python 3",
   "language": "python",
   "name": "python3"
  },
  "language_info": {
   "codemirror_mode": {
    "name": "ipython",
    "version": 3
   },
   "file_extension": ".py",
   "mimetype": "text/x-python",
   "name": "python",
   "nbconvert_exporter": "python",
   "pygments_lexer": "ipython3",
   "version": "3.12.3"
  }
 },
 "nbformat": 4,
 "nbformat_minor": 5
}
