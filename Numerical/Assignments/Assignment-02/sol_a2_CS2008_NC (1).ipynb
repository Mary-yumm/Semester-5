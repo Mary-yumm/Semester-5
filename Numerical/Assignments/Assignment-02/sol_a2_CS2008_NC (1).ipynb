{
 "cells": [
  {
   "cell_type": "markdown",
   "id": "295a6d03",
   "metadata": {},
   "source": [
    "# Evaluation A2 (100 Marks)"
   ]
  },
  {
   "cell_type": "markdown",
   "id": "2670229f",
   "metadata": {},
   "source": [
    "<div style=\"color:red;\">\n",
    "\n",
    "\n",
    "## Manual Implementation (20)\n",
    "\n",
    "## SciPy Implementation (30)\n",
    "\n",
    "## Table values (50)\n",
    "\n",
    "</div>\n"
   ]
  },
  {
   "cell_type": "code",
   "execution_count": null,
   "id": "6071fc56",
   "metadata": {},
   "outputs": [],
   "source": []
  },
  {
   "cell_type": "markdown",
   "id": "4d5275fd",
   "metadata": {},
   "source": [
    "# Consider the following"
   ]
  },
  {
   "attachments": {},
   "cell_type": "markdown",
   "id": "8744792a",
   "metadata": {},
   "source": [
    "## Function Definition\n",
    "\n",
    "The function $ f(x)$ is defined as follows:\n",
    "\n",
    "$\n",
    "f(x) = \\cos(x) + x^3 - 0.5\n",
    "$\n",
    "\n",
    "### Description\n",
    "\n",
    "This function combines a trigonometric component, $ \\cos(x) $, with a polynomial component, $ x^3$. The goal is to find the roots of this function, which occur where $ f(x) = 0 $.\n",
    "\n",
    "\n",
    "**Tasks**:\n",
    "1. Use appropriate theorem to determine whether a root exists for the above function. Test different values from -5 to 5 or any other range.\n",
    "2. You must keep the same tolerance value. Choose smallest tolerance value. Choose initial guess as disscused in class.\n",
    "3. Apply the following numerical methods to approximate the root:\n",
    "   - Bisection Method\n",
    "   - Newton-Raphson Method\n",
    "   - Fixed Point Method (incase g(x) exists that assure convergence)\n",
    "   - Secant Method\n",
    "\n",
    "4. You must fill the table given below. "
   ]
  },
  {
   "cell_type": "code",
   "execution_count": null,
   "id": "bd176ec3",
   "metadata": {},
   "outputs": [],
   "source": []
  },
  {
   "cell_type": "markdown",
   "id": "66f9dce6",
   "metadata": {},
   "source": [
    "##### Comparison of Numerical Methods: Manual vs SciPy Implementations\n",
    "\n",
    "| Method                         | Approximate Root (Manual, tol = 1.e-6) | Approximate Root (SciPy, tol = 1.e-6) | Iterations max=50 (Manual) | Iterations max=50 (SciPy)  | Notes/Observations                                                      |\n",
    "|---------------------------------|---------------------------------------|---------------------------------------|----------------------------|----------------------------|-------------------------------------------------------------------------|\n",
    "| Bisection a=-1, b=1             | -0.6612977981567383                   | -0.6612977981567383                   | 20                         | 21                         | SciPy took 1 more iteration than manual but converged to the same root. |\n",
    "| Newton-Raphson with $x_{0}$ = 1 | -0.6612980914068                      | -0.6612980914068                      | 7                          | 7                          | Both implementations converged in 7 iterations to the same root.       |\n",
    "| Fixed Point with $x_{0}$ = 1    | -0.6612978170158805                   | -0.661298091406836                    | 19                         | 10                         | SciPy converged in 10 iterations, much faster than manual.              |\n",
    "| Secant $x_{0}$ = -1, $x_{1}$=1  | -0.661298091406635                    | -0.661298091406635                    | 9                          | 10                         | SciPy took 1 more iteration, but both converged to the same root.       |\n",
    "\n",
    "---\n",
    "\n",
    "##### Instructions:\n",
    "- **Manual Implementation**: Implement each method yourself without using external libraries.\n",
    "- **SciPy Implementation**: Use the corresponding `scipy.optimize` functions (e.g., `scipy.optimize.bisect` for Bisection).\n",
    "- **Compare**: Fill in the results for both approaches (manual vs SciPy) for each method.\n",
    "- **Notes/Observations**: Reflect on differences in performance, accuracy, and ease of implementation between your manual solution and the SciPy function.\n"
   ]
  },
  {
   "cell_type": "markdown",
   "id": "68512db6",
   "metadata": {},
   "source": []
  },
  {
   "cell_type": "code",
   "execution_count": null,
   "id": "b8200de4",
   "metadata": {},
   "outputs": [],
   "source": []
  },
  {
   "cell_type": "code",
   "execution_count": null,
   "id": "7ba7b3da",
   "metadata": {},
   "outputs": [],
   "source": []
  },
  {
   "cell_type": "markdown",
   "id": "4e315dc3",
   "metadata": {},
   "source": [
    "#### Imports"
   ]
  },
  {
   "cell_type": "code",
   "execution_count": 155,
   "id": "215226a6",
   "metadata": {},
   "outputs": [],
   "source": [
    "# All imports here\n",
    "import numpy as np\n",
    "from scipy import optimize as spo\n",
    "import matplotlib.pyplot as plt\n"
   ]
  },
  {
   "cell_type": "code",
   "execution_count": 156,
   "id": "78eb61ba",
   "metadata": {},
   "outputs": [],
   "source": [
    "# TODO: Implement only the function above in python $f(x) = \\cos(x) + x^3 - 0.5$\n",
    "\n",
    "def f(x):\n",
    "    return np.cos(x) + x**3 - 0.5\n"
   ]
  },
  {
   "cell_type": "markdown",
   "id": "6cd54609",
   "metadata": {},
   "source": [
    "#### Initial guess (require in some method) and tolerance value are same for all"
   ]
  },
  {
   "cell_type": "code",
   "execution_count": 157,
   "id": "8e27115f",
   "metadata": {},
   "outputs": [],
   "source": [
    "x0 = 1\n",
    "tol = 1.e-6\n",
    "maxit = 50"
   ]
  },
  {
   "cell_type": "code",
   "execution_count": null,
   "id": "1321b583",
   "metadata": {},
   "outputs": [],
   "source": []
  },
  {
   "cell_type": "code",
   "execution_count": 158,
   "id": "d828726f",
   "metadata": {},
   "outputs": [],
   "source": [
    "# TODO: Implement the Bisection method for root approximation below\n",
    "\n",
    "def bisection_method(func, a, b, tol, max_iter):\n",
    "    if func(a) * func(b) >= 0:\n",
    "        print(\"The function must have opposite signs at a and b.\")\n",
    "        return None\n",
    "    \n",
    "    iteration = 0\n",
    "    while (b - a) / 2.0 > tol and iteration < max_iter:\n",
    "        midpoint = (a + b) / 2.0\n",
    "        if func(midpoint) == 0:  # Found exact root\n",
    "            return midpoint, iteration\n",
    "        elif func(a) * func(midpoint) < 0:\n",
    "            b = midpoint\n",
    "        else:\n",
    "            a = midpoint\n",
    "        iteration += 1\n",
    "    return (a + b) / 2.0, iteration"
   ]
  },
  {
   "cell_type": "code",
   "execution_count": null,
   "id": "a7e5b874",
   "metadata": {},
   "outputs": [],
   "source": []
  },
  {
   "cell_type": "code",
   "execution_count": 159,
   "id": "03d3b302",
   "metadata": {},
   "outputs": [],
   "source": [
    "# TODO: Implement the Fixed point method for root approximation below, incase there are suitable g(x) to approximate the fixed point else mention the reason?\n",
    "\n",
    "def fixedpoint(g, x0, tol=1.e-6, maxit=100):\n",
    "    error = 1.0\n",
    "    iteration = 0\n",
    "    xk = x0\n",
    "    while (error > tol and iteration < maxit):\n",
    "        iteration += 1\n",
    "        error = xk\n",
    "        xk = g(xk)\n",
    "        error = np.abs(error - xk)\n",
    "    print(' Fixed point : iteration =', iteration, ', root =', xk)\n",
    "    return xk"
   ]
  },
  {
   "cell_type": "markdown",
   "id": "feae2bcd",
   "metadata": {},
   "source": [
    "### Testing the $g'(x)$ at x=$x_{0}$ as x= $g(x)$"
   ]
  },
  {
   "cell_type": "markdown",
   "id": "ab782bdb",
   "metadata": {},
   "source": [
    "#### $g(x) = \\sqrt[3]{0.5 - \\cos(x)}$"
   ]
  },
  {
   "cell_type": "markdown",
   "id": "02ad2964",
   "metadata": {},
   "source": [
    "$g'(x) = \\frac{-\\sin(x)}{3 \\cdot (0.5 - \\cos(x))^{\\frac{2}{3}}}$ at x=$x_{0}$ where $x_{0}$ =10"
   ]
  },
  {
   "cell_type": "code",
   "execution_count": 173,
   "id": "771ce2bd",
   "metadata": {},
   "outputs": [
    {
     "data": {
      "text/plain": [
       "np.float64(0.22934020056651935)"
      ]
     },
     "execution_count": 173,
     "metadata": {},
     "output_type": "execute_result"
    }
   ],
   "source": [
    "# Derivative of g: g'(x) = -sin(x) / [3 * (0.5 - cos(x))^(2/3)] at x=x0\n",
    "def g_prime(x):\n",
    "    return -np.sin(x) / (3 * (0.5 - np.cos(x))**(2/3))\n",
    "\n",
    "g_prime(4)"
   ]
  },
  {
   "cell_type": "code",
   "execution_count": 161,
   "id": "f1c26377",
   "metadata": {},
   "outputs": [],
   "source": [
    "# g(x) for the fixed point of the function\n",
    "\n",
    "def g(x):\n",
    "    return np.cbrt(0.5 - np.cos(x))"
   ]
  },
  {
   "cell_type": "markdown",
   "id": "39f56edb",
   "metadata": {},
   "source": [
    "###  The above $g(x)$ will be used for the fixed point"
   ]
  },
  {
   "cell_type": "code",
   "execution_count": null,
   "id": "c663f431",
   "metadata": {},
   "outputs": [],
   "source": []
  },
  {
   "cell_type": "code",
   "execution_count": 162,
   "id": "e632d336",
   "metadata": {},
   "outputs": [],
   "source": [
    "# TODO: Implement the derivative of the function\n",
    "\n",
    "def f_derivative(x):\n",
    "    return (-np.sin(x) + 3 * x**2)\n",
    "\n",
    "# TODO: Implement the newton raphson method for root approximation below, choose the initial guess as disscussed in the class. \n",
    "def newton(f, df, x0, tol = 1.e-6, maxit = 100):\n",
    "    # f = the function f(x)\n",
    "    # df = the derivative of f(x)\n",
    "    # x0 = the initial guess of the solution\n",
    "    # tol = tolerance for the absolute error\n",
    "    # maxit = maximum number of iterations\n",
    "    err = tol+1.0\n",
    "    iteration = 0\n",
    "    xk = x0\n",
    "    while (err > tol and iteration < maxit):\n",
    "        iteration = iteration + 1\n",
    "        err = xk # store previous approximation to err\n",
    "        xk = xk - f(xk)/df(xk) # Newton's iteration\n",
    "        err = np.abs(err - xk) # compute the new error\n",
    "    print(f' Newton : iteration = {iteration} and root is = {xk}', )\n",
    "    return xk"
   ]
  },
  {
   "cell_type": "code",
   "execution_count": 163,
   "id": "da1a6080",
   "metadata": {},
   "outputs": [],
   "source": [
    "# TODO: Implement the secant method for root approximation below\n",
    "\n",
    "def secant_method(func, x0, x1, tol, max_iter):\n",
    "    iteration = 0\n",
    "    while iteration < max_iter:\n",
    "        f_x0 = func(x0)\n",
    "        f_x1 = func(x1)\n",
    "        \n",
    "        if f_x1 - f_x0 == 0:  # Avoid division by zero\n",
    "            print(\"Function values at x0 and x1 are the same. No solution found.\")\n",
    "            return None\n",
    "        \n",
    "        # Secant formula\n",
    "        x_next = x1 - f_x1 * (x1 - x0) / (f_x1 - f_x0)\n",
    "        \n",
    "        if abs(x_next - x1) < tol:  # Convergence condition\n",
    "            return x_next, iteration\n",
    "        \n",
    "        # Update values for next iteration\n",
    "        x0, x1 = x1, x_next\n",
    "        iteration += 1\n",
    "    return x_next, iteration\n",
    "\n",
    "\n"
   ]
  },
  {
   "cell_type": "markdown",
   "id": "2600b13b",
   "metadata": {},
   "source": [
    "<h3 style=\"color:green\"> Function calls for each numerical method you implemented in above functions</h3>"
   ]
  },
  {
   "cell_type": "code",
   "execution_count": 164,
   "id": "748282bf",
   "metadata": {},
   "outputs": [],
   "source": [
    "# Test all method here by calling the function you implemented above"
   ]
  },
  {
   "cell_type": "code",
   "execution_count": 165,
   "id": "501360fb",
   "metadata": {},
   "outputs": [
    {
     "name": "stdout",
     "output_type": "stream",
     "text": [
      "Bisection: Iterations = 20, Root = -0.6612977981567383\n",
      " Fixed point : iteration = 19 , root = -0.6612978170158805\n",
      " Newton : iteration = 7 and root is = -0.6612980914068\n",
      "Secant Method: Iterations = 9, Root = -0.661298091406635\n"
     ]
    }
   ],
   "source": [
    "# Bisection method \n",
    "\n",
    "a, b = -1, 1\n",
    "\n",
    "# Call the Bisection Method\n",
    "bisection_root, bisection_iterations = bisection_method(f, a, b, tol, maxit)\n",
    "print(f\"Bisection: Iterations = {bisection_iterations}, Root = {bisection_root}\")\n",
    "\n",
    "#=============================================\n",
    "# Run the fixed-point iteration\n",
    "\n",
    "x = fixedpoint(g, x0, tol, maxit)\n",
    "#=============================================\n",
    "\n",
    "x = newton(f, f_derivative, x0, tol, maxit)\n",
    "#=============================================\n",
    "\n",
    "# Secant method\n",
    "\n",
    "# guesses \n",
    "initial_guess1 = a \n",
    "initial_guess2 = b  \n",
    "\n",
    "secant_root, secant_iterations = secant_method(f, initial_guess1, initial_guess2, tol, maxit)\n",
    "print(f\"Secant Method: Iterations = {secant_iterations}, Root = {secant_root}\")\n",
    "#================================================\n",
    "\n"
   ]
  },
  {
   "cell_type": "code",
   "execution_count": null,
   "id": "7d6c8138",
   "metadata": {},
   "outputs": [],
   "source": []
  },
  {
   "cell_type": "code",
   "execution_count": null,
   "id": "37ea0a89",
   "metadata": {},
   "outputs": [],
   "source": []
  },
  {
   "cell_type": "code",
   "execution_count": null,
   "id": "ad007c02",
   "metadata": {},
   "outputs": [],
   "source": []
  },
  {
   "cell_type": "code",
   "execution_count": null,
   "id": "0086a0c1",
   "metadata": {},
   "outputs": [],
   "source": []
  },
  {
   "cell_type": "markdown",
   "id": "57278919",
   "metadata": {},
   "source": [
    "<h3 style=\"color:green\"> All numerical methods above from scipy.optimize </h3>"
   ]
  },
  {
   "cell_type": "markdown",
   "id": "0aee6b52",
   "metadata": {},
   "source": [
    "<ul style=\"color:green\">\n",
    "    <li>scipy.optimize.bisect</li>\n",
    "    <li>scipy.optimize.fixed_point</li>\n",
    "    <li>scipy.optimize.newton</li>\n",
    "    <li>scipy.optimize.newton (for Secant Method)</li>\n",
    "</ul>\n"
   ]
  },
  {
   "cell_type": "code",
   "execution_count": 166,
   "id": "50a80b1d",
   "metadata": {},
   "outputs": [
    {
     "name": "stdout",
     "output_type": "stream",
     "text": [
      "Bisection Method (scipy): Root = -0.6612977981567383 with iterations 21\n",
      "Fixed point x=: -0.6612980914066836 with iterations 10\n",
      "Newton-Raphson Method (scipy): Root = -0.6612980914068 with iterations 7\n",
      "Secant Method: Root = -0.661298091406635, with iterations 10\n"
     ]
    }
   ],
   "source": [
    "#===============================================\n",
    "a, b = -1, 1  # Interval where the function changes sign\n",
    "\n",
    "# Apply the Bisection Method\n",
    "bisection_root, R1 = spo.bisect(f, a, b, full_output=True,xtol=tol, maxiter=maxit)\n",
    "print(f\"Bisection Method (scipy): Root = {bisection_root} with iterations {R1.iterations}\")\n",
    "\n",
    "#===============================================\n",
    "#===============================================\n",
    "#===============================================\n",
    "\n",
    "# Fixed point method from scipy.optimize  (Reflect on this function and compare it to your manual calculations)\n",
    "\n",
    "# Initialize a global variable to track iterations as there is no option in fixed point i.e full_output...\n",
    "iteration_count = 0\n",
    "\n",
    "# Define a wrapper function that tracks iterations\n",
    "def g_with_iterations(x):\n",
    "    global iteration_count\n",
    "    iteration_count += 1\n",
    "    return np.cbrt(0.5 - np.cos(x))\n",
    "\n",
    "# Reset iteration counter\n",
    "iteration_count = 0\n",
    "\n",
    "result = spo.fixed_point(g_with_iterations, x0, xtol=tol, maxiter=maxit)\n",
    "\n",
    "print(f\"Fixed point x=: {result} with iterations {iteration_count}\")\n",
    "\n",
    "#==============================================\n",
    "#==============================================\n",
    "#==============================================\n",
    "\n",
    "# Newton raphson method from scipy.optimize\n",
    "\n",
    "newton_root ,R2 = spo.newton(f, x0, fprime=f_derivative, full_output=True,tol=tol, maxiter=maxit)\n",
    "\n",
    "print(f\"Newton-Raphson Method (scipy): Root = {newton_root} with iterations {R2.iterations}\")\n",
    "\n",
    "\n",
    "#==============================================\n",
    "#==============================================\n",
    "#==============================================\n",
    "\n",
    "# Secant method  from scipy.optimize\n",
    "\n",
    "secant_root, R3 = spo.newton(f, initial_guess1, x1=initial_guess2, full_output=True, tol=tol,maxiter=maxit)\n",
    "print(f\"Secant Method: Root = {secant_root}, with iterations {R3.iterations}\")\n",
    "\n",
    "\n"
   ]
  },
  {
   "cell_type": "code",
   "execution_count": null,
   "id": "eebcf65d",
   "metadata": {},
   "outputs": [],
   "source": []
  },
  {
   "cell_type": "code",
   "execution_count": null,
   "id": "e4b47537",
   "metadata": {},
   "outputs": [],
   "source": []
  },
  {
   "cell_type": "code",
   "execution_count": null,
   "id": "e45a0a95",
   "metadata": {},
   "outputs": [],
   "source": []
  }
 ],
 "metadata": {
  "kernelspec": {
   "display_name": "Python 3 (ipykernel)",
   "language": "python",
   "name": "python3"
  },
  "language_info": {
   "codemirror_mode": {
    "name": "ipython",
    "version": 3
   },
   "file_extension": ".py",
   "mimetype": "text/x-python",
   "name": "python",
   "nbconvert_exporter": "python",
   "pygments_lexer": "ipython3",
   "version": "3.12.5"
  }
 },
 "nbformat": 4,
 "nbformat_minor": 5
}
