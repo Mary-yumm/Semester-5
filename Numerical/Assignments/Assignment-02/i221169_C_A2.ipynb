{
 "cells": [
  {
   "cell_type": "markdown",
   "id": "4d5275fd",
   "metadata": {},
   "source": [
    "# Consider the following"
   ]
  },
  {
   "attachments": {},
   "cell_type": "markdown",
   "id": "8744792a",
   "metadata": {},
   "source": [
    "## Function Definition\n",
    "\n",
    "The function $ f(x)$ is defined as follows:\n",
    "\n",
    "$\n",
    "f(x) = \\cos(x) + x^3 - 0.5\n",
    "$\n",
    "\n",
    "### Description\n",
    "\n",
    "This function combines a trigonometric component, $ \\cos(x) $, with a polynomial component, $ x^3$. The goal is to find the roots of this function, which occur where $ f(x) = 0 $.\n",
    "\n",
    "\n",
    "**Tasks**:\n",
    "1. Use appropriate theorem to determine whether a root exists for the above function. Test different values from -5 to 5 or any other range.\n",
    "2. You must keep the same tolerance value. Choose smallest tolerance value. Choose initial guess as disscused in class.\n",
    "3. Apply the following numerical methods to approximate the root:\n",
    "   - Bisection Method\n",
    "   - Newton-Raphson Method\n",
    "   - Fixed Point Method (incase g(x) exists that assure convergence)\n",
    "   - Secant Method\n",
    "\n",
    "4. You must fill the table given below. "
   ]
  },
  {
   "cell_type": "markdown",
   "id": "66f9dce6",
   "metadata": {},
   "source": [
    "##### Comparison of Numerical Methods: Manual vs SciPy Implementations\n",
    "\n",
    "| Method           | Approximate Root (Manual) | Approximate Root (SciPy) | Iterations (Manual) | Iterations (SciPy) | Notes/Observations                  |\n",
    "|------------------|---------------------------|--------------------------|---------------------|--------------------|--------------------------------------|\n",
    "| Bisection        | -0.6612986326217651       | -0.6612980914076161      | 24                   | 43                 | - **Performance:** Manual is better. <br> - **Accuracy**: Both are accurate. <br>- **Ease of Implementation:** SciPy is better.                                   |\n",
    "| Newton-Raphson   | -0.6612980914068          | -0.6612980914068         | 7                   | 7                  | - **Performance:** Equal. <br> - **Accuracy:** Both are accurate. <br> - **Ease of Implementation:** SciPy is better.                                    |\n",
    "| Fixed Point      | -0.6612978170158805       | -0.6612980914066836      | 19                   | 5                  | - **Performance:** SciPy is better. <br> - **Accuracy:** Both are accurate. <br> - **Ease of Implementation:** SciPy is easier.                                    |\n",
    "| Secant           | -0.661298091406395        | -0.661298091406682       | 50                   | 9                  | - **Performance:** SciPy is better. <br> - **Accuracy:** Both are accurate. <br> - **Ease of Implementation:** SciPy is easier.                                 |\n",
    "\n",
    "---\n",
    "\n",
    "\n",
    "\n",
    "\n",
    "\n",
    "\n",
    "\n",
    "\n",
    "##### Instructions:\n",
    "- **Manual Implementation**: Implement each method yourself without using external libraries.\n",
    "- **SciPy Implementation**: Use the corresponding `scipy.optimize` functions (e.g., `scipy.optimize.bisect` for Bisection).\n",
    "- **Compare**: Fill in the results for both approaches (manual vs SciPy) for each method.\n",
    "- **Notes/Observations**: Reflect on differences in performance, accuracy, and ease of implementation between your manual solution and the SciPy function.\n"
   ]
  },
  {
   "cell_type": "code",
   "execution_count": 1,
   "id": "215226a6",
   "metadata": {},
   "outputs": [],
   "source": [
    "# All imports here\n",
    "\n",
    "import numpy as np"
   ]
  },
  {
   "cell_type": "code",
   "execution_count": 2,
   "id": "78eb61ba",
   "metadata": {},
   "outputs": [],
   "source": [
    "# TODO: Implement only the function above in python $f(x) = \\cos(x) + x^3 - 0.5$\n",
    "\n",
    "def f(x):\n",
    "    y = np.cos(x) + x**3 - 0.5\n",
    "    return y\n",
    "\n"
   ]
  },
  {
   "cell_type": "code",
   "execution_count": 57,
   "id": "d828726f",
   "metadata": {},
   "outputs": [],
   "source": [
    "# TODO: Implement the Bisection method for root approximation below\n",
    "\n",
    "def bisection(f, a, b, tol = 1.e-6):\n",
    "    iteration = 0 #initialize counter iteration\n",
    "    if (f(a) * f(b) < 0.0): # check if there is a root\n",
    "        while ((b-a) > tol): # check if the end-points converge\n",
    "            iteration = iteration + 1\n",
    "            x = (a + b)/2\n",
    "            if (f(a) * f(x) < 0.0):\n",
    "                b = x\n",
    "            elif (f(x) * f(b) < 0.0):\n",
    "                a = x\n",
    "            else:\n",
    "                break\n",
    "    else:\n",
    "        print('failure') \n",
    "    print(\"No of iterations: \",iteration)\n",
    "    return x "
   ]
  },
  {
   "cell_type": "code",
   "execution_count": 58,
   "id": "03d3b302",
   "metadata": {},
   "outputs": [],
   "source": [
    "# TODO: Implement the Fixed point method for root approximation below, incase there are suitable g(x) to approximate the fixed point else mention the reason?\n",
    "def g(x):\n",
    "    return np.cbrt(0.5-np.cos(x))\n",
    "def fixedpoint(g, x0, tol = 1.e-6, maxit = 100):\n",
    "    error = 1.0\n",
    "    iteration = 0\n",
    "    xk = x0\n",
    "    while (error > tol and iteration < maxit):\n",
    "        iteration = iteration + 1\n",
    "        error = xk\n",
    "        xk = g(xk)\n",
    "        error = np.abs(error - xk)\n",
    "    \n",
    "    print(\"No of iterations: \",iteration)\n",
    "    return xk"
   ]
  },
  {
   "cell_type": "code",
   "execution_count": 60,
   "id": "e632d336",
   "metadata": {},
   "outputs": [],
   "source": [
    "# TODO: Implement the derivative of the function\n",
    "def df(x):\n",
    "    y = -np.sin(x) + 3*x**2\n",
    "    return y\n",
    "\n",
    "# TODO: Implement the newton raphson method for root approximation below, choose the initial guess as disscussed in the class. \n",
    "\n",
    "def newton(f, df, x0, tol = 1.e-6, maxit = 100):\n",
    "    err = tol+1.0\n",
    "    iteration = 0\n",
    "    xk = x0\n",
    "    while (err > tol and iteration < maxit):\n",
    "        iteration = iteration + 1\n",
    "        err = xk # store previous approximation to err\n",
    "        xk = xk - f(xk)/df(xk) # Newton's iteration\n",
    "        err = np.abs(err - xk) # compute the new error\n",
    "        \n",
    "    print(\"No of iterations: \",iteration)\n",
    "    return xk"
   ]
  },
  {
   "cell_type": "code",
   "execution_count": 61,
   "id": "da1a6080",
   "metadata": {},
   "outputs": [],
   "source": [
    "# TODO: Implement the secant method for root approximation below\n",
    "\n",
    "def secant(f, x1, x2, tol = 1.e-6, maxit = 100):\n",
    "    err = 1.0\n",
    "    iteration = 0\n",
    "    while (err > tol and iteration < maxit):\n",
    "        xk1 = x1\n",
    "        xk = x2\n",
    "        iteration = iteration + 1\n",
    "        err = xk1\n",
    "        xk1 = xk - (xk-xk1)/(f(xk)-f(xk1))*f(xk)\n",
    "        err = np.abs(err - xk1)\n",
    "        x1 = x2\n",
    "        x2 = xk1\n",
    "\n",
    "    print(\"No of iterations: \",iteration)\n",
    "    return xk1"
   ]
  },
  {
   "cell_type": "markdown",
   "id": "2600b13b",
   "metadata": {},
   "source": [
    "## Function calls for each numerical method you implemented in above functions"
   ]
  },
  {
   "cell_type": "code",
   "execution_count": 18,
   "id": "748282bf",
   "metadata": {},
   "outputs": [],
   "source": [
    "# Test all method here by calling the function you implemented above\n",
    "\n",
    "\n",
    "tol =  1e-6\n",
    "a=-5\n",
    "b=5\n",
    "x0=1\n",
    "x1=2\n",
    "maxit=50"
   ]
  },
  {
   "cell_type": "code",
   "execution_count": 62,
   "id": "501360fb",
   "metadata": {},
   "outputs": [
    {
     "name": "stdout",
     "output_type": "stream",
     "text": [
      "No of iterations:  24\n",
      "The aproximate solution is:  -0.6612986326217651\n",
      "And the error is:  -1.0424281993715034e-06\n"
     ]
    }
   ],
   "source": [
    "# Bisection method\n",
    "\n",
    "x = bisection(f,a,b,tol)\n",
    "\n",
    "print('The aproximate solution is: ', x)\n",
    "print('And the error is: ', f(x))\n"
   ]
  },
  {
   "cell_type": "code",
   "execution_count": 63,
   "id": "887c601a",
   "metadata": {},
   "outputs": [
    {
     "name": "stdout",
     "output_type": "stream",
     "text": [
      "No of iterations:  19\n",
      "The aproximate solution is:  -0.6612978170158805\n",
      "And the value f(x) is:  5.285004660571246e-07\n"
     ]
    }
   ],
   "source": [
    "# Fixed point method\n",
    "\n",
    "x = fixedpoint(g,x0,tol,maxit)\n",
    "print('The aproximate solution is: ', x)\n",
    "print('And the value f(x) is: ', f(x))"
   ]
  },
  {
   "cell_type": "code",
   "execution_count": 64,
   "id": "8a066e39",
   "metadata": {},
   "outputs": [
    {
     "name": "stdout",
     "output_type": "stream",
     "text": [
      "No of iterations:  7\n",
      "The aproximate solution is:  -0.6612980914068\n",
      "And the error is:  -2.2398749521812533e-13\n"
     ]
    }
   ],
   "source": [
    "# Newton raphson method\n",
    "\n",
    "x = newton(f,df,x0,tol,maxit)\n",
    "print('The aproximate solution is: ', x)\n",
    "print('And the error is: ', f(x))"
   ]
  },
  {
   "cell_type": "code",
   "execution_count": 65,
   "id": "fa738bb4",
   "metadata": {},
   "outputs": [
    {
     "name": "stdout",
     "output_type": "stream",
     "text": [
      "No of iterations:  50\n",
      "The approximate solution is:  -0.661298091406395\n",
      "And the error is:  5.559996907322784e-13\n"
     ]
    }
   ],
   "source": [
    "# Secant method\n",
    "\n",
    "x = secant(f,x0,x1,tol,maxit)\n",
    "print('The approximate solution is: ', x)\n",
    "print('And the error is: ', f(x))\n"
   ]
  },
  {
   "cell_type": "markdown",
   "id": "57278919",
   "metadata": {},
   "source": [
    "###  Apply all numerical methods above from scipy.optimize and find root for the mentioned function"
   ]
  },
  {
   "cell_type": "code",
   "execution_count": 28,
   "id": "e2f6f02f",
   "metadata": {},
   "outputs": [],
   "source": [
    "import scipy.optimize as spo\n"
   ]
  },
  {
   "cell_type": "code",
   "execution_count": 36,
   "id": "803b56e1",
   "metadata": {},
   "outputs": [
    {
     "name": "stdout",
     "output_type": "stream",
     "text": [
      "(-0.6612980914076161,       converged: True\n",
      "           flag: converged\n",
      " function_calls: 45\n",
      "     iterations: 43\n",
      "           root: -0.6612980914076161\n",
      "         method: bisect)\n"
     ]
    }
   ],
   "source": [
    "# Bisection method from scipy.optimize\n",
    "\n",
    "x = spo.bisect(f, a, b, full_output=True)\n",
    "print(x)"
   ]
  },
  {
   "cell_type": "code",
   "execution_count": 72,
   "id": "60f5501d",
   "metadata": {},
   "outputs": [
    {
     "name": "stdout",
     "output_type": "stream",
     "text": [
      "-0.6612980914066836\n"
     ]
    }
   ],
   "source": [
    "# Fixed point method from scipy.optimize  (Reflect on this function and compare it to your manual calculations)\n",
    "\n",
    "x = spo.fixed_point(g, x0, (), tol, maxit)\n",
    "\n",
    "print(x)"
   ]
  },
  {
   "cell_type": "code",
   "execution_count": 43,
   "id": "fb7e694d",
   "metadata": {},
   "outputs": [
    {
     "name": "stdout",
     "output_type": "stream",
     "text": [
      "(np.float64(-0.6612980914068),       converged: True\n",
      "           flag: converged\n",
      " function_calls: 14\n",
      "     iterations: 7\n",
      "           root: -0.6612980914068\n",
      "         method: newton)\n"
     ]
    }
   ],
   "source": [
    "# Newton raphson method from scipy.optimize\n",
    "\n",
    "x = spo.newton(f, x0, df, tol=tol, maxiter=maxit,full_output=True)\n",
    "print(x)"
   ]
  },
  {
   "cell_type": "code",
   "execution_count": 73,
   "id": "dfe49046",
   "metadata": {},
   "outputs": [
    {
     "name": "stdout",
     "output_type": "stream",
     "text": [
      "(np.float64(-0.661298091406682),       converged: True\n",
      "           flag: converged\n",
      " function_calls: 10\n",
      "     iterations: 9\n",
      "           root: -0.661298091406682\n",
      "         method: secant)\n"
     ]
    }
   ],
   "source": [
    "# Secant method  from scipy.optimize\n",
    "xi=0.5\n",
    "xf= 0.6\n",
    "x = spo.newton(f,xi,x1=xf,fprime=None,full_output=True)\n",
    "print(x)\n"
   ]
  }
 ],
 "metadata": {
  "kernelspec": {
   "display_name": "Python 3 (ipykernel)",
   "language": "python",
   "name": "python3"
  },
  "language_info": {
   "codemirror_mode": {
    "name": "ipython",
    "version": 3
   },
   "file_extension": ".py",
   "mimetype": "text/x-python",
   "name": "python",
   "nbconvert_exporter": "python",
   "pygments_lexer": "ipython3",
   "version": "3.11.9"
  }
 },
 "nbformat": 4,
 "nbformat_minor": 5
}
